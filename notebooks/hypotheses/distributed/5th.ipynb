{
 "cells": [
  {
   "cell_type": "code",
   "execution_count": 77,
   "metadata": {},
   "outputs": [
    {
     "name": "stdout",
     "output_type": "stream",
     "text": [
      "Using Spark located in /usr/local/spark/.\n"
     ]
    }
   ],
   "source": [
    "import findspark, sys\n",
    "\n",
    "# Locate the Spark installation (add pyspark to sys.path, see https://github.com/minrk/findspark#readme)\n",
    "findspark.init()\n",
    "print(f'Using Spark located in {findspark.find()}.')\n",
    "\n",
    "from pyspark.sql import SparkSession\n",
    "\n",
    "# Create or get the Spark session (singleton) and the underlying Spark context\n",
    "spark = SparkSession.builder.getOrCreate()"
   ]
  },
  {
   "cell_type": "code",
   "execution_count": 78,
   "metadata": {},
   "outputs": [],
   "source": [
    "import pyspark as ps, nltk, pymongo, pandas as pd, re, sklearn, operator, numpy as np, seaborn as sb\n",
    "from pyspark.sql.functions import udf, col, size\n",
    "from pyspark.sql.types import BooleanType, DoubleType, LongType, StringType, StructField, StructType, IntegerType, ArrayType\n",
    "\n",
    "from pyspark.ml.feature import Tokenizer, CountVectorizer, StopWordsRemover, VectorAssembler, StandardScaler\n",
    "from pyspark.ml.classification import LogisticRegression, LinearSVC\n",
    "from pyspark.mllib.evaluation import MulticlassMetrics, BinaryClassificationMetrics\n",
    "\n",
    "from pyspark.sql import functions as F, Window"
   ]
  },
  {
   "cell_type": "markdown",
   "metadata": {},
   "source": [
    "# Fifth Hypothesis:\n",
    "\n",
    "In the following notebook the following hypothesis, already analyzed in local (using standard python), will be replicated on the Big Data source located in the HDFS:\n",
    " - **Does there exist a relationship between the text of the review and the number of *votes up* that it receives? Can we predict this value with a Machine Learning model?**"
   ]
  },
  {
   "cell_type": "markdown",
   "metadata": {},
   "source": [
    "## Correlation between the text of the review and the votes up\n",
    "\n",
    "We want to start with an easy model that just considers the text of the review and the votes up, in order to understand if there is a correlation between those two features. <br>\n",
    "If the overall accuracy of that simple model is good enough we'll stop considering it as the optimal one, otherwise we'll add new reasonable features to the model in order to increase the obtained performances."
   ]
  },
  {
   "cell_type": "markdown",
   "metadata": {},
   "source": [
    "### Import reviews data from HDFS & select relevant features to perform the analysis"
   ]
  },
  {
   "cell_type": "code",
   "execution_count": 79,
   "metadata": {},
   "outputs": [],
   "source": [
    "# Define the schema for the base reviews dataset\n",
    "base_reviews_schema = StructType([\n",
    "    #StructField('base_review_id', LongType(), True),\n",
    "    StructField('steamid', LongType(), True),\n",
    "    StructField('appid', LongType(), True),\n",
    "    StructField('voted_up', BooleanType(), True),\n",
    "    StructField('votes_up', LongType(), True),\n",
    "    StructField('votes_funny', LongType(), True),\n",
    "    StructField('weighted_vote_score', DoubleType(), True),\n",
    "    StructField('playtime_forever', LongType(), True),\n",
    "    StructField('playtime_at_review', LongType(), True),\n",
    "    StructField('num_games_owned', LongType(), True),\n",
    "    StructField('num_reviews', LongType(), True),\n",
    "    StructField('review', StringType(), True),\n",
    "    StructField('unix_timestamp_created', LongType(), True),\n",
    "    StructField('unix_timestamp_updated', LongType(), True)\n",
    "])\n",
    "\n",
    "# Read the base reviews dataset from HDFS\n",
    "base_reviews_df = spark.read.csv(\n",
    "    path='hdfs://localhost:54310/final_project/data/base_reviews',\n",
    "    schema=base_reviews_schema,\n",
    "    escape='\"',\n",
    "    header=True,\n",
    "    ignoreTrailingWhiteSpace=True,\n",
    "    mode='FAILFAST',\n",
    "    multiLine=True,\n",
    "    unescapedQuoteHandling='STOP_AT_CLOSING_QUOTE'\n",
    ").to_pandas_on_spark()"
   ]
  },
  {
   "cell_type": "code",
   "execution_count": 80,
   "metadata": {},
   "outputs": [
    {
     "data": {
      "text/html": [
       "<div>\n",
       "<style scoped>\n",
       "    .dataframe tbody tr th:only-of-type {\n",
       "        vertical-align: middle;\n",
       "    }\n",
       "\n",
       "    .dataframe tbody tr th {\n",
       "        vertical-align: top;\n",
       "    }\n",
       "\n",
       "    .dataframe thead th {\n",
       "        text-align: right;\n",
       "    }\n",
       "</style>\n",
       "<table border=\"1\" class=\"dataframe\">\n",
       "  <thead>\n",
       "    <tr style=\"text-align: right;\">\n",
       "      <th></th>\n",
       "      <th>review</th>\n",
       "      <th>votes_up</th>\n",
       "    </tr>\n",
       "  </thead>\n",
       "  <tbody>\n",
       "    <tr>\n",
       "      <th>0</th>\n",
       "      <td>best gameplay ever created</td>\n",
       "      <td>0</td>\n",
       "    </tr>\n",
       "    <tr>\n",
       "      <th>1</th>\n",
       "      <td>Timeless. Thank you volvo.</td>\n",
       "      <td>0</td>\n",
       "    </tr>\n",
       "    <tr>\n",
       "      <th>2</th>\n",
       "      <td>this game literally made me love guns and fps ...</td>\n",
       "      <td>0</td>\n",
       "    </tr>\n",
       "    <tr>\n",
       "      <th>3</th>\n",
       "      <td>If this gets a rework in 2021 it's going to be...</td>\n",
       "      <td>0</td>\n",
       "    </tr>\n",
       "    <tr>\n",
       "      <th>4</th>\n",
       "      <td>ok</td>\n",
       "      <td>0</td>\n",
       "    </tr>\n",
       "  </tbody>\n",
       "</table>\n",
       "</div>"
      ],
      "text/plain": [
       "                                              review  votes_up\n",
       "0                         best gameplay ever created         0\n",
       "1                         Timeless. Thank you volvo.         0\n",
       "2  this game literally made me love guns and fps ...         0\n",
       "3  If this gets a rework in 2021 it's going to be...         0\n",
       "4                                                 ok         0"
      ]
     },
     "execution_count": 80,
     "metadata": {},
     "output_type": "execute_result"
    }
   ],
   "source": [
    "df = base_reviews_df\n",
    "df[['review', 'votes_up']].to_spark().limit(5).toPandas()"
   ]
  },
  {
   "cell_type": "markdown",
   "metadata": {},
   "source": [
    "### Remove empty text reviews\n",
    "\n",
    "We saw in the local analysis that some reviews have an associated empty text, even in this case we'll remove those reviews."
   ]
  },
  {
   "cell_type": "code",
   "execution_count": 81,
   "metadata": {},
   "outputs": [
    {
     "name": "stdout",
     "output_type": "stream",
     "text": [
      "Removed reviews: 24271\n"
     ]
    }
   ],
   "source": [
    "tot_len = df.size\n",
    "# Remove NaN elements in dataframe\n",
    "df = df.dropna(subset=\"review\")\n",
    "print(f\"Removed reviews: {tot_len - df.size}\")"
   ]
  },
  {
   "cell_type": "markdown",
   "metadata": {},
   "source": [
    "### Divide reviews in two classes: useful & not useful\n",
    "\n",
    "Since this hypothesis can be used by Steam in order to display, for users that are interested on buying a new game, only the potential useful reviews (the ones having more than N votes up) the idea is to consider only useful and not useful reviews and build a model that is capable of recognizing those two classes. <br>\n",
    "Since we do not want our model to be biased towards one of the two classes, we'll consider the same number of samples for the two different classes (useful/not useful review).<br>\n",
    "For us a good review is when its associated *votes_up* has a value greater than the M percentile of the overall *votes_up* distribution."
   ]
  },
  {
   "cell_type": "code",
   "execution_count": 82,
   "metadata": {},
   "outputs": [
    {
     "data": {
      "text/plain": [
       "8.0"
      ]
     },
     "execution_count": 82,
     "metadata": {},
     "output_type": "execute_result"
    }
   ],
   "source": [
    "votes_up_for_useful_review = df.votes_up.quantile([.99])[0]\n",
    "votes_up_for_useful_review"
   ]
  },
  {
   "cell_type": "code",
   "execution_count": 83,
   "metadata": {},
   "outputs": [],
   "source": [
    "ps.pandas.set_option('compute.ops_on_diff_frames', True)\n",
    "useful_reviews_df = df[df['votes_up'] >= votes_up_for_useful_review]\n",
    "not_useful_reviews_df = df[df['votes_up'] < votes_up_for_useful_review].sample(frac=(useful_reviews_df.size/df.size), random_state=0)\n",
    "ps.pandas.reset_option('compute.ops_on_diff_frames')\n",
    "# NOTE: Unfortunately the len of the two dataframes is not equal\n",
    "restricted_df = ps.pandas.concat([useful_reviews_df, not_useful_reviews_df])"
   ]
  },
  {
   "cell_type": "code",
   "execution_count": 84,
   "metadata": {},
   "outputs": [
    {
     "data": {
      "text/html": [
       "<div>\n",
       "<style scoped>\n",
       "    .dataframe tbody tr th:only-of-type {\n",
       "        vertical-align: middle;\n",
       "    }\n",
       "\n",
       "    .dataframe tbody tr th {\n",
       "        vertical-align: top;\n",
       "    }\n",
       "\n",
       "    .dataframe thead th {\n",
       "        text-align: right;\n",
       "    }\n",
       "</style>\n",
       "<table border=\"1\" class=\"dataframe\">\n",
       "  <thead>\n",
       "    <tr style=\"text-align: right;\">\n",
       "      <th></th>\n",
       "      <th>review</th>\n",
       "      <th>votes_up</th>\n",
       "      <th>useful</th>\n",
       "    </tr>\n",
       "  </thead>\n",
       "  <tbody>\n",
       "    <tr>\n",
       "      <th>0</th>\n",
       "      <td>⠀⠀⠀⠀⠀⠀⠀⠀⠀⠀⠀⠀⠀⠀⣀⣀⣀⣠⣤⣤⣄⣀⣀⣀⡀⠀⠀⠀⠀⠀⠀⠀⠀⠀⠀⠀⠀⠀⠀⠀\\n⠀⠀⠀⠀...</td>\n",
       "      <td>16</td>\n",
       "      <td>1</td>\n",
       "    </tr>\n",
       "    <tr>\n",
       "      <th>1</th>\n",
       "      <td>GAME OF MY CHILDHOOD\\nRECCOMEND IT \\nLEGENT NE...</td>\n",
       "      <td>11</td>\n",
       "      <td>1</td>\n",
       "    </tr>\n",
       "    <tr>\n",
       "      <th>2</th>\n",
       "      <td>Legendary game, watched my uncle play it a lot...</td>\n",
       "      <td>34</td>\n",
       "      <td>1</td>\n",
       "    </tr>\n",
       "    <tr>\n",
       "      <th>3</th>\n",
       "      <td>One of the best games ever made and still aliv...</td>\n",
       "      <td>13</td>\n",
       "      <td>1</td>\n",
       "    </tr>\n",
       "    <tr>\n",
       "      <th>4</th>\n",
       "      <td>Were we all started..</td>\n",
       "      <td>26</td>\n",
       "      <td>1</td>\n",
       "    </tr>\n",
       "  </tbody>\n",
       "</table>\n",
       "</div>"
      ],
      "text/plain": [
       "                                              review  votes_up  useful\n",
       "0  ⠀⠀⠀⠀⠀⠀⠀⠀⠀⠀⠀⠀⠀⠀⣀⣀⣀⣠⣤⣤⣄⣀⣀⣀⡀⠀⠀⠀⠀⠀⠀⠀⠀⠀⠀⠀⠀⠀⠀⠀\\n⠀⠀⠀⠀...        16       1\n",
       "1  GAME OF MY CHILDHOOD\\nRECCOMEND IT \\nLEGENT NE...        11       1\n",
       "2  Legendary game, watched my uncle play it a lot...        34       1\n",
       "3  One of the best games ever made and still aliv...        13       1\n",
       "4                              Were we all started..        26       1"
      ]
     },
     "execution_count": 84,
     "metadata": {},
     "output_type": "execute_result"
    }
   ],
   "source": [
    "# Replace the output label with a 1 (so a good review) if the review's votes up are greater than threshold, 0 otherwise\n",
    "udf_y = udf(lambda x: 0 if x < votes_up_for_useful_review else 1, IntegerType())\n",
    "\n",
    "restricted_df = restricted_df.to_spark().withColumn('useful', udf_y(col('votes_up'))).to_pandas_on_spark()\n",
    "restricted_df[['review', 'votes_up', 'useful']].to_spark().limit(5).toPandas()"
   ]
  },
  {
   "cell_type": "markdown",
   "metadata": {},
   "source": [
    "### Obtain the Bag-Of-Words and predict, using the review text, the votes_up categorical values"
   ]
  },
  {
   "cell_type": "markdown",
   "metadata": {},
   "source": [
    "#### Obtaining BoW"
   ]
  },
  {
   "cell_type": "code",
   "execution_count": 85,
   "metadata": {},
   "outputs": [],
   "source": [
    "# pyspark.ml works only with SQL Pyspark dataframes\n",
    "restricted_df = restricted_df.to_spark()"
   ]
  },
  {
   "cell_type": "code",
   "execution_count": 86,
   "metadata": {},
   "outputs": [],
   "source": [
    "# Remove not characters (and \\n) in written reviews and transform the text into lowercase\n",
    "def clean(input):\n",
    "    return ''.join(list(filter(lambda ele: re.search(\"[a-zA-Z\\s]+\", ele) is not None, list(re.sub('\\n', ' ', input.lower())))))\n",
    "\n",
    "udf_remove_not_characters = udf(lambda x: clean(x), StringType())\n",
    "clean_df = restricted_df.withColumn('cleaned_review', udf_remove_not_characters(col('review')))"
   ]
  },
  {
   "cell_type": "code",
   "execution_count": 87,
   "metadata": {},
   "outputs": [],
   "source": [
    "# Tokenization - break review text into list of its individual terms (words in this case)\n",
    "tokenizer = Tokenizer(inputCol='cleaned_review', outputCol='review_words')\n",
    "wordsData = tokenizer.transform(clean_df)\n",
    "\n",
    "# Remove review having no words after filtering\n",
    "wordsData = wordsData.filter(size(col('review_words')) > 0)"
   ]
  },
  {
   "cell_type": "code",
   "execution_count": 88,
   "metadata": {},
   "outputs": [],
   "source": [
    "# Removing StopWords\n",
    "remover = StopWordsRemover(inputCol='review_words', outputCol='no_stop_words')\n",
    "filteredData = remover.transform(wordsData)"
   ]
  },
  {
   "cell_type": "code",
   "execution_count": 89,
   "metadata": {},
   "outputs": [],
   "source": [
    "# Apply stemmatization\n",
    "stemmer = nltk.stem.SnowballStemmer('english')\n",
    "udf_stemming = udf(lambda tokens: [stemmer.stem(token) for token in tokens], ArrayType(StringType()))\n",
    "stemmed_df = filteredData.withColumn('stemmed_review', udf_stemming(col('no_stop_words')))"
   ]
  },
  {
   "cell_type": "code",
   "execution_count": 90,
   "metadata": {},
   "outputs": [
    {
     "data": {
      "text/html": [
       "<div>\n",
       "<style scoped>\n",
       "    .dataframe tbody tr th:only-of-type {\n",
       "        vertical-align: middle;\n",
       "    }\n",
       "\n",
       "    .dataframe tbody tr th {\n",
       "        vertical-align: top;\n",
       "    }\n",
       "\n",
       "    .dataframe thead th {\n",
       "        text-align: right;\n",
       "    }\n",
       "</style>\n",
       "<table border=\"1\" class=\"dataframe\">\n",
       "  <thead>\n",
       "    <tr style=\"text-align: right;\">\n",
       "      <th></th>\n",
       "      <th>review</th>\n",
       "      <th>cleaned_review</th>\n",
       "      <th>review_words</th>\n",
       "      <th>no_stop_words</th>\n",
       "      <th>stemmed_review</th>\n",
       "      <th>BoW</th>\n",
       "      <th>votes_up</th>\n",
       "      <th>useful</th>\n",
       "    </tr>\n",
       "  </thead>\n",
       "  <tbody>\n",
       "    <tr>\n",
       "      <th>0</th>\n",
       "      <td>GAME OF MY CHILDHOOD\\nRECCOMEND IT \\nLEGENT NE...</td>\n",
       "      <td>game of my childhood reccomend it  legent neve...</td>\n",
       "      <td>[game, of, my, childhood, reccomend, it, , leg...</td>\n",
       "      <td>[game, childhood, reccomend, , legent, never, ...</td>\n",
       "      <td>[game, childhood, reccomend, , legent, never, ...</td>\n",
       "      <td>(1.0, 1.0, 0.0, 0.0, 0.0, 0.0, 0.0, 0.0, 0.0, ...</td>\n",
       "      <td>11</td>\n",
       "      <td>1</td>\n",
       "    </tr>\n",
       "    <tr>\n",
       "      <th>1</th>\n",
       "      <td>Legendary game, watched my uncle play it a lot...</td>\n",
       "      <td>legendary game watched my uncle play it a lot ...</td>\n",
       "      <td>[legendary, game, watched, my, uncle, play, it...</td>\n",
       "      <td>[legendary, game, watched, uncle, play, lot, i...</td>\n",
       "      <td>[legendari, game, watch, uncl, play, lot, inhe...</td>\n",
       "      <td>(0.0, 2.0, 1.0, 1.0, 0.0, 1.0, 0.0, 0.0, 1.0, ...</td>\n",
       "      <td>34</td>\n",
       "      <td>1</td>\n",
       "    </tr>\n",
       "    <tr>\n",
       "      <th>2</th>\n",
       "      <td>One of the best games ever made and still aliv...</td>\n",
       "      <td>one of the best games ever made and still aliv...</td>\n",
       "      <td>[one, of, the, best, games, ever, made, and, s...</td>\n",
       "      <td>[one, best, games, ever, made, still, alive, t...</td>\n",
       "      <td>[one, best, game, ever, made, still, aliv, today]</td>\n",
       "      <td>(0.0, 0.0, 0.0, 0.0, 0.0, 1.0, 0.0, 1.0, 0.0, ...</td>\n",
       "      <td>13</td>\n",
       "      <td>1</td>\n",
       "    </tr>\n",
       "    <tr>\n",
       "      <th>3</th>\n",
       "      <td>Were we all started..</td>\n",
       "      <td>were we all started</td>\n",
       "      <td>[were, we, all, started]</td>\n",
       "      <td>[started]</td>\n",
       "      <td>[start]</td>\n",
       "      <td>(0.0, 0.0, 0.0, 0.0, 0.0, 0.0, 0.0, 0.0, 0.0, ...</td>\n",
       "      <td>26</td>\n",
       "      <td>1</td>\n",
       "    </tr>\n",
       "    <tr>\n",
       "      <th>4</th>\n",
       "      <td>I wish I grew up playing this, not global offe...</td>\n",
       "      <td>i wish i grew up playing this not global offen...</td>\n",
       "      <td>[i, wish, i, grew, up, playing, this, not, glo...</td>\n",
       "      <td>[wish, grew, playing, global, offensive]</td>\n",
       "      <td>[wish, grew, play, global, offens]</td>\n",
       "      <td>(0.0, 0.0, 0.0, 0.0, 0.0, 0.0, 0.0, 0.0, 0.0, ...</td>\n",
       "      <td>12</td>\n",
       "      <td>1</td>\n",
       "    </tr>\n",
       "  </tbody>\n",
       "</table>\n",
       "</div>"
      ],
      "text/plain": [
       "                                              review  \\\n",
       "0  GAME OF MY CHILDHOOD\\nRECCOMEND IT \\nLEGENT NE...   \n",
       "1  Legendary game, watched my uncle play it a lot...   \n",
       "2  One of the best games ever made and still aliv...   \n",
       "3                              Were we all started..   \n",
       "4  I wish I grew up playing this, not global offe...   \n",
       "\n",
       "                                      cleaned_review  \\\n",
       "0  game of my childhood reccomend it  legent neve...   \n",
       "1  legendary game watched my uncle play it a lot ...   \n",
       "2  one of the best games ever made and still aliv...   \n",
       "3                                were we all started   \n",
       "4  i wish i grew up playing this not global offen...   \n",
       "\n",
       "                                        review_words  \\\n",
       "0  [game, of, my, childhood, reccomend, it, , leg...   \n",
       "1  [legendary, game, watched, my, uncle, play, it...   \n",
       "2  [one, of, the, best, games, ever, made, and, s...   \n",
       "3                           [were, we, all, started]   \n",
       "4  [i, wish, i, grew, up, playing, this, not, glo...   \n",
       "\n",
       "                                       no_stop_words  \\\n",
       "0  [game, childhood, reccomend, , legent, never, ...   \n",
       "1  [legendary, game, watched, uncle, play, lot, i...   \n",
       "2  [one, best, games, ever, made, still, alive, t...   \n",
       "3                                          [started]   \n",
       "4           [wish, grew, playing, global, offensive]   \n",
       "\n",
       "                                      stemmed_review  \\\n",
       "0  [game, childhood, reccomend, , legent, never, ...   \n",
       "1  [legendari, game, watch, uncl, play, lot, inhe...   \n",
       "2  [one, best, game, ever, made, still, aliv, today]   \n",
       "3                                            [start]   \n",
       "4                 [wish, grew, play, global, offens]   \n",
       "\n",
       "                                                 BoW  votes_up  useful  \n",
       "0  (1.0, 1.0, 0.0, 0.0, 0.0, 0.0, 0.0, 0.0, 0.0, ...        11       1  \n",
       "1  (0.0, 2.0, 1.0, 1.0, 0.0, 1.0, 0.0, 0.0, 1.0, ...        34       1  \n",
       "2  (0.0, 0.0, 0.0, 0.0, 0.0, 1.0, 0.0, 1.0, 0.0, ...        13       1  \n",
       "3  (0.0, 0.0, 0.0, 0.0, 0.0, 0.0, 0.0, 0.0, 0.0, ...        26       1  \n",
       "4  (0.0, 0.0, 0.0, 0.0, 0.0, 0.0, 0.0, 0.0, 0.0, ...        12       1  "
      ]
     },
     "execution_count": 90,
     "metadata": {},
     "output_type": "execute_result"
    }
   ],
   "source": [
    "# Apply CountVectorizer - it converts the list of tokens to vector of token counts\n",
    "count = CountVectorizer(inputCol='no_stop_words', outputCol='BoW')\n",
    "model = count.fit(stemmed_df)\n",
    "featurizedData = model.transform(stemmed_df)\n",
    "featurizedData[['review', 'cleaned_review', 'review_words', 'no_stop_words', 'stemmed_review', 'BoW', 'votes_up', 'useful']].limit(5).toPandas()"
   ]
  },
  {
   "cell_type": "markdown",
   "metadata": {},
   "source": [
    "#### Make prediction using Logistic Regression (BoW)\n",
    "\n",
    "We'll start using an easier model and see the effects of using BoW on the overall performances. <br>\n",
    "In order to obtain a proper value for the regularization term of the Logistic Regression model a *grid search* approach has been used."
   ]
  },
  {
   "cell_type": "code",
   "execution_count": null,
   "metadata": {},
   "outputs": [],
   "source": [
    "# Split the dataframe in two - train & test\n",
    "projected_df = featurizedData[['BoW', 'useful']]\n",
    "trainDF, testDF = projected_df.randomSplit([0.9, 0.1], 0)\n",
    "projected_df.limit(5).toPandas()"
   ]
  },
  {
   "cell_type": "code",
   "execution_count": 16,
   "metadata": {},
   "outputs": [
    {
     "name": "stdout",
     "output_type": "stream",
     "text": [
      "Train Logistic Regression accuracy: 67.40\n",
      "Test Logistic Regression accuracy: 64.29\n"
     ]
    }
   ],
   "source": [
    "# Create an instance of LogisticRegression classifier\n",
    "lr = LogisticRegression(featuresCol='BoW', labelCol='useful', regParam=30)\n",
    "\n",
    "# Fit the model\n",
    "lr_model = lr.fit(trainDF)\n",
    "\n",
    "# Show accuracy\n",
    "print(f\"Train Logistic Regression accuracy: {(lr_model.evaluate(trainDF).accuracy) * 100:.2f}\")\n",
    "print(f\"Test Logistic Regression accuracy: {(lr_model.evaluate(testDF).accuracy) * 100:.2f}\")"
   ]
  },
  {
   "cell_type": "markdown",
   "metadata": {},
   "source": [
    "Those results show (no matter the model) that there is a correlation between the text of the review and the *votes_up* label, otherwise the accuracy of our model would have been of the 50% (randomly picking one class). <br>"
   ]
  },
  {
   "cell_type": "markdown",
   "metadata": {},
   "source": [
    "## Add new features to the simple model (that just uses reviews' text), to improve predictions \n",
    "\n",
    "Can we increase the accuracy of our model by adding new suited features to the model's input?"
   ]
  },
  {
   "cell_type": "markdown",
   "metadata": {},
   "source": [
    "### Gather useful data about games and join them on 'appid' with reviews\n",
    "\n",
    "The review data are already stored, so we need to load the data about the games."
   ]
  },
  {
   "cell_type": "code",
   "execution_count": 91,
   "metadata": {},
   "outputs": [
    {
     "data": {
      "text/html": [
       "<div>\n",
       "<style scoped>\n",
       "    .dataframe tbody tr th:only-of-type {\n",
       "        vertical-align: middle;\n",
       "    }\n",
       "\n",
       "    .dataframe tbody tr th {\n",
       "        vertical-align: top;\n",
       "    }\n",
       "\n",
       "    .dataframe thead th {\n",
       "        text-align: right;\n",
       "    }\n",
       "</style>\n",
       "<table border=\"1\" class=\"dataframe\">\n",
       "  <thead>\n",
       "    <tr style=\"text-align: right;\">\n",
       "      <th></th>\n",
       "      <th>appid</th>\n",
       "      <th>genres</th>\n",
       "      <th>owners</th>\n",
       "    </tr>\n",
       "  </thead>\n",
       "  <tbody>\n",
       "    <tr>\n",
       "      <th>0</th>\n",
       "      <td>10</td>\n",
       "      <td>Action</td>\n",
       "      <td>10000000-20000000</td>\n",
       "    </tr>\n",
       "    <tr>\n",
       "      <th>1</th>\n",
       "      <td>20</td>\n",
       "      <td>Action</td>\n",
       "      <td>5000000-10000000</td>\n",
       "    </tr>\n",
       "    <tr>\n",
       "      <th>2</th>\n",
       "      <td>30</td>\n",
       "      <td>Action</td>\n",
       "      <td>5000000-10000000</td>\n",
       "    </tr>\n",
       "    <tr>\n",
       "      <th>3</th>\n",
       "      <td>40</td>\n",
       "      <td>Action</td>\n",
       "      <td>5000000-10000000</td>\n",
       "    </tr>\n",
       "    <tr>\n",
       "      <th>4</th>\n",
       "      <td>50</td>\n",
       "      <td>Action</td>\n",
       "      <td>5000000-10000000</td>\n",
       "    </tr>\n",
       "    <tr>\n",
       "      <th>...</th>\n",
       "      <td>...</td>\n",
       "      <td>...</td>\n",
       "      <td>...</td>\n",
       "    </tr>\n",
       "    <tr>\n",
       "      <th>27070</th>\n",
       "      <td>1065230</td>\n",
       "      <td>Adventure;Casual;Indie</td>\n",
       "      <td>0-20000</td>\n",
       "    </tr>\n",
       "    <tr>\n",
       "      <th>27071</th>\n",
       "      <td>1065570</td>\n",
       "      <td>Action;Adventure;Indie</td>\n",
       "      <td>0-20000</td>\n",
       "    </tr>\n",
       "    <tr>\n",
       "      <th>27072</th>\n",
       "      <td>1065650</td>\n",
       "      <td>Action;Casual;Indie</td>\n",
       "      <td>0-20000</td>\n",
       "    </tr>\n",
       "    <tr>\n",
       "      <th>27073</th>\n",
       "      <td>1066700</td>\n",
       "      <td>Adventure;Casual;Indie</td>\n",
       "      <td>0-20000</td>\n",
       "    </tr>\n",
       "    <tr>\n",
       "      <th>27074</th>\n",
       "      <td>1069460</td>\n",
       "      <td>Adventure;Casual;Indie</td>\n",
       "      <td>0-20000</td>\n",
       "    </tr>\n",
       "  </tbody>\n",
       "</table>\n",
       "<p>27075 rows × 3 columns</p>\n",
       "</div>"
      ],
      "text/plain": [
       "         appid                  genres             owners\n",
       "0           10                  Action  10000000-20000000\n",
       "1           20                  Action   5000000-10000000\n",
       "2           30                  Action   5000000-10000000\n",
       "3           40                  Action   5000000-10000000\n",
       "4           50                  Action   5000000-10000000\n",
       "...        ...                     ...                ...\n",
       "27070  1065230  Adventure;Casual;Indie            0-20000\n",
       "27071  1065570  Action;Adventure;Indie            0-20000\n",
       "27072  1065650     Action;Casual;Indie            0-20000\n",
       "27073  1066700  Adventure;Casual;Indie            0-20000\n",
       "27074  1069460  Adventure;Casual;Indie            0-20000\n",
       "\n",
       "[27075 rows x 3 columns]"
      ]
     },
     "execution_count": 91,
     "metadata": {},
     "output_type": "execute_result"
    }
   ],
   "source": [
    "# Connect to the mongo local and load as a dataframe the games collection\n",
    "mongo = pymongo.MongoClient()\n",
    "mongo_db = mongo.final_project\n",
    "games_df = pd.DataFrame(list(mongo_db.games.find({}, {'_id': False})))[['appid', 'genres', 'owners']]\n",
    "mongo.close() #Close the connections\n",
    "\n",
    "games_df"
   ]
  },
  {
   "cell_type": "markdown",
   "metadata": {},
   "source": [
    "#### Better handling of game columns"
   ]
  },
  {
   "cell_type": "markdown",
   "metadata": {},
   "source": [
    "##### 1. Genres\n",
    "\n",
    "Since a game can have at least one genre we'll store for each game a dict that has value equal to 1 if the genre applies to the game (0 otherwise)."
   ]
  },
  {
   "cell_type": "code",
   "execution_count": 92,
   "metadata": {},
   "outputs": [],
   "source": [
    "games_df['genres'] = games_df.genres.str.split(';')\n",
    "# get all unique genres\n",
    "all_genres = games_df.genres.apply(pd.Series).stack().reset_index(drop=True).unique()\n",
    "# a dict for each game, each dict has all of the genres, val=1 if genre applies to game\n",
    "gen_dicts = games_df.genres.apply(lambda gens : { **{g:0 for g in all_genres}, **{ g:1 for g in gens } } )\n",
    "# delete now useless column\n",
    "del games_df['genres']\n",
    "# merge with original\n",
    "games_df = pd.concat([games_df.reset_index(drop=True), gen_dicts.apply(pd.Series).reset_index(drop=True)] , axis=1)"
   ]
  },
  {
   "cell_type": "code",
   "execution_count": 93,
   "metadata": {},
   "outputs": [
    {
     "data": {
      "text/html": [
       "<div>\n",
       "<style scoped>\n",
       "    .dataframe tbody tr th:only-of-type {\n",
       "        vertical-align: middle;\n",
       "    }\n",
       "\n",
       "    .dataframe tbody tr th {\n",
       "        vertical-align: top;\n",
       "    }\n",
       "\n",
       "    .dataframe thead th {\n",
       "        text-align: right;\n",
       "    }\n",
       "</style>\n",
       "<table border=\"1\" class=\"dataframe\">\n",
       "  <thead>\n",
       "    <tr style=\"text-align: right;\">\n",
       "      <th></th>\n",
       "      <th>appid</th>\n",
       "      <th>owners</th>\n",
       "      <th>Action</th>\n",
       "      <th>Free to Play</th>\n",
       "      <th>Strategy</th>\n",
       "      <th>Adventure</th>\n",
       "      <th>Indie</th>\n",
       "      <th>RPG</th>\n",
       "      <th>Animation &amp; Modeling</th>\n",
       "      <th>Video Production</th>\n",
       "      <th>...</th>\n",
       "      <th>Web Publishing</th>\n",
       "      <th>Education</th>\n",
       "      <th>Software Training</th>\n",
       "      <th>Sexual Content</th>\n",
       "      <th>Audio Production</th>\n",
       "      <th>Game Development</th>\n",
       "      <th>Photo Editing</th>\n",
       "      <th>Accounting</th>\n",
       "      <th>Documentary</th>\n",
       "      <th>Tutorial</th>\n",
       "    </tr>\n",
       "  </thead>\n",
       "  <tbody>\n",
       "    <tr>\n",
       "      <th>0</th>\n",
       "      <td>10</td>\n",
       "      <td>10000000-20000000</td>\n",
       "      <td>1</td>\n",
       "      <td>0</td>\n",
       "      <td>0</td>\n",
       "      <td>0</td>\n",
       "      <td>0</td>\n",
       "      <td>0</td>\n",
       "      <td>0</td>\n",
       "      <td>0</td>\n",
       "      <td>...</td>\n",
       "      <td>0</td>\n",
       "      <td>0</td>\n",
       "      <td>0</td>\n",
       "      <td>0</td>\n",
       "      <td>0</td>\n",
       "      <td>0</td>\n",
       "      <td>0</td>\n",
       "      <td>0</td>\n",
       "      <td>0</td>\n",
       "      <td>0</td>\n",
       "    </tr>\n",
       "    <tr>\n",
       "      <th>1</th>\n",
       "      <td>20</td>\n",
       "      <td>5000000-10000000</td>\n",
       "      <td>1</td>\n",
       "      <td>0</td>\n",
       "      <td>0</td>\n",
       "      <td>0</td>\n",
       "      <td>0</td>\n",
       "      <td>0</td>\n",
       "      <td>0</td>\n",
       "      <td>0</td>\n",
       "      <td>...</td>\n",
       "      <td>0</td>\n",
       "      <td>0</td>\n",
       "      <td>0</td>\n",
       "      <td>0</td>\n",
       "      <td>0</td>\n",
       "      <td>0</td>\n",
       "      <td>0</td>\n",
       "      <td>0</td>\n",
       "      <td>0</td>\n",
       "      <td>0</td>\n",
       "    </tr>\n",
       "    <tr>\n",
       "      <th>2</th>\n",
       "      <td>30</td>\n",
       "      <td>5000000-10000000</td>\n",
       "      <td>1</td>\n",
       "      <td>0</td>\n",
       "      <td>0</td>\n",
       "      <td>0</td>\n",
       "      <td>0</td>\n",
       "      <td>0</td>\n",
       "      <td>0</td>\n",
       "      <td>0</td>\n",
       "      <td>...</td>\n",
       "      <td>0</td>\n",
       "      <td>0</td>\n",
       "      <td>0</td>\n",
       "      <td>0</td>\n",
       "      <td>0</td>\n",
       "      <td>0</td>\n",
       "      <td>0</td>\n",
       "      <td>0</td>\n",
       "      <td>0</td>\n",
       "      <td>0</td>\n",
       "    </tr>\n",
       "    <tr>\n",
       "      <th>3</th>\n",
       "      <td>40</td>\n",
       "      <td>5000000-10000000</td>\n",
       "      <td>1</td>\n",
       "      <td>0</td>\n",
       "      <td>0</td>\n",
       "      <td>0</td>\n",
       "      <td>0</td>\n",
       "      <td>0</td>\n",
       "      <td>0</td>\n",
       "      <td>0</td>\n",
       "      <td>...</td>\n",
       "      <td>0</td>\n",
       "      <td>0</td>\n",
       "      <td>0</td>\n",
       "      <td>0</td>\n",
       "      <td>0</td>\n",
       "      <td>0</td>\n",
       "      <td>0</td>\n",
       "      <td>0</td>\n",
       "      <td>0</td>\n",
       "      <td>0</td>\n",
       "    </tr>\n",
       "    <tr>\n",
       "      <th>4</th>\n",
       "      <td>50</td>\n",
       "      <td>5000000-10000000</td>\n",
       "      <td>1</td>\n",
       "      <td>0</td>\n",
       "      <td>0</td>\n",
       "      <td>0</td>\n",
       "      <td>0</td>\n",
       "      <td>0</td>\n",
       "      <td>0</td>\n",
       "      <td>0</td>\n",
       "      <td>...</td>\n",
       "      <td>0</td>\n",
       "      <td>0</td>\n",
       "      <td>0</td>\n",
       "      <td>0</td>\n",
       "      <td>0</td>\n",
       "      <td>0</td>\n",
       "      <td>0</td>\n",
       "      <td>0</td>\n",
       "      <td>0</td>\n",
       "      <td>0</td>\n",
       "    </tr>\n",
       "    <tr>\n",
       "      <th>...</th>\n",
       "      <td>...</td>\n",
       "      <td>...</td>\n",
       "      <td>...</td>\n",
       "      <td>...</td>\n",
       "      <td>...</td>\n",
       "      <td>...</td>\n",
       "      <td>...</td>\n",
       "      <td>...</td>\n",
       "      <td>...</td>\n",
       "      <td>...</td>\n",
       "      <td>...</td>\n",
       "      <td>...</td>\n",
       "      <td>...</td>\n",
       "      <td>...</td>\n",
       "      <td>...</td>\n",
       "      <td>...</td>\n",
       "      <td>...</td>\n",
       "      <td>...</td>\n",
       "      <td>...</td>\n",
       "      <td>...</td>\n",
       "      <td>...</td>\n",
       "    </tr>\n",
       "    <tr>\n",
       "      <th>27070</th>\n",
       "      <td>1065230</td>\n",
       "      <td>0-20000</td>\n",
       "      <td>0</td>\n",
       "      <td>0</td>\n",
       "      <td>0</td>\n",
       "      <td>1</td>\n",
       "      <td>1</td>\n",
       "      <td>0</td>\n",
       "      <td>0</td>\n",
       "      <td>0</td>\n",
       "      <td>...</td>\n",
       "      <td>0</td>\n",
       "      <td>0</td>\n",
       "      <td>0</td>\n",
       "      <td>0</td>\n",
       "      <td>0</td>\n",
       "      <td>0</td>\n",
       "      <td>0</td>\n",
       "      <td>0</td>\n",
       "      <td>0</td>\n",
       "      <td>0</td>\n",
       "    </tr>\n",
       "    <tr>\n",
       "      <th>27071</th>\n",
       "      <td>1065570</td>\n",
       "      <td>0-20000</td>\n",
       "      <td>1</td>\n",
       "      <td>0</td>\n",
       "      <td>0</td>\n",
       "      <td>1</td>\n",
       "      <td>1</td>\n",
       "      <td>0</td>\n",
       "      <td>0</td>\n",
       "      <td>0</td>\n",
       "      <td>...</td>\n",
       "      <td>0</td>\n",
       "      <td>0</td>\n",
       "      <td>0</td>\n",
       "      <td>0</td>\n",
       "      <td>0</td>\n",
       "      <td>0</td>\n",
       "      <td>0</td>\n",
       "      <td>0</td>\n",
       "      <td>0</td>\n",
       "      <td>0</td>\n",
       "    </tr>\n",
       "    <tr>\n",
       "      <th>27072</th>\n",
       "      <td>1065650</td>\n",
       "      <td>0-20000</td>\n",
       "      <td>1</td>\n",
       "      <td>0</td>\n",
       "      <td>0</td>\n",
       "      <td>0</td>\n",
       "      <td>1</td>\n",
       "      <td>0</td>\n",
       "      <td>0</td>\n",
       "      <td>0</td>\n",
       "      <td>...</td>\n",
       "      <td>0</td>\n",
       "      <td>0</td>\n",
       "      <td>0</td>\n",
       "      <td>0</td>\n",
       "      <td>0</td>\n",
       "      <td>0</td>\n",
       "      <td>0</td>\n",
       "      <td>0</td>\n",
       "      <td>0</td>\n",
       "      <td>0</td>\n",
       "    </tr>\n",
       "    <tr>\n",
       "      <th>27073</th>\n",
       "      <td>1066700</td>\n",
       "      <td>0-20000</td>\n",
       "      <td>0</td>\n",
       "      <td>0</td>\n",
       "      <td>0</td>\n",
       "      <td>1</td>\n",
       "      <td>1</td>\n",
       "      <td>0</td>\n",
       "      <td>0</td>\n",
       "      <td>0</td>\n",
       "      <td>...</td>\n",
       "      <td>0</td>\n",
       "      <td>0</td>\n",
       "      <td>0</td>\n",
       "      <td>0</td>\n",
       "      <td>0</td>\n",
       "      <td>0</td>\n",
       "      <td>0</td>\n",
       "      <td>0</td>\n",
       "      <td>0</td>\n",
       "      <td>0</td>\n",
       "    </tr>\n",
       "    <tr>\n",
       "      <th>27074</th>\n",
       "      <td>1069460</td>\n",
       "      <td>0-20000</td>\n",
       "      <td>0</td>\n",
       "      <td>0</td>\n",
       "      <td>0</td>\n",
       "      <td>1</td>\n",
       "      <td>1</td>\n",
       "      <td>0</td>\n",
       "      <td>0</td>\n",
       "      <td>0</td>\n",
       "      <td>...</td>\n",
       "      <td>0</td>\n",
       "      <td>0</td>\n",
       "      <td>0</td>\n",
       "      <td>0</td>\n",
       "      <td>0</td>\n",
       "      <td>0</td>\n",
       "      <td>0</td>\n",
       "      <td>0</td>\n",
       "      <td>0</td>\n",
       "      <td>0</td>\n",
       "    </tr>\n",
       "  </tbody>\n",
       "</table>\n",
       "<p>27075 rows × 31 columns</p>\n",
       "</div>"
      ],
      "text/plain": [
       "         appid             owners  Action  Free to Play  Strategy  Adventure  \\\n",
       "0           10  10000000-20000000       1             0         0          0   \n",
       "1           20   5000000-10000000       1             0         0          0   \n",
       "2           30   5000000-10000000       1             0         0          0   \n",
       "3           40   5000000-10000000       1             0         0          0   \n",
       "4           50   5000000-10000000       1             0         0          0   \n",
       "...        ...                ...     ...           ...       ...        ...   \n",
       "27070  1065230            0-20000       0             0         0          1   \n",
       "27071  1065570            0-20000       1             0         0          1   \n",
       "27072  1065650            0-20000       1             0         0          0   \n",
       "27073  1066700            0-20000       0             0         0          1   \n",
       "27074  1069460            0-20000       0             0         0          1   \n",
       "\n",
       "       Indie  RPG  Animation & Modeling  Video Production  ...  \\\n",
       "0          0    0                     0                 0  ...   \n",
       "1          0    0                     0                 0  ...   \n",
       "2          0    0                     0                 0  ...   \n",
       "3          0    0                     0                 0  ...   \n",
       "4          0    0                     0                 0  ...   \n",
       "...      ...  ...                   ...               ...  ...   \n",
       "27070      1    0                     0                 0  ...   \n",
       "27071      1    0                     0                 0  ...   \n",
       "27072      1    0                     0                 0  ...   \n",
       "27073      1    0                     0                 0  ...   \n",
       "27074      1    0                     0                 0  ...   \n",
       "\n",
       "       Web Publishing  Education  Software Training  Sexual Content  \\\n",
       "0                   0          0                  0               0   \n",
       "1                   0          0                  0               0   \n",
       "2                   0          0                  0               0   \n",
       "3                   0          0                  0               0   \n",
       "4                   0          0                  0               0   \n",
       "...               ...        ...                ...             ...   \n",
       "27070               0          0                  0               0   \n",
       "27071               0          0                  0               0   \n",
       "27072               0          0                  0               0   \n",
       "27073               0          0                  0               0   \n",
       "27074               0          0                  0               0   \n",
       "\n",
       "       Audio Production  Game Development  Photo Editing  Accounting  \\\n",
       "0                     0                 0              0           0   \n",
       "1                     0                 0              0           0   \n",
       "2                     0                 0              0           0   \n",
       "3                     0                 0              0           0   \n",
       "4                     0                 0              0           0   \n",
       "...                 ...               ...            ...         ...   \n",
       "27070                 0                 0              0           0   \n",
       "27071                 0                 0              0           0   \n",
       "27072                 0                 0              0           0   \n",
       "27073                 0                 0              0           0   \n",
       "27074                 0                 0              0           0   \n",
       "\n",
       "       Documentary  Tutorial  \n",
       "0                0         0  \n",
       "1                0         0  \n",
       "2                0         0  \n",
       "3                0         0  \n",
       "4                0         0  \n",
       "...            ...       ...  \n",
       "27070            0         0  \n",
       "27071            0         0  \n",
       "27072            0         0  \n",
       "27073            0         0  \n",
       "27074            0         0  \n",
       "\n",
       "[27075 rows x 31 columns]"
      ]
     },
     "execution_count": 93,
     "metadata": {},
     "output_type": "execute_result"
    }
   ],
   "source": [
    "games_df"
   ]
  },
  {
   "cell_type": "markdown",
   "metadata": {},
   "source": [
    "##### 2. Owners\n",
    "\n",
    "Since we know for each game a range of the minimum and maximum number of owners, for each game we will consider the number of owners as a mean of those two values."
   ]
  },
  {
   "cell_type": "code",
   "execution_count": 94,
   "metadata": {},
   "outputs": [
    {
     "data": {
      "text/plain": [
       "0        15000000\n",
       "1         7500000\n",
       "2         7500000\n",
       "3         7500000\n",
       "4         7500000\n",
       "           ...   \n",
       "27070       10000\n",
       "27071       10000\n",
       "27072       10000\n",
       "27073       10000\n",
       "27074       10000\n",
       "Name: owners, Length: 27075, dtype: int64"
      ]
     },
     "execution_count": 94,
     "metadata": {},
     "output_type": "execute_result"
    }
   ],
   "source": [
    "games_owners_range = list(games_df.owners.str.split('-'))\n",
    "# Obtain the minimum and maximum values of owners for each videogame and cast those single values to Int\n",
    "list_min_games_owners = list(map(int, map(operator.itemgetter(0), games_owners_range)))\n",
    "list_max_games_owners = list(map(int, map(operator.itemgetter(-1), games_owners_range))) \n",
    "# For each game perform the mean value of owners\n",
    "games_df['owners'] = list(map(int, np.divide(list(map(operator.add, list_min_games_owners, list_max_games_owners)), 2)))\n",
    "games_df['owners']"
   ]
  },
  {
   "cell_type": "code",
   "execution_count": 95,
   "metadata": {},
   "outputs": [],
   "source": [
    "# Normalize game owners\n",
    "games_owners = np.array(games_df['owners'])[:, np.newaxis]\n",
    "scaler = sklearn.preprocessing.StandardScaler()\n",
    "scaler.fit(games_owners)\n",
    "games_df['owners_norm'] = scaler.transform(games_owners)"
   ]
  },
  {
   "cell_type": "markdown",
   "metadata": {},
   "source": [
    "#### Join"
   ]
  },
  {
   "cell_type": "code",
   "execution_count": 96,
   "metadata": {},
   "outputs": [
    {
     "data": {
      "text/html": [
       "<div>\n",
       "<style scoped>\n",
       "    .dataframe tbody tr th:only-of-type {\n",
       "        vertical-align: middle;\n",
       "    }\n",
       "\n",
       "    .dataframe tbody tr th {\n",
       "        vertical-align: top;\n",
       "    }\n",
       "\n",
       "    .dataframe thead th {\n",
       "        text-align: right;\n",
       "    }\n",
       "</style>\n",
       "<table border=\"1\" class=\"dataframe\">\n",
       "  <thead>\n",
       "    <tr style=\"text-align: right;\">\n",
       "      <th></th>\n",
       "      <th>steamid</th>\n",
       "      <th>appid</th>\n",
       "      <th>voted_up</th>\n",
       "      <th>votes_up</th>\n",
       "      <th>votes_funny</th>\n",
       "      <th>weighted_vote_score</th>\n",
       "      <th>playtime_forever</th>\n",
       "      <th>playtime_at_review</th>\n",
       "      <th>num_games_owned</th>\n",
       "      <th>num_reviews</th>\n",
       "      <th>...</th>\n",
       "      <th>Education</th>\n",
       "      <th>Software Training</th>\n",
       "      <th>Sexual Content</th>\n",
       "      <th>Audio Production</th>\n",
       "      <th>Game Development</th>\n",
       "      <th>Photo Editing</th>\n",
       "      <th>Accounting</th>\n",
       "      <th>Documentary</th>\n",
       "      <th>Tutorial</th>\n",
       "      <th>owners_norm</th>\n",
       "    </tr>\n",
       "  </thead>\n",
       "  <tbody>\n",
       "    <tr>\n",
       "      <th>0</th>\n",
       "      <td>76561198989429229</td>\n",
       "      <td>10</td>\n",
       "      <td>True</td>\n",
       "      <td>11</td>\n",
       "      <td>6</td>\n",
       "      <td>0.629035</td>\n",
       "      <td>348</td>\n",
       "      <td>348</td>\n",
       "      <td>4</td>\n",
       "      <td>4</td>\n",
       "      <td>...</td>\n",
       "      <td>0</td>\n",
       "      <td>0</td>\n",
       "      <td>0</td>\n",
       "      <td>0</td>\n",
       "      <td>0</td>\n",
       "      <td>0</td>\n",
       "      <td>0</td>\n",
       "      <td>0</td>\n",
       "      <td>0</td>\n",
       "      <td>11.193669</td>\n",
       "    </tr>\n",
       "    <tr>\n",
       "      <th>1</th>\n",
       "      <td>76561198053333797</td>\n",
       "      <td>10</td>\n",
       "      <td>True</td>\n",
       "      <td>34</td>\n",
       "      <td>2</td>\n",
       "      <td>0.772390</td>\n",
       "      <td>111772</td>\n",
       "      <td>111760</td>\n",
       "      <td>28</td>\n",
       "      <td>2</td>\n",
       "      <td>...</td>\n",
       "      <td>0</td>\n",
       "      <td>0</td>\n",
       "      <td>0</td>\n",
       "      <td>0</td>\n",
       "      <td>0</td>\n",
       "      <td>0</td>\n",
       "      <td>0</td>\n",
       "      <td>0</td>\n",
       "      <td>0</td>\n",
       "      <td>11.193669</td>\n",
       "    </tr>\n",
       "    <tr>\n",
       "      <th>2</th>\n",
       "      <td>76561198009260426</td>\n",
       "      <td>10</td>\n",
       "      <td>True</td>\n",
       "      <td>13</td>\n",
       "      <td>1</td>\n",
       "      <td>0.645567</td>\n",
       "      <td>5893</td>\n",
       "      <td>5819</td>\n",
       "      <td>278</td>\n",
       "      <td>36</td>\n",
       "      <td>...</td>\n",
       "      <td>0</td>\n",
       "      <td>0</td>\n",
       "      <td>0</td>\n",
       "      <td>0</td>\n",
       "      <td>0</td>\n",
       "      <td>0</td>\n",
       "      <td>0</td>\n",
       "      <td>0</td>\n",
       "      <td>0</td>\n",
       "      <td>11.193669</td>\n",
       "    </tr>\n",
       "    <tr>\n",
       "      <th>3</th>\n",
       "      <td>76561198149805308</td>\n",
       "      <td>10</td>\n",
       "      <td>True</td>\n",
       "      <td>26</td>\n",
       "      <td>2</td>\n",
       "      <td>0.721466</td>\n",
       "      <td>124</td>\n",
       "      <td>124</td>\n",
       "      <td>26</td>\n",
       "      <td>7</td>\n",
       "      <td>...</td>\n",
       "      <td>0</td>\n",
       "      <td>0</td>\n",
       "      <td>0</td>\n",
       "      <td>0</td>\n",
       "      <td>0</td>\n",
       "      <td>0</td>\n",
       "      <td>0</td>\n",
       "      <td>0</td>\n",
       "      <td>0</td>\n",
       "      <td>11.193669</td>\n",
       "    </tr>\n",
       "    <tr>\n",
       "      <th>4</th>\n",
       "      <td>76561198358607702</td>\n",
       "      <td>10</td>\n",
       "      <td>True</td>\n",
       "      <td>12</td>\n",
       "      <td>1</td>\n",
       "      <td>0.659487</td>\n",
       "      <td>10975</td>\n",
       "      <td>1097</td>\n",
       "      <td>526</td>\n",
       "      <td>227</td>\n",
       "      <td>...</td>\n",
       "      <td>0</td>\n",
       "      <td>0</td>\n",
       "      <td>0</td>\n",
       "      <td>0</td>\n",
       "      <td>0</td>\n",
       "      <td>0</td>\n",
       "      <td>0</td>\n",
       "      <td>0</td>\n",
       "      <td>0</td>\n",
       "      <td>11.193669</td>\n",
       "    </tr>\n",
       "  </tbody>\n",
       "</table>\n",
       "<p>5 rows × 50 columns</p>\n",
       "</div>"
      ],
      "text/plain": [
       "             steamid  appid  voted_up  votes_up  votes_funny  \\\n",
       "0  76561198989429229     10      True        11            6   \n",
       "1  76561198053333797     10      True        34            2   \n",
       "2  76561198009260426     10      True        13            1   \n",
       "3  76561198149805308     10      True        26            2   \n",
       "4  76561198358607702     10      True        12            1   \n",
       "\n",
       "   weighted_vote_score  playtime_forever  playtime_at_review  num_games_owned  \\\n",
       "0             0.629035               348                 348                4   \n",
       "1             0.772390            111772              111760               28   \n",
       "2             0.645567              5893                5819              278   \n",
       "3             0.721466               124                 124               26   \n",
       "4             0.659487             10975                1097              526   \n",
       "\n",
       "   num_reviews  ... Education  Software Training  Sexual Content  \\\n",
       "0            4  ...         0                  0               0   \n",
       "1            2  ...         0                  0               0   \n",
       "2           36  ...         0                  0               0   \n",
       "3            7  ...         0                  0               0   \n",
       "4          227  ...         0                  0               0   \n",
       "\n",
       "   Audio Production Game Development Photo Editing Accounting Documentary  \\\n",
       "0                 0                0             0          0           0   \n",
       "1                 0                0             0          0           0   \n",
       "2                 0                0             0          0           0   \n",
       "3                 0                0             0          0           0   \n",
       "4                 0                0             0          0           0   \n",
       "\n",
       "  Tutorial  owners_norm  \n",
       "0        0    11.193669  \n",
       "1        0    11.193669  \n",
       "2        0    11.193669  \n",
       "3        0    11.193669  \n",
       "4        0    11.193669  \n",
       "\n",
       "[5 rows x 50 columns]"
      ]
     },
     "execution_count": 96,
     "metadata": {},
     "output_type": "execute_result"
    }
   ],
   "source": [
    "# Join the subset of reviews and the games dataset \n",
    "games_df = spark.createDataFrame(games_df).to_pandas_on_spark()\n",
    "join_df = featurizedData.to_pandas_on_spark().merge(games_df, on='appid', how=\"left\")\n",
    "join_df.to_spark().limit(5).toPandas()"
   ]
  },
  {
   "cell_type": "markdown",
   "metadata": {},
   "source": [
    "### Add videogame owners (normalized), to the simple model (BoW)\n",
    "\n",
    "If the game is owned by lot of players maybe more user (e.g., that are interested on buying a community liked videogame) are reading the reviews and so more votes_up the review gets.<br>\n",
    "Applying a normalization to the videogame owners number is necessary since the range of values that this feature can have is larger with respect to the BoW (they can have more weight in the model and so the prediction results become unexpected). <br> A *Mean-Var Normalization* technique has been chosen."
   ]
  },
  {
   "cell_type": "code",
   "execution_count": 97,
   "metadata": {},
   "outputs": [],
   "source": [
    "# Since Pyspark ml wants a column as feature input we have to append to the BoW array also the game owners normalized\n",
    "vecAssembler = VectorAssembler(inputCols=['BoW', 'owners_norm'], outputCol='features')\n",
    "assembledData = vecAssembler.transform(join_df.to_spark())\n",
    "\n",
    "# Split the dataframe in two - train & test\n",
    "projected_df = assembledData[['features', 'useful']]\n",
    "trainDF, testDF = projected_df.randomSplit([0.9, 0.1], 0)"
   ]
  },
  {
   "cell_type": "markdown",
   "metadata": {},
   "source": [
    "#### Make prediction using Logistic Regression (BoW + owners)"
   ]
  },
  {
   "cell_type": "code",
   "execution_count": 24,
   "metadata": {},
   "outputs": [
    {
     "name": "stdout",
     "output_type": "stream",
     "text": [
      "Train Logistic Regression accuracy: 67.94\n",
      "Test Logistic Regression accuracy: 64.94\n"
     ]
    }
   ],
   "source": [
    "# Create an instance of LogisticRegression classifier\n",
    "lr = LogisticRegression(labelCol='useful', regParam=30)\n",
    "\n",
    "# Fit the model\n",
    "lr_model = lr.fit(trainDF)\n",
    "\n",
    "# Show accuracy\n",
    "print(f\"Train Logistic Regression accuracy: {(lr_model.evaluate(trainDF).accuracy) * 100:.2f}\")\n",
    "print(f\"Test Logistic Regression accuracy: {(lr_model.evaluate(testDF).accuracy) * 100:.2f}\")"
   ]
  },
  {
   "cell_type": "markdown",
   "metadata": {},
   "source": [
    "It can be noticed that a slightly improvement is added if considering also the number of players that own that particular game. <br>\n",
    "This suggest to add this feature to our model."
   ]
  },
  {
   "cell_type": "markdown",
   "metadata": {},
   "source": [
    "### Add videogame genre/s, to the simple model (BoW)\n",
    "\n",
    "From **hp3** we have obtained that some genres are more appreciated with respect to others, so maybe also the associated votes_up for a review is different if the review is referred to a game of a/some genre/s."
   ]
  },
  {
   "cell_type": "code",
   "execution_count": 98,
   "metadata": {},
   "outputs": [],
   "source": [
    "# Bow + genres\n",
    "cols = (list(join_df.columns[-32:-1]))\n",
    "del cols[-30]\n",
    "\n",
    "# Since Pyspark ml wants a column as feature input we have to append to the BoW array also the genres\n",
    "vecAssembler = VectorAssembler(inputCols=cols, outputCol='features')\n",
    "assembledData = vecAssembler.transform(join_df.to_spark())\n",
    "\n",
    "# Split the dataframe in two - train & test\n",
    "projected_df = assembledData[['features', 'useful']]\n",
    "trainDF, testDF = projected_df.randomSplit([0.9, 0.1], 0)"
   ]
  },
  {
   "cell_type": "markdown",
   "metadata": {},
   "source": [
    "#### Make prediction using Logistic Regression (BoW + genre/s)"
   ]
  },
  {
   "cell_type": "code",
   "execution_count": 26,
   "metadata": {},
   "outputs": [
    {
     "name": "stdout",
     "output_type": "stream",
     "text": [
      "Train Logistic Regression accuracy: 68.16\n",
      "Test Logistic Regression accuracy: 65.24\n"
     ]
    }
   ],
   "source": [
    "# Create an instance of LogisticRegression classifier\n",
    "lr = LogisticRegression(labelCol='useful', regParam=30)\n",
    "\n",
    "# Fit the model\n",
    "lr_model = lr.fit(trainDF)\n",
    "\n",
    "# Show accuracy\n",
    "print(f\"Train Logistic Regression accuracy: {(lr_model.evaluate(trainDF).accuracy) * 100:.2f}\")\n",
    "print(f\"Test Logistic Regression accuracy: {(lr_model.evaluate(testDF).accuracy) * 100:.2f}\")"
   ]
  },
  {
   "cell_type": "markdown",
   "metadata": {},
   "source": [
    "This result shows that adding the genre/s to the model produces overfitting (the training accuracy increases whereas the test decreases)."
   ]
  },
  {
   "cell_type": "markdown",
   "metadata": {},
   "source": [
    "### Add how are liked the review written by a specific user, to the simple model (BoW)"
   ]
  },
  {
   "cell_type": "markdown",
   "metadata": {},
   "source": [
    "A possible consideration can be: if a person gets lots of likes in previous reviews maybe lots likes also the feature review gets.\n",
    "<br>\n",
    "The metric we are performing interested studying is:\n",
    " - **user_reviews_appreciation = sum_previous_reviews_votes_up / num_previous_reviews**"
   ]
  },
  {
   "cell_type": "code",
   "execution_count": 99,
   "metadata": {},
   "outputs": [],
   "source": [
    "w = Window.partitionBy('steamid').orderBy('unix_timestamp_created').rowsBetween(Window.unboundedPreceding, -1)\n",
    "\n",
    "join_df = join_df.to_spark().withColumn('user_reviews_appreciation', F.mean(col('votes_up')).over(w))"
   ]
  },
  {
   "cell_type": "code",
   "execution_count": 100,
   "metadata": {
    "scrolled": true
   },
   "outputs": [],
   "source": [
    "appreciation_mean = join_df.to_pandas_on_spark().user_reviews_appreciation.dropna().mean()\n",
    "\n",
    "# Replacing NaN values (user have written 0 previous reviews) with mean reviews likes value\n",
    "join_df = join_df.fillna(appreciation_mean, subset=['user_reviews_appreciation'])"
   ]
  },
  {
   "cell_type": "code",
   "execution_count": 102,
   "metadata": {},
   "outputs": [],
   "source": [
    "# Transform user_review_appreciation column as StandardScaler likes\n",
    "vecAssembler1 = VectorAssembler(inputCols=['user_reviews_appreciation'], outputCol='assembled_user_reviews_appreciation')\n",
    "assembledData = vecAssembler1.transform(join_df)\n",
    "\n",
    "# Normalize user reviews appreciation\n",
    "standardScaler = StandardScaler(inputCol='assembled_user_reviews_appreciation', outputCol='user_reviews_appreciation_norm')\n",
    "standardizedData = standardScaler.fit(assembledData).transform(assembledData)\n",
    "\n",
    "# Since Pyspark ml wants a column as feature input we have to append to the BoW array also the user_reviews_appreciation normalized\n",
    "vecAssembler = VectorAssembler(inputCols=['BoW', 'user_reviews_appreciation_norm'], outputCol='features')\n",
    "assembledData = vecAssembler.transform(standardizedData)\n",
    "\n",
    "# Split the dataframe in two - train & test\n",
    "projected_df = assembledData[['features', 'useful']]\n",
    "trainDF, testDF = projected_df.randomSplit([0.9, 0.1], 0)"
   ]
  },
  {
   "cell_type": "markdown",
   "metadata": {},
   "source": [
    "#### Logistic Regression (BoW + user_reviews_appreciation)"
   ]
  },
  {
   "cell_type": "code",
   "execution_count": 41,
   "metadata": {},
   "outputs": [
    {
     "name": "stdout",
     "output_type": "stream",
     "text": [
      "Train Logistic Regression accuracy: 68.00\n",
      "Test Logistic Regression accuracy: 65.07\n"
     ]
    }
   ],
   "source": [
    "# Create an instance of LogisticRegression classifier\n",
    "lr = LogisticRegression(labelCol='useful', regParam=30)\n",
    "\n",
    "# Fit the model\n",
    "lr_model = lr.fit(trainDF)\n",
    "\n",
    "# Show accuracy\n",
    "print(f\"Train Logistic Regression accuracy: {(lr_model.evaluate(trainDF).accuracy) * 100:.2f}\")\n",
    "print(f\"Test Logistic Regression accuracy: {(lr_model.evaluate(testDF).accuracy) * 100:.2f}\")"
   ]
  },
  {
   "cell_type": "markdown",
   "metadata": {},
   "source": [
    "This feature improves a lot the overall accuracy, so it can be considered as a good one."
   ]
  },
  {
   "cell_type": "markdown",
   "metadata": {},
   "source": [
    "### Best model (using all the more relevant features)\n",
    "\n",
    "Since we noticed that adding some features increases more with respect to other the overall accuracy is better to add only the more relevant features (the ones that are changing most the accuracy)."
   ]
  },
  {
   "cell_type": "code",
   "execution_count": 54,
   "metadata": {},
   "outputs": [],
   "source": [
    "# Since Pyspark ml wants a column as feature input we have to append to the BoW array also the user_reviews_appreciation normalized\n",
    "vecAssembler = VectorAssembler(inputCols=['BoW', 'owners_norm', 'user_reviews_appreciation_norm'], outputCol='features')\n",
    "assembledData = vecAssembler.transform(standardizedData)\n",
    "\n",
    "# Split the dataframe in two - train & test\n",
    "projected_df = assembledData[['features', 'useful']]\n",
    "trainDF, testDF = projected_df.randomSplit([0.9, 0.1], 0)"
   ]
  },
  {
   "cell_type": "markdown",
   "metadata": {},
   "source": [
    "##### Logistic Regression (BoW + owners + user_reviews_appreciation)"
   ]
  },
  {
   "cell_type": "code",
   "execution_count": 32,
   "metadata": {},
   "outputs": [
    {
     "name": "stdout",
     "output_type": "stream",
     "text": [
      "Train Logistic Regression accuracy: 68.00\n",
      "Test Logistic Regression accuracy: 65.07\n"
     ]
    }
   ],
   "source": [
    "# Create an instance of LogisticRegression classifier\n",
    "lr = LogisticRegression(labelCol='useful', regParam=30)\n",
    "\n",
    "# Fit the model\n",
    "lr_model = lr.fit(trainDF)\n",
    "\n",
    "# Show accuracy\n",
    "print(f\"Train Logistic Regression accuracy: {(lr_model.evaluate(trainDF).accuracy) * 100:.2f}\")\n",
    "print(f\"Test Logistic Regression accuracy: {(lr_model.evaluate(testDF).accuracy) * 100:.2f}\")"
   ]
  },
  {
   "cell_type": "markdown",
   "metadata": {},
   "source": [
    "The overall accuracy can be considered not as optimal, but good enough (for sure better than the simpler model, the one that only uses BoW).<br>\n",
    "Remember that we use not a huge number of features, and the training using simple models (like Logistic Regression) takes fewer time. <br><br>\n",
    "During this discussion we only used the Logistic Regression, but what happens if we use instead different models such as SVM (using the more relevant features)?"
   ]
  },
  {
   "cell_type": "markdown",
   "metadata": {},
   "source": [
    "##### Linear Support Vector Machine (BoW + owners + user_review_appreciation)\n",
    "\n",
    "Unfortunately Pyspark does not implement SVM using not linear kernels, so we opted for the linear version hoping it will work better with respect to Logistic regression.\n",
    "In order to obtain a proper value for the regularization term of the SVM model a *grid search* approach has been used."
   ]
  },
  {
   "cell_type": "code",
   "execution_count": 38,
   "metadata": {},
   "outputs": [
    {
     "name": "stdout",
     "output_type": "stream",
     "text": [
      "Train Logistic Regression accuracy: 61.61\n",
      "Test Logistic Regression accuracy: 58.24\n"
     ]
    }
   ],
   "source": [
    "# Create an instance of linear SVM classifier\n",
    "l_svm = LinearSVC(labelCol='useful', regParam=10)\n",
    "\n",
    "# Fit the model\n",
    "l_svm_model = l_svm.fit(trainDF)\n",
    "\n",
    "# Show accuracy\n",
    "print(f\"Train Logistic Regression accuracy: {(l_svm_model.evaluate(trainDF).accuracy) * 100:.2f}\")\n",
    "print(f\"Test Logistic Regression accuracy: {(l_svm_model.evaluate(testDF).accuracy) * 100:.2f}\")"
   ]
  },
  {
   "cell_type": "markdown",
   "metadata": {},
   "source": [
    "### Model evaluation - using the \"best model\"\n",
    "\n",
    "Is our \"best model\" more biased towards recognizing one of the two classes?"
   ]
  },
  {
   "cell_type": "code",
   "execution_count": 48,
   "metadata": {},
   "outputs": [],
   "source": [
    "lr_acc = lr_model.evaluate(testDF).accuracy\n",
    "l_svm_acc = l_svm_model.evaluate(testDF).accuracy\n",
    "best_model = l_svm_model if l_svm_acc > lr_acc else lr_model"
   ]
  },
  {
   "cell_type": "markdown",
   "metadata": {},
   "source": [
    "#### Confusion Matrix"
   ]
  },
  {
   "cell_type": "code",
   "execution_count": 114,
   "metadata": {},
   "outputs": [
    {
     "data": {
      "image/png": "[encoded data removed]",
      "text/plain": [
       "<Figure size 432x288 with 1 Axes>"
      ]
     },
     "metadata": {
      "needs_background": "light"
     },
     "output_type": "display_data"
    }
   ],
   "source": [
    "predictions = best_model.transform(testDF)\n",
    "predictions = (predictions.withColumn('label', predictions['useful'].cast('double')))\n",
    "metrics = MulticlassMetrics(predictions.select(['label', 'prediction']).rdd)\n",
    "\n",
    "cf_matrix = metrics.confusionMatrix().toArray()\n",
    "sb.heatmap(cf_matrix/np.sum(cf_matrix),\n",
    "           annot=True,\n",
    "           fmt='.1%',\n",
    "           cmap='Blues',\n",
    "           cbar=False,\n",
    "           xticklabels=['False', 'True'], yticklabels=['False', 'True'],\n",
    "           annot_kws={\n",
    "                'fontsize': 14\n",
    "            }).set(xlabel='Predicted class', ylabel='Actual class');"
   ]
  },
  {
   "cell_type": "markdown",
   "metadata": {},
   "source": [
    "#### Precision & Recall"
   ]
  },
  {
   "cell_type": "code",
   "execution_count": 115,
   "metadata": {},
   "outputs": [
    {
     "name": "stdout",
     "output_type": "stream",
     "text": [
      "Best model: Logistic Regression \n",
      "\n",
      "Precision:  0.39 \n",
      "Recall:  0.86 \n",
      "F1: 0.53\n",
      "Area under Precision-Recall curve:  0.37\n"
     ]
    }
   ],
   "source": [
    "precision = metrics.precision(1.0)\n",
    "recall = metrics.recall(1.0)\n",
    "f1 = metrics.fMeasure(1.0)\n",
    "print('Best model:', 'SVM' if l_svm_acc > lr_acc else 'Logistic Regression', '\\n\\nPrecision: ', round(precision, 2), '\\nRecall: ', round(recall, 2), '\\nF1:', round(f1, 2))\n",
    "area_under_PR = BinaryClassificationMetrics(predictions.select(['label', 'prediction']).rdd).areaUnderPR\n",
    "print('Area under Precision-Recall curve: ', round(area_under_PR , 2))"
   ]
  },
  {
   "cell_type": "code",
   "execution_count": null,
   "metadata": {},
   "outputs": [],
   "source": [
    "# Stop the Spark context underlying the Spark session\n",
    "spark.stop()"
   ]
  }
 ],
 "metadata": {
  "kernelspec": {
   "display_name": "Python 3",
   "language": "python",
   "name": "python3"
  },
  "language_info": {
   "codemirror_mode": {
    "name": "ipython",
    "version": 3
   },
   "file_extension": ".py",
   "mimetype": "text/x-python",
   "name": "python",
   "nbconvert_exporter": "python",
   "pygments_lexer": "ipython3",
   "version": "3.8.10"
  },
  "vscode": {
   "interpreter": {
    "hash": "aee8b7b246df8f9039afb4144a1f6fd8d2ca17a180786b69acc140d282b71a49"
   }
  }
 },
 "nbformat": 4,
 "nbformat_minor": 2
}
