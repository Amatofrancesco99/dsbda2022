{
 "cells": [
  {
   "cell_type": "code",
   "execution_count": 1,
   "id": "a0489228",
   "metadata": {},
   "outputs": [
    {
     "name": "stdout",
     "output_type": "stream",
     "text": [
      "Using Spark located in /usr/local/spark/.\n"
     ]
    }
   ],
   "source": [
    "import findspark, sys\n",
    "\n",
    "# Locate the Spark installation (add pyspark to sys.path, see https://github.com/minrk/findspark#readme)\n",
    "findspark.init()\n",
    "print(f'Using Spark located in {findspark.find()}.')\n",
    "\n",
    "from pyspark.sql import SparkSession\n",
    "\n",
    "# Create or get the Spark session (singleton) and the underlying Spark context\n",
    "spark = SparkSession.builder.getOrCreate()"
   ]
  },
  {
   "cell_type": "code",
   "execution_count": 2,
   "id": "23699f67",
   "metadata": {},
   "outputs": [],
   "source": [
    "sys.path.append('../../../scripts')\n",
    "from pyspark.sql.types import BooleanType, DoubleType, LongType, StringType, StructField, StructType, ArrayType, IntegerType\n",
    "from pyspark.sql.functions import udf, col, collect_list\n",
    "from pyspark.sql import functions as F, Window\n",
    "import utils"
   ]
  },
  {
   "cell_type": "markdown",
   "id": "915306ec",
   "metadata": {},
   "source": [
    "# Sixth and Seventh Hypothesis\n",
    "\n",
    "In the following notebook the following hypotheses, already analyzed in local (using standard python), will be replicated on the Big Data source located in the HDFS:\n",
    " - **Are players loyal to a specific game notoriety level (no matter which one)?**\n",
    " - **Do players who mostly review famous games also enjoy niche ones?**\n",
    "\n",
    "*P.S:* The two hypotheses are considered together in this notebook since some data are shared."
   ]
  },
  {
   "cell_type": "markdown",
   "id": "7d9de1c1",
   "metadata": {},
   "source": [
    "## 6) Are players loyal to a specific game notoriety level (no matter which one)?"
   ]
  },
  {
   "cell_type": "markdown",
   "id": "0888be47",
   "metadata": {},
   "source": [
    "### Data import, preprocessing & obtain useful metrics to perform the analysis\n",
    "<br>\n",
    "\n",
    "#### Import reviews dataset from HDFS"
   ]
  },
  {
   "cell_type": "code",
   "execution_count": 3,
   "id": "36871d30",
   "metadata": {},
   "outputs": [
    {
     "name": "stderr",
     "output_type": "stream",
     "text": [
      "WARNING:root:'PYARROW_IGNORE_TIMEZONE' environment variable was not set. It is required to set this environment variable to '1' in both driver and executor sides if you use pyarrow>=2.0.0. pandas-on-Spark will set it for you but it does not work if there is a Spark context already launched.\n"
     ]
    }
   ],
   "source": [
    "# Define a reasonable schema for the reviews dataset\n",
    "reviews_schema = StructType([\n",
    "    StructField('base_review_id', LongType(), True),\n",
    "    StructField('steamid', LongType(), True), \n",
    "    StructField('appid', LongType(), True),\n",
    "    StructField('voted_up', BooleanType(), True),\n",
    "    StructField('votes_up', LongType(), True),\n",
    "    StructField('votes_funny', LongType(), True),\n",
    "    StructField('weighted_vote_score', DoubleType(), True),\n",
    "    StructField('playtime_forever', LongType(), True),\n",
    "    StructField('playtime_at_review', LongType(), True),\n",
    "    StructField('num_games_owned', LongType(), True),\n",
    "    StructField('num_reviews', LongType(), True),\n",
    "    StructField('review', StringType(), True),\n",
    "    StructField('unix_timestamp_created', LongType(), True),\n",
    "    StructField('unix_timestamp_updated', LongType(), True)\n",
    "])\n",
    "\n",
    "# Read the reviews dataset from HDFS\n",
    "base_reviews_df = spark.read.csv(\n",
    "    path='hdfs://localhost:54310/final_project/data/base_reviews_filtered',\n",
    "    schema=reviews_schema,\n",
    "    escape='\"',\n",
    "    header=True,\n",
    "    ignoreTrailingWhiteSpace=True,\n",
    "    mode='FAILFAST',\n",
    "    multiLine=True,\n",
    "    unescapedQuoteHandling='STOP_AT_CLOSING_QUOTE'\n",
    ").to_pandas_on_spark()"
   ]
  },
  {
   "cell_type": "markdown",
   "id": "a90543e0",
   "metadata": {},
   "source": [
    "#### Create games dataframe - contains the number of written reviews for a specific game (overall & only positive)"
   ]
  },
  {
   "cell_type": "code",
   "execution_count": 4,
   "id": "4ebbea79",
   "metadata": {
    "scrolled": false
   },
   "outputs": [],
   "source": [
    "# Obtain all reviews written for each game\n",
    "games_df = base_reviews_df.appid.value_counts().reset_index().rename(columns={\n",
    "    'index': 'appid',\n",
    "    'appid': 'num_reviews'\n",
    "})\n",
    "\n",
    "# Obtain all positive reviews written for each game\n",
    "pos_revs_per_game_df = base_reviews_df[base_reviews_df.voted_up].appid.value_counts().reset_index().rename(columns={\n",
    "    'index': 'appid',\n",
    "    'appid': 'pos_reviews'\n",
    "})\n",
    "\n",
    "# Merging the two dataframes\n",
    "games_df = games_df.merge(pos_revs_per_game_df, how='left').fillna(0).astype(int)"
   ]
  },
  {
   "cell_type": "markdown",
   "id": "a6855023",
   "metadata": {},
   "source": [
    "#### Obtain for each game a notoriety level and a percentage of positive reviews\n",
    "\n",
    "The notoriety level is basically a measure of how much a game has been discussed in the small reviews dataset."
   ]
  },
  {
   "cell_type": "code",
   "execution_count": 5,
   "id": "db7bf9d6",
   "metadata": {},
   "outputs": [
    {
     "data": {
      "text/plain": [
       "(14.0, 296.0)"
      ]
     },
     "execution_count": 5,
     "metadata": {},
     "output_type": "execute_result"
    }
   ],
   "source": [
    "s = games_df.num_reviews.quantile([.25, .85])\n",
    "THRESH1 = s[.25]\n",
    "THRESH2 = s[.85]\n",
    "\n",
    "THRESH1, THRESH2"
   ]
  },
  {
   "cell_type": "code",
   "execution_count": 6,
   "id": "0480167a",
   "metadata": {},
   "outputs": [
    {
     "data": {
      "text/html": [
       "<div>\n",
       "<style scoped>\n",
       "    .dataframe tbody tr th:only-of-type {\n",
       "        vertical-align: middle;\n",
       "    }\n",
       "\n",
       "    .dataframe tbody tr th {\n",
       "        vertical-align: top;\n",
       "    }\n",
       "\n",
       "    .dataframe thead th {\n",
       "        text-align: right;\n",
       "    }\n",
       "</style>\n",
       "<table border=\"1\" class=\"dataframe\">\n",
       "  <thead>\n",
       "    <tr style=\"text-align: right;\">\n",
       "      <th></th>\n",
       "      <th>appid</th>\n",
       "      <th>num_reviews</th>\n",
       "      <th>pos_reviews</th>\n",
       "      <th>notoriety</th>\n",
       "      <th>perc_pos_revs</th>\n",
       "    </tr>\n",
       "  </thead>\n",
       "  <tbody>\n",
       "    <tr>\n",
       "      <th>0</th>\n",
       "      <td>730</td>\n",
       "      <td>195377</td>\n",
       "      <td>171980</td>\n",
       "      <td>FAMOUS</td>\n",
       "      <td>88.024691</td>\n",
       "    </tr>\n",
       "    <tr>\n",
       "      <th>1</th>\n",
       "      <td>394360</td>\n",
       "      <td>10015</td>\n",
       "      <td>9171</td>\n",
       "      <td>FAMOUS</td>\n",
       "      <td>91.572641</td>\n",
       "    </tr>\n",
       "    <tr>\n",
       "      <th>2</th>\n",
       "      <td>232090</td>\n",
       "      <td>6788</td>\n",
       "      <td>5969</td>\n",
       "      <td>FAMOUS</td>\n",
       "      <td>87.934590</td>\n",
       "    </tr>\n",
       "    <tr>\n",
       "      <th>3</th>\n",
       "      <td>289070</td>\n",
       "      <td>9900</td>\n",
       "      <td>8002</td>\n",
       "      <td>FAMOUS</td>\n",
       "      <td>80.828283</td>\n",
       "    </tr>\n",
       "    <tr>\n",
       "      <th>4</th>\n",
       "      <td>433340</td>\n",
       "      <td>6259</td>\n",
       "      <td>6124</td>\n",
       "      <td>FAMOUS</td>\n",
       "      <td>97.843106</td>\n",
       "    </tr>\n",
       "    <tr>\n",
       "      <th>...</th>\n",
       "      <td>...</td>\n",
       "      <td>...</td>\n",
       "      <td>...</td>\n",
       "      <td>...</td>\n",
       "      <td>...</td>\n",
       "    </tr>\n",
       "    <tr>\n",
       "      <th>95</th>\n",
       "      <td>435150</td>\n",
       "      <td>10849</td>\n",
       "      <td>10379</td>\n",
       "      <td>FAMOUS</td>\n",
       "      <td>95.667803</td>\n",
       "    </tr>\n",
       "    <tr>\n",
       "      <th>96</th>\n",
       "      <td>48700</td>\n",
       "      <td>9247</td>\n",
       "      <td>9066</td>\n",
       "      <td>FAMOUS</td>\n",
       "      <td>98.042608</td>\n",
       "    </tr>\n",
       "    <tr>\n",
       "      <th>97</th>\n",
       "      <td>304390</td>\n",
       "      <td>5259</td>\n",
       "      <td>3385</td>\n",
       "      <td>FAMOUS</td>\n",
       "      <td>64.365849</td>\n",
       "    </tr>\n",
       "    <tr>\n",
       "      <th>98</th>\n",
       "      <td>594570</td>\n",
       "      <td>7550</td>\n",
       "      <td>7082</td>\n",
       "      <td>FAMOUS</td>\n",
       "      <td>93.801325</td>\n",
       "    </tr>\n",
       "    <tr>\n",
       "      <th>99</th>\n",
       "      <td>367520</td>\n",
       "      <td>10189</td>\n",
       "      <td>9875</td>\n",
       "      <td>FAMOUS</td>\n",
       "      <td>96.918245</td>\n",
       "    </tr>\n",
       "  </tbody>\n",
       "</table>\n",
       "<p>100 rows × 5 columns</p>\n",
       "</div>"
      ],
      "text/plain": [
       "     appid  num_reviews  pos_reviews notoriety  perc_pos_revs\n",
       "0      730       195377       171980    FAMOUS      88.024691\n",
       "1   394360        10015         9171    FAMOUS      91.572641\n",
       "2   232090         6788         5969    FAMOUS      87.934590\n",
       "3   289070         9900         8002    FAMOUS      80.828283\n",
       "4   433340         6259         6124    FAMOUS      97.843106\n",
       "..     ...          ...          ...       ...            ...\n",
       "95  435150        10849        10379    FAMOUS      95.667803\n",
       "96   48700         9247         9066    FAMOUS      98.042608\n",
       "97  304390         5259         3385    FAMOUS      64.365849\n",
       "98  594570         7550         7082    FAMOUS      93.801325\n",
       "99  367520        10189         9875    FAMOUS      96.918245\n",
       "\n",
       "[100 rows x 5 columns]"
      ]
     },
     "execution_count": 6,
     "metadata": {},
     "output_type": "execute_result"
    }
   ],
   "source": [
    "def num_revs_to_label(num_rev: int) -> str:\n",
    "    \"\"\" Get notoriety label from number of reviews \"\"\"\n",
    "    if num_rev < THRESH1:\n",
    "        return 'NICHE'\n",
    "    elif THRESH1 <= num_rev < THRESH2:\n",
    "        return 'KNOWN'\n",
    "    else:\n",
    "        return 'FAMOUS'\n",
    "\n",
    "udf_num_revs_to_label = udf(lambda x: num_revs_to_label(x), StringType())\n",
    "\n",
    "games_df = games_df.to_spark().withColumn('notoriety', udf_num_revs_to_label(col('num_reviews'))).to_pandas_on_spark()\n",
    "games_df['perc_pos_revs'] = (games_df.pos_reviews / games_df.num_reviews) * 100\n",
    "games_df.to_spark().limit(100).toPandas()"
   ]
  },
  {
   "cell_type": "markdown",
   "id": "a75eef6e",
   "metadata": {},
   "source": [
    "#### Calculate the maximum loyalty of each user (that have reviewed at least 3 games) to a game notoriety level\n",
    "\n",
    "- **max_user_loyalty = (max(user_reviewed_games[notoriety_level]) / reviewed_games) * 100**"
   ]
  },
  {
   "cell_type": "code",
   "execution_count": 7,
   "id": "ebee209e",
   "metadata": {},
   "outputs": [
    {
     "data": {
      "text/html": [
       "<div>\n",
       "<style scoped>\n",
       "    .dataframe tbody tr th:only-of-type {\n",
       "        vertical-align: middle;\n",
       "    }\n",
       "\n",
       "    .dataframe tbody tr th {\n",
       "        vertical-align: top;\n",
       "    }\n",
       "\n",
       "    .dataframe thead th {\n",
       "        text-align: right;\n",
       "    }\n",
       "</style>\n",
       "<table border=\"1\" class=\"dataframe\">\n",
       "  <thead>\n",
       "    <tr style=\"text-align: right;\">\n",
       "      <th></th>\n",
       "      <th>steamid</th>\n",
       "      <th>max_user_loyalty</th>\n",
       "    </tr>\n",
       "  </thead>\n",
       "  <tbody>\n",
       "    <tr>\n",
       "      <th>0</th>\n",
       "      <td>76561197960267615</td>\n",
       "      <td>50.000000</td>\n",
       "    </tr>\n",
       "    <tr>\n",
       "      <th>1</th>\n",
       "      <td>76561197960268417</td>\n",
       "      <td>100.000000</td>\n",
       "    </tr>\n",
       "    <tr>\n",
       "      <th>2</th>\n",
       "      <td>76561197960269230</td>\n",
       "      <td>100.000000</td>\n",
       "    </tr>\n",
       "    <tr>\n",
       "      <th>3</th>\n",
       "      <td>76561197960269409</td>\n",
       "      <td>62.500000</td>\n",
       "    </tr>\n",
       "    <tr>\n",
       "      <th>4</th>\n",
       "      <td>76561197960269579</td>\n",
       "      <td>100.000000</td>\n",
       "    </tr>\n",
       "    <tr>\n",
       "      <th>...</th>\n",
       "      <td>...</td>\n",
       "      <td>...</td>\n",
       "    </tr>\n",
       "    <tr>\n",
       "      <th>95</th>\n",
       "      <td>76561197960414332</td>\n",
       "      <td>100.000000</td>\n",
       "    </tr>\n",
       "    <tr>\n",
       "      <th>96</th>\n",
       "      <td>76561197960416558</td>\n",
       "      <td>50.000000</td>\n",
       "    </tr>\n",
       "    <tr>\n",
       "      <th>97</th>\n",
       "      <td>76561197960416994</td>\n",
       "      <td>100.000000</td>\n",
       "    </tr>\n",
       "    <tr>\n",
       "      <th>98</th>\n",
       "      <td>76561197960419349</td>\n",
       "      <td>66.666667</td>\n",
       "    </tr>\n",
       "    <tr>\n",
       "      <th>99</th>\n",
       "      <td>76561197960419875</td>\n",
       "      <td>100.000000</td>\n",
       "    </tr>\n",
       "  </tbody>\n",
       "</table>\n",
       "<p>100 rows × 2 columns</p>\n",
       "</div>"
      ],
      "text/plain": [
       "              steamid  max_user_loyalty\n",
       "0   76561197960267615         50.000000\n",
       "1   76561197960268417        100.000000\n",
       "2   76561197960269230        100.000000\n",
       "3   76561197960269409         62.500000\n",
       "4   76561197960269579        100.000000\n",
       "..                ...               ...\n",
       "95  76561197960414332        100.000000\n",
       "96  76561197960416558         50.000000\n",
       "97  76561197960416994        100.000000\n",
       "98  76561197960419349         66.666667\n",
       "99  76561197960419875        100.000000\n",
       "\n",
       "[100 rows x 2 columns]"
      ]
     },
     "execution_count": 7,
     "metadata": {},
     "output_type": "execute_result"
    }
   ],
   "source": [
    "# Merging projected games and base reviews dataframe on appid\n",
    "base_reviews_and_games = (base_reviews_df[['steamid', 'appid', 'voted_up']]\n",
    "    .merge(games_df[['appid', 'notoriety']])\n",
    ")\n",
    "\n",
    "# Obtain for each user the number of written reviews he/she wrote for each level of notoriety\n",
    "w1 = Window.partitionBy('steamid', 'notoriety')\n",
    "n_revs_each_notoriety = base_reviews_and_games.to_spark().withColumn('n_revs_each_notoriety', F.count(col('notoriety')).over(w1))\n",
    "n_revs_each_notoriety = n_revs_each_notoriety.dropDuplicates(['steamid', 'notoriety'])\n",
    "\n",
    "# Obtain for each user the maximum number of reviews he/she wrote for each level of notoriety\n",
    "w2 = Window.partitionBy('steamid')\n",
    "max_revs_each_notoriety = n_revs_each_notoriety.withColumn('max_revs_each_notoriety', F.max(col('n_revs_each_notoriety')).over(w2))\n",
    "max_revs_each_notoriety = max_revs_each_notoriety.dropDuplicates(['steamid'])\n",
    "\n",
    "# Obtain for each user the overall number of written reviews\n",
    "n_revs = n_revs_each_notoriety.withColumn('n_revs', F.sum(col('n_revs_each_notoriety')).over(w2))\n",
    "n_revs = n_revs.dropDuplicates(['steamid'])\n",
    "\n",
    "# Select the users that have written at least three reviews\n",
    "at_least_three_games = n_revs[n_revs['n_revs'] > 2]\n",
    "\n",
    "# Obtain for each user the max loyalty to one notoriety level (no matter which one)\n",
    "users_max_loyalty_perc = max_revs_each_notoriety.join(at_least_three_games[['steamid', 'n_revs']], on='steamid')\\\n",
    "                                                .withColumn('max_user_loyalty', \n",
    "                                                            col('max_revs_each_notoriety') / col('n_revs') * 100)\\\n",
    "                                                .to_pandas_on_spark()\\\n",
    "                                                [['steamid','max_user_loyalty']]\n",
    "\n",
    "users_max_loyalty_perc.to_spark().limit(100).toPandas()"
   ]
  },
  {
   "cell_type": "markdown",
   "id": "78da6ce1",
   "metadata": {},
   "source": [
    "### Analysis\n",
    "<br>\n",
    "\n",
    "#### Statistical test\n",
    "\n",
    "Are users loyal, for a M%, to one notoriety level (no matter which one)?"
   ]
  },
  {
   "cell_type": "code",
   "execution_count": 8,
   "id": "b45f25c5",
   "metadata": {},
   "outputs": [
    {
     "name": "stdout",
     "output_type": "stream",
     "text": [
      "Mean test coefficient: 42.216 \n",
      "P-value: 0.000\n",
      "\n",
      "Reject the null hypothesis\n"
     ]
    }
   ],
   "source": [
    "# Perform the mean test\n",
    "statistics, p_value = utils.mean_test(users_max_loyalty_perc['max_user_loyalty'], 85)\n",
    "\n",
    "print(f\"Mean test coefficient: {statistics:.3f} \\nP-value: {p_value:.3f}\")\n",
    "alpha = 0.05\n",
    "if p_value < alpha:\n",
    "    print('\\nReject the null hypothesis')\n",
    "else:\n",
    "    print('\\nDo not reject the null hypothesis')"
   ]
  },
  {
   "cell_type": "markdown",
   "id": "78f3cd82",
   "metadata": {},
   "source": [
    "We can notice that our hypothesis is true (and is statistically significant).<br> \n",
    "So we can say that people are loyal to review (and play) the 85% of same notoriety level games. Furthermore, considering a larger population the percentage increases."
   ]
  },
  {
   "cell_type": "markdown",
   "id": "e5d3453b",
   "metadata": {},
   "source": [
    "## 7) Do players who mostly review famous games also enjoy niche ones?"
   ]
  },
  {
   "cell_type": "markdown",
   "id": "b6e9847a",
   "metadata": {},
   "source": [
    "#### Obtain the loyalty level for famous & niche games, of players that have at least reviewed 3 games"
   ]
  },
  {
   "cell_type": "code",
   "execution_count": 9,
   "id": "4212fa62",
   "metadata": {},
   "outputs": [],
   "source": [
    "# Obtain for each user the percentage of voted up for each notoriety level\n",
    "perc_voted_up_each_notoriety = n_revs_each_notoriety.withColumn('perc_voted_up_each_notoriety',\n",
    "                                                                F.mean(col('voted_up').cast('int') * 100).over(w1))\n",
    "perc_voted_up_each_notoriety = perc_voted_up_each_notoriety.dropDuplicates(['steamid', 'notoriety'])\n",
    "\n",
    "# Select the users that have written at least three reviews\n",
    "at_least_three_games = perc_voted_up_each_notoriety.join(at_least_three_games[['steamid', 'n_revs']], on='steamid')\n",
    "\n",
    "# Obtain for each user the loyalty of each notoriety level\n",
    "loyalty_each_level_notoriety = at_least_three_games.withColumn('loyalty', col('n_revs_each_notoriety') / col('n_revs') * 100)"
   ]
  },
  {
   "cell_type": "markdown",
   "id": "717dd15a",
   "metadata": {},
   "source": [
    "#### Consider only people who are very loyal to famous games and that have at least played one niche game"
   ]
  },
  {
   "cell_type": "code",
   "execution_count": 10,
   "id": "bf0f35a2",
   "metadata": {
    "scrolled": true
   },
   "outputs": [
    {
     "data": {
      "text/html": [
       "<div>\n",
       "<style scoped>\n",
       "    .dataframe tbody tr th:only-of-type {\n",
       "        vertical-align: middle;\n",
       "    }\n",
       "\n",
       "    .dataframe tbody tr th {\n",
       "        vertical-align: top;\n",
       "    }\n",
       "\n",
       "    .dataframe thead th {\n",
       "        text-align: right;\n",
       "    }\n",
       "</style>\n",
       "<table border=\"1\" class=\"dataframe\">\n",
       "  <thead>\n",
       "    <tr style=\"text-align: right;\">\n",
       "      <th></th>\n",
       "      <th>steamid</th>\n",
       "      <th>n_revs</th>\n",
       "      <th>famous_loyalty</th>\n",
       "      <th>niche_loyalty</th>\n",
       "      <th>perc_niche_liked</th>\n",
       "    </tr>\n",
       "  </thead>\n",
       "  <tbody>\n",
       "    <tr>\n",
       "      <th>0</th>\n",
       "      <td>76561197960319712</td>\n",
       "      <td>3</td>\n",
       "      <td>66.666667</td>\n",
       "      <td>33.333333</td>\n",
       "      <td>0.0</td>\n",
       "    </tr>\n",
       "    <tr>\n",
       "      <th>1</th>\n",
       "      <td>76561197960427320</td>\n",
       "      <td>11</td>\n",
       "      <td>72.727273</td>\n",
       "      <td>9.090909</td>\n",
       "      <td>100.0</td>\n",
       "    </tr>\n",
       "    <tr>\n",
       "      <th>2</th>\n",
       "      <td>76561197960478145</td>\n",
       "      <td>26</td>\n",
       "      <td>65.384615</td>\n",
       "      <td>3.846154</td>\n",
       "      <td>100.0</td>\n",
       "    </tr>\n",
       "    <tr>\n",
       "      <th>3</th>\n",
       "      <td>76561197960967170</td>\n",
       "      <td>3</td>\n",
       "      <td>66.666667</td>\n",
       "      <td>33.333333</td>\n",
       "      <td>0.0</td>\n",
       "    </tr>\n",
       "    <tr>\n",
       "      <th>4</th>\n",
       "      <td>76561197961194018</td>\n",
       "      <td>18</td>\n",
       "      <td>55.555556</td>\n",
       "      <td>5.555556</td>\n",
       "      <td>0.0</td>\n",
       "    </tr>\n",
       "    <tr>\n",
       "      <th>...</th>\n",
       "      <td>...</td>\n",
       "      <td>...</td>\n",
       "      <td>...</td>\n",
       "      <td>...</td>\n",
       "      <td>...</td>\n",
       "    </tr>\n",
       "    <tr>\n",
       "      <th>95</th>\n",
       "      <td>76561197993727469</td>\n",
       "      <td>3</td>\n",
       "      <td>66.666667</td>\n",
       "      <td>33.333333</td>\n",
       "      <td>100.0</td>\n",
       "    </tr>\n",
       "    <tr>\n",
       "      <th>96</th>\n",
       "      <td>76561197993729693</td>\n",
       "      <td>4</td>\n",
       "      <td>75.000000</td>\n",
       "      <td>25.000000</td>\n",
       "      <td>100.0</td>\n",
       "    </tr>\n",
       "    <tr>\n",
       "      <th>97</th>\n",
       "      <td>76561197993837300</td>\n",
       "      <td>9</td>\n",
       "      <td>66.666667</td>\n",
       "      <td>11.111111</td>\n",
       "      <td>100.0</td>\n",
       "    </tr>\n",
       "    <tr>\n",
       "      <th>98</th>\n",
       "      <td>76561197994208160</td>\n",
       "      <td>3</td>\n",
       "      <td>66.666667</td>\n",
       "      <td>33.333333</td>\n",
       "      <td>0.0</td>\n",
       "    </tr>\n",
       "    <tr>\n",
       "      <th>99</th>\n",
       "      <td>76561197994315118</td>\n",
       "      <td>4</td>\n",
       "      <td>75.000000</td>\n",
       "      <td>25.000000</td>\n",
       "      <td>0.0</td>\n",
       "    </tr>\n",
       "  </tbody>\n",
       "</table>\n",
       "<p>100 rows × 5 columns</p>\n",
       "</div>"
      ],
      "text/plain": [
       "              steamid  n_revs  famous_loyalty  niche_loyalty  perc_niche_liked\n",
       "0   76561197960319712       3       66.666667      33.333333               0.0\n",
       "1   76561197960427320      11       72.727273       9.090909             100.0\n",
       "2   76561197960478145      26       65.384615       3.846154             100.0\n",
       "3   76561197960967170       3       66.666667      33.333333               0.0\n",
       "4   76561197961194018      18       55.555556       5.555556               0.0\n",
       "..                ...     ...             ...            ...               ...\n",
       "95  76561197993727469       3       66.666667      33.333333             100.0\n",
       "96  76561197993729693       4       75.000000      25.000000             100.0\n",
       "97  76561197993837300       9       66.666667      11.111111             100.0\n",
       "98  76561197994208160       3       66.666667      33.333333               0.0\n",
       "99  76561197994315118       4       75.000000      25.000000               0.0\n",
       "\n",
       "[100 rows x 5 columns]"
      ]
     },
     "execution_count": 10,
     "metadata": {},
     "output_type": "execute_result"
    }
   ],
   "source": [
    "df = loyalty_each_level_notoriety.to_pandas_on_spark()\n",
    "\n",
    "# Obtain people that have reviewed at least one niche game\n",
    "loyalty_niche_not_zero = df[(df['notoriety'] == 'NICHE') & (df['loyalty'] > 0.0)]\n",
    "loyalty_niche_not_zero = loyalty_niche_not_zero.rename(columns={'loyalty': 'niche_loyalty', 'perc_voted_up_each_notoriety': 'perc_niche_liked'})\n",
    "\n",
    "# Obtain people that have reviewed for the majority of cases famous games (higher than 55%)\n",
    "loyalty_famous_high = df[(df['notoriety'] == 'FAMOUS') & (df['loyalty'] > 55.0)]\n",
    "loyalty_famous_high = loyalty_famous_high.rename(columns={'loyalty': 'famous_loyalty'})\n",
    "\n",
    "# Merge the two obtained datasets\n",
    "loyalties_df = loyalty_niche_not_zero.merge(loyalty_famous_high[['steamid', 'famous_loyalty']])[['steamid', 'n_revs', 'famous_loyalty', 'niche_loyalty', 'perc_niche_liked']]\n",
    "loyalties_df.to_spark().limit(100).toPandas()"
   ]
  },
  {
   "cell_type": "markdown",
   "id": "ba05c6c9",
   "metadata": {},
   "source": [
    "### Analysis\n",
    "<br>\n",
    "\n",
    "#### Statistical test\n",
    "\n",
    "Are users loyal to famous notoriety games also enjoying M% of niche ones?"
   ]
  },
  {
   "cell_type": "code",
   "execution_count": 11,
   "id": "a08eed27",
   "metadata": {},
   "outputs": [
    {
     "name": "stdout",
     "output_type": "stream",
     "text": [
      "Mean test coefficient: 2.907 \n",
      "P-value: 0.002\n",
      "\n",
      "Reject the null hypothesis\n"
     ]
    }
   ],
   "source": [
    "statistics, p_value = utils.mean_test(loyalties_df['perc_niche_liked'], 60)\n",
    "\n",
    "print(f\"Mean test coefficient: {statistics:.3f} \\nP-value: {p_value:.3f}\")\n",
    "alpha = 0.05\n",
    "if p_value < alpha:\n",
    "    print('\\nReject the null hypothesis')\n",
    "else:\n",
    "    print('\\nDo not reject the null hypothesis')"
   ]
  },
  {
   "cell_type": "markdown",
   "id": "e25d8033",
   "metadata": {},
   "source": [
    "We can notice that our hypothesis is true (and is statistically significant).<br> \n",
    "So we can say that players loyal to famous notoriety games also enjoyed 60% of niche ones. In this case, considering a larger population does not change the obtained results."
   ]
  },
  {
   "cell_type": "code",
   "execution_count": 12,
   "id": "9d9bb75b",
   "metadata": {},
   "outputs": [],
   "source": [
    "# Stop the Spark context underlying the Spark session\n",
    "spark.stop()"
   ]
  }
 ],
 "metadata": {
  "kernelspec": {
   "display_name": "Python 3",
   "language": "python",
   "name": "python3"
  },
  "language_info": {
   "codemirror_mode": {
    "name": "ipython",
    "version": 3
   },
   "file_extension": ".py",
   "mimetype": "text/x-python",
   "name": "python",
   "nbconvert_exporter": "python",
   "pygments_lexer": "ipython3",
   "version": "3.8.10"
  },
  "vscode": {
   "interpreter": {
    "hash": "aee8b7b246df8f9039afb4144a1f6fd8d2ca17a180786b69acc140d282b71a49"
   }
  }
 },
 "nbformat": 4,
 "nbformat_minor": 5
}
