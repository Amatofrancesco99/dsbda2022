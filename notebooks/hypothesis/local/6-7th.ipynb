{
 "cells": [
  {
   "cell_type": "code",
   "execution_count": 239,
   "id": "69d1662c-54ee-4325-a0ad-2aa57f202f69",
   "metadata": {},
   "outputs": [],
   "source": [
    "import pandas as pd\n",
    "from collections import Counter\n",
    "import numpy as np"
   ]
  },
  {
   "cell_type": "code",
   "execution_count": 2,
   "id": "fd185ebb-0cda-4af5-a76a-e1972858542f",
   "metadata": {},
   "outputs": [],
   "source": [
    "df = pd.read_json(\"./small_reviews.json\",  lines=True)"
   ]
  },
  {
   "cell_type": "code",
   "execution_count": 3,
   "id": "e3846ed9-c99c-4e83-b41a-c6b444762e4f",
   "metadata": {},
   "outputs": [],
   "source": [
    "del df['_id']\n",
    "del df['base_review_id']\n",
    "df['steamid']  = df.steamid.apply( lambda x : x['$numberLong'] )"
   ]
  },
  {
   "cell_type": "markdown",
   "id": "f71c6bca-b857-42f7-b7b1-5a0e25a4860a",
   "metadata": {},
   "source": [
    "# Create a game-data dataframe"
   ]
  },
  {
   "cell_type": "code",
   "execution_count": 4,
   "id": "a3d56b0d-dbed-42d3-993f-5ddf518f0f39",
   "metadata": {},
   "outputs": [],
   "source": [
    "games = pd.DataFrame(df.appid.drop_duplicates())"
   ]
  },
  {
   "cell_type": "markdown",
   "id": "dce90699-54d3-4e5c-9bc1-4579d21cf5f1",
   "metadata": {},
   "source": [
    "### Add reviews column"
   ]
  },
  {
   "cell_type": "code",
   "execution_count": 5,
   "id": "bec981b7-19c7-4876-a174-6a12220f3015",
   "metadata": {},
   "outputs": [],
   "source": [
    "reviews_per_game = df.value_counts('appid').sort_values(ascending=False)\n",
    "reviews_per_game.name = 'num_reviews'\n",
    "games = games.merge(reviews_per_game.to_frame().reset_index())"
   ]
  },
  {
   "cell_type": "markdown",
   "id": "ad5fa911-8b97-46c1-a1a9-eb904845f736",
   "metadata": {},
   "source": [
    "### Add positive reviews column"
   ]
  },
  {
   "cell_type": "code",
   "execution_count": 6,
   "id": "82a07c9e-dda2-4507-9fc7-a743d3dcc30b",
   "metadata": {},
   "outputs": [],
   "source": [
    "pos_revs_per_game = df[df.voted_up].value_counts('appid')\n",
    "pos_revs_per_game.name = 'pos_reviews'\n",
    "games = games.merge(pos_revs_per_game.to_frame().reset_index())"
   ]
  },
  {
   "cell_type": "markdown",
   "id": "2504ba5e-da2e-47e7-a407-afd3775c358d",
   "metadata": {},
   "source": [
    "### Create bins for number of reviews\n",
    "This is a \"fame (notoriety) metric\" (a game is known)"
   ]
  },
  {
   "cell_type": "code",
   "execution_count": 7,
   "id": "d0068651-4832-4575-a039-de9ded8e9b8c",
   "metadata": {},
   "outputs": [],
   "source": [
    "games['fame'] = pd.qcut(games.num_reviews , q=[0, 0.25, 0.85, 1],labels=['NICHE', 'KNOWN', 'FAMOUS'])"
   ]
  },
  {
   "cell_type": "code",
   "execution_count": 8,
   "id": "e920bb40-98eb-4dad-b3e4-f0cfca09a9c0",
   "metadata": {},
   "outputs": [
    {
     "data": {
      "text/html": [
       "<div>\n",
       "<style scoped>\n",
       "    .dataframe tbody tr th:only-of-type {\n",
       "        vertical-align: middle;\n",
       "    }\n",
       "\n",
       "    .dataframe tbody tr th {\n",
       "        vertical-align: top;\n",
       "    }\n",
       "\n",
       "    .dataframe thead th {\n",
       "        text-align: right;\n",
       "    }\n",
       "</style>\n",
       "<table border=\"1\" class=\"dataframe\">\n",
       "  <thead>\n",
       "    <tr style=\"text-align: right;\">\n",
       "      <th></th>\n",
       "      <th>appid</th>\n",
       "      <th>num_reviews</th>\n",
       "      <th>pos_reviews</th>\n",
       "      <th>fame</th>\n",
       "    </tr>\n",
       "  </thead>\n",
       "  <tbody>\n",
       "    <tr>\n",
       "      <th>0</th>\n",
       "      <td>204100</td>\n",
       "      <td>251</td>\n",
       "      <td>205</td>\n",
       "      <td>FAMOUS</td>\n",
       "    </tr>\n",
       "    <tr>\n",
       "      <th>1</th>\n",
       "      <td>204120</td>\n",
       "      <td>8</td>\n",
       "      <td>6</td>\n",
       "      <td>KNOWN</td>\n",
       "    </tr>\n",
       "    <tr>\n",
       "      <th>2</th>\n",
       "      <td>204180</td>\n",
       "      <td>21</td>\n",
       "      <td>16</td>\n",
       "      <td>KNOWN</td>\n",
       "    </tr>\n",
       "    <tr>\n",
       "      <th>3</th>\n",
       "      <td>204240</td>\n",
       "      <td>17</td>\n",
       "      <td>15</td>\n",
       "      <td>KNOWN</td>\n",
       "    </tr>\n",
       "    <tr>\n",
       "      <th>4</th>\n",
       "      <td>204300</td>\n",
       "      <td>149</td>\n",
       "      <td>132</td>\n",
       "      <td>FAMOUS</td>\n",
       "    </tr>\n",
       "    <tr>\n",
       "      <th>...</th>\n",
       "      <td>...</td>\n",
       "      <td>...</td>\n",
       "      <td>...</td>\n",
       "      <td>...</td>\n",
       "    </tr>\n",
       "    <tr>\n",
       "      <th>6250</th>\n",
       "      <td>598700</td>\n",
       "      <td>32</td>\n",
       "      <td>29</td>\n",
       "      <td>KNOWN</td>\n",
       "    </tr>\n",
       "    <tr>\n",
       "      <th>6251</th>\n",
       "      <td>598810</td>\n",
       "      <td>9</td>\n",
       "      <td>9</td>\n",
       "      <td>KNOWN</td>\n",
       "    </tr>\n",
       "    <tr>\n",
       "      <th>6252</th>\n",
       "      <td>598960</td>\n",
       "      <td>5</td>\n",
       "      <td>4</td>\n",
       "      <td>KNOWN</td>\n",
       "    </tr>\n",
       "    <tr>\n",
       "      <th>6253</th>\n",
       "      <td>598980</td>\n",
       "      <td>33</td>\n",
       "      <td>31</td>\n",
       "      <td>KNOWN</td>\n",
       "    </tr>\n",
       "    <tr>\n",
       "      <th>6254</th>\n",
       "      <td>597970</td>\n",
       "      <td>3</td>\n",
       "      <td>3</td>\n",
       "      <td>NICHE</td>\n",
       "    </tr>\n",
       "  </tbody>\n",
       "</table>\n",
       "<p>6255 rows × 4 columns</p>\n",
       "</div>"
      ],
      "text/plain": [
       "       appid  num_reviews  pos_reviews    fame\n",
       "0     204100          251          205  FAMOUS\n",
       "1     204120            8            6   KNOWN\n",
       "2     204180           21           16   KNOWN\n",
       "3     204240           17           15   KNOWN\n",
       "4     204300          149          132  FAMOUS\n",
       "...      ...          ...          ...     ...\n",
       "6250  598700           32           29   KNOWN\n",
       "6251  598810            9            9   KNOWN\n",
       "6252  598960            5            4   KNOWN\n",
       "6253  598980           33           31   KNOWN\n",
       "6254  597970            3            3   NICHE\n",
       "\n",
       "[6255 rows x 4 columns]"
      ]
     },
     "execution_count": 8,
     "metadata": {},
     "output_type": "execute_result"
    }
   ],
   "source": [
    "games"
   ]
  },
  {
   "cell_type": "markdown",
   "id": "aadeb6bf-f219-457e-9d96-c6cc36ab501b",
   "metadata": {},
   "source": [
    "### Create a percentage of positive reviews metric\n",
    "This is a \"quality metric\""
   ]
  },
  {
   "cell_type": "code",
   "execution_count": 9,
   "id": "8bfb17fa-c57f-4d9e-b775-d3a4887e0f8e",
   "metadata": {},
   "outputs": [],
   "source": [
    "games['perc_pos_revs'] = 100 * games.pos_reviews / games.num_reviews"
   ]
  },
  {
   "cell_type": "code",
   "execution_count": 10,
   "id": "2b65cf64-5f6a-4629-9b83-4c52324212ed",
   "metadata": {},
   "outputs": [
    {
     "data": {
      "text/html": [
       "<div>\n",
       "<style scoped>\n",
       "    .dataframe tbody tr th:only-of-type {\n",
       "        vertical-align: middle;\n",
       "    }\n",
       "\n",
       "    .dataframe tbody tr th {\n",
       "        vertical-align: top;\n",
       "    }\n",
       "\n",
       "    .dataframe thead th {\n",
       "        text-align: right;\n",
       "    }\n",
       "</style>\n",
       "<table border=\"1\" class=\"dataframe\">\n",
       "  <thead>\n",
       "    <tr style=\"text-align: right;\">\n",
       "      <th></th>\n",
       "      <th>appid</th>\n",
       "      <th>num_reviews</th>\n",
       "      <th>pos_reviews</th>\n",
       "      <th>fame</th>\n",
       "      <th>perc_pos_revs</th>\n",
       "    </tr>\n",
       "  </thead>\n",
       "  <tbody>\n",
       "    <tr>\n",
       "      <th>0</th>\n",
       "      <td>204100</td>\n",
       "      <td>251</td>\n",
       "      <td>205</td>\n",
       "      <td>FAMOUS</td>\n",
       "      <td>81.673307</td>\n",
       "    </tr>\n",
       "    <tr>\n",
       "      <th>1</th>\n",
       "      <td>204120</td>\n",
       "      <td>8</td>\n",
       "      <td>6</td>\n",
       "      <td>KNOWN</td>\n",
       "      <td>75.000000</td>\n",
       "    </tr>\n",
       "    <tr>\n",
       "      <th>2</th>\n",
       "      <td>204180</td>\n",
       "      <td>21</td>\n",
       "      <td>16</td>\n",
       "      <td>KNOWN</td>\n",
       "      <td>76.190476</td>\n",
       "    </tr>\n",
       "    <tr>\n",
       "      <th>3</th>\n",
       "      <td>204240</td>\n",
       "      <td>17</td>\n",
       "      <td>15</td>\n",
       "      <td>KNOWN</td>\n",
       "      <td>88.235294</td>\n",
       "    </tr>\n",
       "    <tr>\n",
       "      <th>4</th>\n",
       "      <td>204300</td>\n",
       "      <td>149</td>\n",
       "      <td>132</td>\n",
       "      <td>FAMOUS</td>\n",
       "      <td>88.590604</td>\n",
       "    </tr>\n",
       "  </tbody>\n",
       "</table>\n",
       "</div>"
      ],
      "text/plain": [
       "    appid  num_reviews  pos_reviews    fame  perc_pos_revs\n",
       "0  204100          251          205  FAMOUS      81.673307\n",
       "1  204120            8            6   KNOWN      75.000000\n",
       "2  204180           21           16   KNOWN      76.190476\n",
       "3  204240           17           15   KNOWN      88.235294\n",
       "4  204300          149          132  FAMOUS      88.590604"
      ]
     },
     "execution_count": 10,
     "metadata": {},
     "output_type": "execute_result"
    }
   ],
   "source": [
    "games.head()"
   ]
  },
  {
   "cell_type": "markdown",
   "id": "45471ff8-fe5e-41de-a2b5-d8f05eec87d1",
   "metadata": {},
   "source": [
    "# Hyp1) Does the average user prefer to stick with either popular games exor niche games?\n",
    "There is a loyalty towards a level of notoriety"
   ]
  },
  {
   "cell_type": "markdown",
   "id": "b8e4332a-4bad-47f1-82c1-f9e9acbd57e8",
   "metadata": {},
   "source": [
    "### For each user get list of games (s)he played"
   ]
  },
  {
   "cell_type": "code",
   "execution_count": 12,
   "id": "f2ba02da-7046-42d7-b942-a18ec4830daf",
   "metadata": {},
   "outputs": [],
   "source": [
    "user_games = df.groupby('steamid').appid.agg(lambda x : list(x)).to_frame().reset_index()"
   ]
  },
  {
   "cell_type": "markdown",
   "id": "c6f3da00-dbe9-4399-a675-14462e447faa",
   "metadata": {},
   "source": [
    "### Keep users that have reviewed at least 3 games"
   ]
  },
  {
   "cell_type": "code",
   "execution_count": 13,
   "id": "f9b69a66-d662-4e8b-b439-6fc75bfe8176",
   "metadata": {},
   "outputs": [],
   "source": [
    "user_games = user_games[user_games.appid.apply(lambda gs: len(gs)>2)]\n",
    "user_games = user_games.reset_index(drop=True)"
   ]
  },
  {
   "cell_type": "markdown",
   "id": "1f9d85ac-d9c7-40f5-a468-1d0cdff3ca7d",
   "metadata": {},
   "source": [
    "### Some utility funcs"
   ]
  },
  {
   "cell_type": "code",
   "execution_count": 14,
   "id": "94e06476-9e00-4dd0-8ac0-309a5b6ebaa9",
   "metadata": {},
   "outputs": [],
   "source": [
    "def appid_to_num_reviews(appid):\n",
    "    l = games[games.appid==appid].num_reviews.to_list()\n",
    "    return l[0] if l else 0"
   ]
  },
  {
   "cell_type": "code",
   "execution_count": 15,
   "id": "95ee24f9-af4f-4b65-bc12-a57685f75e44",
   "metadata": {},
   "outputs": [],
   "source": [
    "def appid_to_fame(appid):\n",
    "    l = games[games.appid==appid].fame.to_list()\n",
    "    return l[0] if l else 0"
   ]
  },
  {
   "cell_type": "code",
   "execution_count": 16,
   "id": "598af4da-699c-41b5-92c8-a2dedb7348e9",
   "metadata": {},
   "outputs": [
    {
     "data": {
      "text/html": [
       "<div>\n",
       "<style scoped>\n",
       "    .dataframe tbody tr th:only-of-type {\n",
       "        vertical-align: middle;\n",
       "    }\n",
       "\n",
       "    .dataframe tbody tr th {\n",
       "        vertical-align: top;\n",
       "    }\n",
       "\n",
       "    .dataframe thead th {\n",
       "        text-align: right;\n",
       "    }\n",
       "</style>\n",
       "<table border=\"1\" class=\"dataframe\">\n",
       "  <thead>\n",
       "    <tr style=\"text-align: right;\">\n",
       "      <th></th>\n",
       "      <th>steamid</th>\n",
       "      <th>appid</th>\n",
       "    </tr>\n",
       "  </thead>\n",
       "  <tbody>\n",
       "    <tr>\n",
       "      <th>0</th>\n",
       "      <td>76561197960270613</td>\n",
       "      <td>[312540, 816020, 838310]</td>\n",
       "    </tr>\n",
       "    <tr>\n",
       "      <th>1</th>\n",
       "      <td>76561197960271994</td>\n",
       "      <td>[274310, 319630, 6850, 105600]</td>\n",
       "    </tr>\n",
       "    <tr>\n",
       "      <th>2</th>\n",
       "      <td>76561197960279937</td>\n",
       "      <td>[251130, 58570, 666140]</td>\n",
       "    </tr>\n",
       "    <tr>\n",
       "      <th>3</th>\n",
       "      <td>76561197960281680</td>\n",
       "      <td>[814380, 414340, 447040]</td>\n",
       "    </tr>\n",
       "    <tr>\n",
       "      <th>4</th>\n",
       "      <td>76561197960319772</td>\n",
       "      <td>[214250, 217690, 219150, 226720, 6550, 356400]</td>\n",
       "    </tr>\n",
       "    <tr>\n",
       "      <th>...</th>\n",
       "      <td>...</td>\n",
       "      <td>...</td>\n",
       "    </tr>\n",
       "    <tr>\n",
       "      <th>2232</th>\n",
       "      <td>76561199032812732</td>\n",
       "      <td>[205100, 271590, 808910]</td>\n",
       "    </tr>\n",
       "    <tr>\n",
       "      <th>2233</th>\n",
       "      <td>76561199049375604</td>\n",
       "      <td>[447530, 550, 519860]</td>\n",
       "    </tr>\n",
       "    <tr>\n",
       "      <th>2234</th>\n",
       "      <td>76561199095484177</td>\n",
       "      <td>[331870, 618720, 410890, 453290]</td>\n",
       "    </tr>\n",
       "    <tr>\n",
       "      <th>2235</th>\n",
       "      <td>76561199117428662</td>\n",
       "      <td>[251570, 55230, 359550]</td>\n",
       "    </tr>\n",
       "    <tr>\n",
       "      <th>2236</th>\n",
       "      <td>76561199122263574</td>\n",
       "      <td>[284160, 397340, 552100]</td>\n",
       "    </tr>\n",
       "  </tbody>\n",
       "</table>\n",
       "<p>2237 rows × 2 columns</p>\n",
       "</div>"
      ],
      "text/plain": [
       "                steamid                                           appid\n",
       "0     76561197960270613                        [312540, 816020, 838310]\n",
       "1     76561197960271994                  [274310, 319630, 6850, 105600]\n",
       "2     76561197960279937                         [251130, 58570, 666140]\n",
       "3     76561197960281680                        [814380, 414340, 447040]\n",
       "4     76561197960319772  [214250, 217690, 219150, 226720, 6550, 356400]\n",
       "...                 ...                                             ...\n",
       "2232  76561199032812732                        [205100, 271590, 808910]\n",
       "2233  76561199049375604                           [447530, 550, 519860]\n",
       "2234  76561199095484177                [331870, 618720, 410890, 453290]\n",
       "2235  76561199117428662                         [251570, 55230, 359550]\n",
       "2236  76561199122263574                        [284160, 397340, 552100]\n",
       "\n",
       "[2237 rows x 2 columns]"
      ]
     },
     "execution_count": 16,
     "metadata": {},
     "output_type": "execute_result"
    }
   ],
   "source": [
    "user_games"
   ]
  },
  {
   "cell_type": "markdown",
   "id": "c5f69ee3-ce72-49d9-a6f5-ec577d63f401",
   "metadata": {},
   "source": [
    "### Convert list of games to list of \"fames\""
   ]
  },
  {
   "cell_type": "code",
   "execution_count": 17,
   "id": "a32ab295-e113-4dc4-876d-72fea3e53ec7",
   "metadata": {},
   "outputs": [],
   "source": [
    "user_games['fame'] = user_games.appid.apply(lambda gs : [appid_to_fame(g) for g in gs])"
   ]
  },
  {
   "cell_type": "code",
   "execution_count": 18,
   "id": "bba8ee54-a544-4799-8c3d-dcf79efc7074",
   "metadata": {},
   "outputs": [
    {
     "data": {
      "text/html": [
       "<div>\n",
       "<style scoped>\n",
       "    .dataframe tbody tr th:only-of-type {\n",
       "        vertical-align: middle;\n",
       "    }\n",
       "\n",
       "    .dataframe tbody tr th {\n",
       "        vertical-align: top;\n",
       "    }\n",
       "\n",
       "    .dataframe thead th {\n",
       "        text-align: right;\n",
       "    }\n",
       "</style>\n",
       "<table border=\"1\" class=\"dataframe\">\n",
       "  <thead>\n",
       "    <tr style=\"text-align: right;\">\n",
       "      <th></th>\n",
       "      <th>steamid</th>\n",
       "      <th>appid</th>\n",
       "      <th>fame</th>\n",
       "    </tr>\n",
       "  </thead>\n",
       "  <tbody>\n",
       "    <tr>\n",
       "      <th>0</th>\n",
       "      <td>76561197960270613</td>\n",
       "      <td>[312540, 816020, 838310]</td>\n",
       "      <td>[KNOWN, FAMOUS, KNOWN]</td>\n",
       "    </tr>\n",
       "    <tr>\n",
       "      <th>1</th>\n",
       "      <td>76561197960271994</td>\n",
       "      <td>[274310, 319630, 6850, 105600]</td>\n",
       "      <td>[KNOWN, FAMOUS, KNOWN, FAMOUS]</td>\n",
       "    </tr>\n",
       "    <tr>\n",
       "      <th>2</th>\n",
       "      <td>76561197960279937</td>\n",
       "      <td>[251130, 58570, 666140]</td>\n",
       "      <td>[KNOWN, KNOWN, FAMOUS]</td>\n",
       "    </tr>\n",
       "    <tr>\n",
       "      <th>3</th>\n",
       "      <td>76561197960281680</td>\n",
       "      <td>[814380, 414340, 447040]</td>\n",
       "      <td>[FAMOUS, FAMOUS, FAMOUS]</td>\n",
       "    </tr>\n",
       "    <tr>\n",
       "      <th>4</th>\n",
       "      <td>76561197960319772</td>\n",
       "      <td>[214250, 217690, 219150, 226720, 6550, 356400]</td>\n",
       "      <td>[KNOWN, KNOWN, FAMOUS, KNOWN, KNOWN, FAMOUS]</td>\n",
       "    </tr>\n",
       "    <tr>\n",
       "      <th>...</th>\n",
       "      <td>...</td>\n",
       "      <td>...</td>\n",
       "      <td>...</td>\n",
       "    </tr>\n",
       "    <tr>\n",
       "      <th>2232</th>\n",
       "      <td>76561199032812732</td>\n",
       "      <td>[205100, 271590, 808910]</td>\n",
       "      <td>[FAMOUS, FAMOUS, KNOWN]</td>\n",
       "    </tr>\n",
       "    <tr>\n",
       "      <th>2233</th>\n",
       "      <td>76561199049375604</td>\n",
       "      <td>[447530, 550, 519860]</td>\n",
       "      <td>[FAMOUS, FAMOUS, FAMOUS]</td>\n",
       "    </tr>\n",
       "    <tr>\n",
       "      <th>2234</th>\n",
       "      <td>76561199095484177</td>\n",
       "      <td>[331870, 618720, 410890, 453290]</td>\n",
       "      <td>[KNOWN, KNOWN, KNOWN, KNOWN]</td>\n",
       "    </tr>\n",
       "    <tr>\n",
       "      <th>2235</th>\n",
       "      <td>76561199117428662</td>\n",
       "      <td>[251570, 55230, 359550]</td>\n",
       "      <td>[FAMOUS, FAMOUS, FAMOUS]</td>\n",
       "    </tr>\n",
       "    <tr>\n",
       "      <th>2236</th>\n",
       "      <td>76561199122263574</td>\n",
       "      <td>[284160, 397340, 552100]</td>\n",
       "      <td>[FAMOUS, FAMOUS, FAMOUS]</td>\n",
       "    </tr>\n",
       "  </tbody>\n",
       "</table>\n",
       "<p>2237 rows × 3 columns</p>\n",
       "</div>"
      ],
      "text/plain": [
       "                steamid                                           appid  \\\n",
       "0     76561197960270613                        [312540, 816020, 838310]   \n",
       "1     76561197960271994                  [274310, 319630, 6850, 105600]   \n",
       "2     76561197960279937                         [251130, 58570, 666140]   \n",
       "3     76561197960281680                        [814380, 414340, 447040]   \n",
       "4     76561197960319772  [214250, 217690, 219150, 226720, 6550, 356400]   \n",
       "...                 ...                                             ...   \n",
       "2232  76561199032812732                        [205100, 271590, 808910]   \n",
       "2233  76561199049375604                           [447530, 550, 519860]   \n",
       "2234  76561199095484177                [331870, 618720, 410890, 453290]   \n",
       "2235  76561199117428662                         [251570, 55230, 359550]   \n",
       "2236  76561199122263574                        [284160, 397340, 552100]   \n",
       "\n",
       "                                              fame  \n",
       "0                           [KNOWN, FAMOUS, KNOWN]  \n",
       "1                   [KNOWN, FAMOUS, KNOWN, FAMOUS]  \n",
       "2                           [KNOWN, KNOWN, FAMOUS]  \n",
       "3                         [FAMOUS, FAMOUS, FAMOUS]  \n",
       "4     [KNOWN, KNOWN, FAMOUS, KNOWN, KNOWN, FAMOUS]  \n",
       "...                                            ...  \n",
       "2232                       [FAMOUS, FAMOUS, KNOWN]  \n",
       "2233                      [FAMOUS, FAMOUS, FAMOUS]  \n",
       "2234                  [KNOWN, KNOWN, KNOWN, KNOWN]  \n",
       "2235                      [FAMOUS, FAMOUS, FAMOUS]  \n",
       "2236                      [FAMOUS, FAMOUS, FAMOUS]  \n",
       "\n",
       "[2237 rows x 3 columns]"
      ]
     },
     "execution_count": 18,
     "metadata": {},
     "output_type": "execute_result"
    }
   ],
   "source": [
    "user_games"
   ]
  },
  {
   "cell_type": "markdown",
   "id": "4fff70bd-b7c6-4ce7-8bab-f08baa58a099",
   "metadata": {},
   "source": [
    "### Calculate loyalty of each user to a level of fame"
   ]
  },
  {
   "cell_type": "code",
   "execution_count": 19,
   "id": "99f7530d-0cb5-4296-95be-eda15beef7df",
   "metadata": {},
   "outputs": [],
   "source": [
    "user_games['loyalty'] = user_games.fame.apply(lambda x : 100 * max(Counter(x).values()) / sum(Counter(x).values()) )"
   ]
  },
  {
   "cell_type": "code",
   "execution_count": 20,
   "id": "063daee5-0334-4b98-80d5-5dc2e3350173",
   "metadata": {},
   "outputs": [
    {
     "data": {
      "text/plain": [
       "count    2237.000000\n",
       "mean       77.393383\n",
       "std        19.076578\n",
       "min        33.333333\n",
       "25%        66.666667\n",
       "50%        66.666667\n",
       "75%       100.000000\n",
       "max       100.000000\n",
       "Name: loyalty, dtype: float64"
      ]
     },
     "execution_count": 20,
     "metadata": {},
     "output_type": "execute_result"
    }
   ],
   "source": [
    "user_games.loyalty.describe()"
   ]
  },
  {
   "cell_type": "code",
   "execution_count": 21,
   "id": "e6277267-82e7-482d-927d-28619fa13733",
   "metadata": {},
   "outputs": [],
   "source": [
    "def stat_sign(x_bar, s, mu_null, n): # TODO: mean_test()\n",
    "    import scipy.stats as stats\n",
    "    import math\n",
    "    # Calculate the test statistic\n",
    "    test_stat = (x_bar - mu_null)/(s/math.sqrt(n))\n",
    "\n",
    "    # # Output the p-value of the test statistic (right tailed test)\n",
    "    p =  1-stats.t.cdf(test_stat, n-1)\n",
    "    \n",
    "    return test_stat, p \n"
   ]
  },
  {
   "cell_type": "code",
   "execution_count": 28,
   "id": "c3d4f097-7ee0-405b-905b-3d58190d4742",
   "metadata": {},
   "outputs": [
    {
     "data": {
      "text/plain": [
       "(5.933962679174627, 1.7091031923044397e-09)"
      ]
     },
     "execution_count": 28,
     "metadata": {},
     "output_type": "execute_result"
    }
   ],
   "source": [
    "stat_sign(user_games.loyalty.mean(), user_games.loyalty.std(), 75 , len(user_games.loyalty))"
   ]
  },
  {
   "cell_type": "markdown",
   "id": "770a4745-8683-499f-8946-a86a822d7ac9",
   "metadata": {},
   "source": [
    "# Hyp2) Do players who play mostly famous games enjoy playing non-famous when they do?"
   ]
  },
  {
   "cell_type": "code",
   "execution_count": 272,
   "id": "b6859f22-26d1-4190-8bc9-17ff90105f3d",
   "metadata": {},
   "outputs": [],
   "source": [
    "user_games['loyalty_famous'] = user_games.fame.apply( lambda gs : 100*Counter(gs)['FAMOUS'] / sum(Counter(gs).values())  )                                                                                                \n",
    "# user_games['loyalty_niche'] = user_games.fame.apply( lambda gs : 100*Counter(gs)['NICHE'] / sum(Counter(gs).values())  )                                                                                                "
   ]
  },
  {
   "cell_type": "code",
   "execution_count": 273,
   "id": "d449468c-40d5-4b6c-8398-50cf07d53ddc",
   "metadata": {},
   "outputs": [],
   "source": [
    "pop_game_players = user_games[ (user_games.loyalty_famous > 60)  & (user_games.loyalty_niche != 0 )]"
   ]
  },
  {
   "cell_type": "code",
   "execution_count": 274,
   "id": "2e16615c-4bf6-47da-a922-6f266c6c07b9",
   "metadata": {},
   "outputs": [],
   "source": [
    "def get_vote_val(userid, appid):\n",
    "    return df[(df.steamid == userid) & (df.appid == appid) ].voted_up.to_list()[0]"
   ]
  },
  {
   "cell_type": "code",
   "execution_count": 275,
   "id": "17faeaf3-db4b-43b7-a22c-63fe41f5b531",
   "metadata": {},
   "outputs": [
    {
     "name": "stderr",
     "output_type": "stream",
     "text": [
      "/tmp/ipykernel_29381/1071100580.py:1: SettingWithCopyWarning: \n",
      "A value is trying to be set on a copy of a slice from a DataFrame.\n",
      "Try using .loc[row_indexer,col_indexer] = value instead\n",
      "\n",
      "See the caveats in the documentation: https://pandas.pydata.org/pandas-docs/stable/user_guide/indexing.html#returning-a-view-versus-a-copy\n",
      "  pop_game_players['appreciation_niche'] = pop_game_players.apply(lambda r : [get_vote_val(r.steamid, g) for g in r.appid if appid_to_fame(g) == 'NICHE'  ], axis=1).apply(lambda x : 100 * sum(x)/len(x))\n"
     ]
    }
   ],
   "source": [
    "pop_game_players['appreciation_niche'] = pop_game_players.apply(lambda r : [get_vote_val(r.steamid, g) for g in r.appid if appid_to_fame(g) == 'NICHE'  ], axis=1).apply(lambda x : 100 * sum(x)/len(x))\n",
    "# pop_game_players['appreciation_famous'] = pop_game_players.apply(lambda r : [get_vote_val(r.steamid, g) for g in r.appid if appid_to_fame(g) == 'FAMOUS'  ], axis=1).apply(lambda x : 100 * sum(x)/len(x))"
   ]
  },
  {
   "cell_type": "code",
   "execution_count": 276,
   "id": "97ef1c71-dcdc-495c-b86c-ffe6ac51ed68",
   "metadata": {},
   "outputs": [
    {
     "data": {
      "text/plain": [
       "82.05128205128206"
      ]
     },
     "execution_count": 276,
     "metadata": {},
     "output_type": "execute_result"
    }
   ],
   "source": [
    "pop_game_players.appreciation_niche.mean()"
   ]
  },
  {
   "cell_type": "code",
   "execution_count": 277,
   "id": "100d7c28-1bae-458f-a36d-e2ad0d6b4522",
   "metadata": {},
   "outputs": [
    {
     "data": {
      "text/plain": [
       "(2.7556192588962674, 0.003654444477156904)"
      ]
     },
     "execution_count": 277,
     "metadata": {},
     "output_type": "execute_result"
    }
   ],
   "source": [
    "mu = 70\n",
    "stat_sign(pop_game_players.appreciation_niche.mean(), pop_game_players.appreciation_niche.std(), mu, len( pop_game_players.appreciation_niche))"
   ]
  },
  {
   "cell_type": "code",
   "execution_count": null,
   "id": "f3d45ba7-ea7e-44e8-8596-fa945f34b7c5",
   "metadata": {},
   "outputs": [],
   "source": []
  },
  {
   "cell_type": "code",
   "execution_count": null,
   "id": "5dada6c0-2a7e-4794-9f44-950548f50110",
   "metadata": {},
   "outputs": [],
   "source": []
  },
  {
   "cell_type": "code",
   "execution_count": null,
   "id": "25c5d218-b50d-4c31-b034-cf286eca3f78",
   "metadata": {},
   "outputs": [],
   "source": []
  },
  {
   "cell_type": "code",
   "execution_count": null,
   "id": "3eebc9df-8696-4adf-84f5-ef89e5a5b280",
   "metadata": {},
   "outputs": [],
   "source": []
  },
  {
   "cell_type": "code",
   "execution_count": null,
   "id": "ffafe474-f869-4894-9908-13148b275371",
   "metadata": {},
   "outputs": [],
   "source": []
  },
  {
   "cell_type": "code",
   "execution_count": null,
   "id": "d007a968-f0e6-468e-9eba-ea06fa5d8f85",
   "metadata": {},
   "outputs": [],
   "source": []
  },
  {
   "cell_type": "code",
   "execution_count": null,
   "id": "562eef49-f582-4e4e-b83e-45dd5b45f779",
   "metadata": {},
   "outputs": [],
   "source": []
  },
  {
   "cell_type": "code",
   "execution_count": null,
   "id": "a41af797-c61a-4291-b50c-7eb4015878d2",
   "metadata": {},
   "outputs": [],
   "source": []
  }
 ],
 "metadata": {
  "kernelspec": {
   "display_name": "Python 3 (ipykernel)",
   "language": "python",
   "name": "python3"
  },
  "language_info": {
   "codemirror_mode": {
    "name": "ipython",
    "version": 3
   },
   "file_extension": ".py",
   "mimetype": "text/x-python",
   "name": "python",
   "nbconvert_exporter": "python",
   "pygments_lexer": "ipython3",
   "version": "3.8.10"
  }
 },
 "nbformat": 4,
 "nbformat_minor": 5
}
