{
 "cells": [
  {
   "cell_type": "code",
   "execution_count": 21,
   "metadata": {},
   "outputs": [],
   "source": [
    "import pymongo, pandas as pd, numpy as np, re, sklearn, nltk"
   ]
  },
  {
   "cell_type": "markdown",
   "metadata": {},
   "source": [
    "# Fifth Hypothesis:\n",
    "\n",
    "In the following notebook it will be analyzed the following hypotesis:\n",
    " - **Does there exist a relationship between the text of the review and the number of *votes up* that it receives? Can we predict this value with a Machine Learning model?**"
   ]
  },
  {
   "cell_type": "markdown",
   "metadata": {},
   "source": [
    "## Correlation between the text of the review and the votes up\n",
    "\n",
    "We want to start with an easy model that just considers the text of the review and the votes up, in order to understand if there is a correlation between those two features. <br>\n",
    "If the overall accuracy of that simple model is good enough we'll stop considering it as the optimal one, otherwise we'll add new reasonable features to the model in order to increase the obtained performances."
   ]
  },
  {
   "cell_type": "markdown",
   "metadata": {},
   "source": [
    "### Import json reviews dataset & select relevant features to perform the analysis"
   ]
  },
  {
   "cell_type": "code",
   "execution_count": 2,
   "metadata": {},
   "outputs": [],
   "source": [
    "# Connect to the mongo local and load as a dataframe the small_reviews collection\n",
    "mongo = pymongo.MongoClient()\n",
    "mongo_db = mongo.final_project\n",
    "small_reviews_df = pd.DataFrame(list(mongo_db.small_reviews.find({}, {'_id': False})))\n",
    "mongo.close() #Close the connection"
   ]
  },
  {
   "cell_type": "code",
   "execution_count": 3,
   "metadata": {},
   "outputs": [
    {
     "data": {
      "text/html": [
       "<div>\n",
       "<style scoped>\n",
       "    .dataframe tbody tr th:only-of-type {\n",
       "        vertical-align: middle;\n",
       "    }\n",
       "\n",
       "    .dataframe tbody tr th {\n",
       "        vertical-align: top;\n",
       "    }\n",
       "\n",
       "    .dataframe thead th {\n",
       "        text-align: right;\n",
       "    }\n",
       "</style>\n",
       "<table border=\"1\" class=\"dataframe\">\n",
       "  <thead>\n",
       "    <tr style=\"text-align: right;\">\n",
       "      <th></th>\n",
       "      <th>review</th>\n",
       "      <th>votes_up</th>\n",
       "    </tr>\n",
       "  </thead>\n",
       "  <tbody>\n",
       "    <tr>\n",
       "      <th>0</th>\n",
       "      <td>good\\n</td>\n",
       "      <td>0</td>\n",
       "    </tr>\n",
       "    <tr>\n",
       "      <th>1</th>\n",
       "      <td>I beat this game 5 times on ps3, when i saw th...</td>\n",
       "      <td>0</td>\n",
       "    </tr>\n",
       "    <tr>\n",
       "      <th>2</th>\n",
       "      <td>one of the  best 3rd person shooting game</td>\n",
       "      <td>0</td>\n",
       "    </tr>\n",
       "    <tr>\n",
       "      <th>3</th>\n",
       "      <td>I enjoy the game.  Played it to 100% on PS3 an...</td>\n",
       "      <td>0</td>\n",
       "    </tr>\n",
       "    <tr>\n",
       "      <th>4</th>\n",
       "      <td>me cague a tiro con brazucas y me empastille a...</td>\n",
       "      <td>0</td>\n",
       "    </tr>\n",
       "    <tr>\n",
       "      <th>...</th>\n",
       "      <td>...</td>\n",
       "      <td>...</td>\n",
       "    </tr>\n",
       "    <tr>\n",
       "      <th>308519</th>\n",
       "      <td>Excuse me kind programmer this game isnt worki...</td>\n",
       "      <td>2</td>\n",
       "    </tr>\n",
       "    <tr>\n",
       "      <th>308520</th>\n",
       "      <td>Really fun, great game design. I like the char...</td>\n",
       "      <td>1</td>\n",
       "    </tr>\n",
       "    <tr>\n",
       "      <th>308521</th>\n",
       "      <td>I just bought this game, I like it, it has a l...</td>\n",
       "      <td>1</td>\n",
       "    </tr>\n",
       "    <tr>\n",
       "      <th>308522</th>\n",
       "      <td>Age of Rivals is a really interesting card gam...</td>\n",
       "      <td>4</td>\n",
       "    </tr>\n",
       "    <tr>\n",
       "      <th>308523</th>\n",
       "      <td>As a Unity developer myself, all I can say is ...</td>\n",
       "      <td>0</td>\n",
       "    </tr>\n",
       "  </tbody>\n",
       "</table>\n",
       "<p>308524 rows × 2 columns</p>\n",
       "</div>"
      ],
      "text/plain": [
       "                                                   review  votes_up\n",
       "0                                                  good\\n         0\n",
       "1       I beat this game 5 times on ps3, when i saw th...         0\n",
       "2               one of the  best 3rd person shooting game         0\n",
       "3       I enjoy the game.  Played it to 100% on PS3 an...         0\n",
       "4       me cague a tiro con brazucas y me empastille a...         0\n",
       "...                                                   ...       ...\n",
       "308519  Excuse me kind programmer this game isnt worki...         2\n",
       "308520  Really fun, great game design. I like the char...         1\n",
       "308521  I just bought this game, I like it, it has a l...         1\n",
       "308522  Age of Rivals is a really interesting card gam...         4\n",
       "308523  As a Unity developer myself, all I can say is ...         0\n",
       "\n",
       "[308524 rows x 2 columns]"
      ]
     },
     "execution_count": 3,
     "metadata": {},
     "output_type": "execute_result"
    }
   ],
   "source": [
    "# Select only the useful data to perform the analysis\n",
    "df = small_reviews_df[['review', 'votes_up']]\n",
    "df"
   ]
  },
  {
   "cell_type": "markdown",
   "metadata": {},
   "source": [
    "### Remove empty text reviews"
   ]
  },
  {
   "cell_type": "code",
   "execution_count": 4,
   "metadata": {},
   "outputs": [
    {
     "name": "stdout",
     "output_type": "stream",
     "text": [
      "       review  votes_up\n",
      "289      None         0\n",
      "1016     None         0\n",
      "1420     None         0\n",
      "1920     None         0\n",
      "2132     None         0\n",
      "...       ...       ...\n",
      "304378   None         0\n",
      "304422   None         0\n",
      "305249   None         0\n",
      "305271   None         0\n",
      "305504   None         0\n",
      "\n",
      "[440 rows x 2 columns]\n"
     ]
    }
   ],
   "source": [
    "# It looks like some written reviews are empty...\n",
    "print(df[df['review'].isna() == True])"
   ]
  },
  {
   "cell_type": "code",
   "execution_count": 5,
   "metadata": {},
   "outputs": [],
   "source": [
    "# Remove NaN elements in dataframe\n",
    "df = df.dropna()"
   ]
  },
  {
   "cell_type": "markdown",
   "metadata": {},
   "source": [
    "### Divide reviews in two classes: useful & not useful\n",
    "\n",
    "Since this hypothesis can be used by Steam in order to display, for users that are interested on buying a new game, only the potential useful reviews (the ones having more than N votes up) the idea is to consider only useful and not useful reviews and build a model that is capable of recognizing those two classes. <br>\n",
    "Since we do not want our model to be biased towards one of the two classes, we'll consider the same number of samples for the two different classes (useful/not useful review).<br>\n",
    "For us a good review is when its associated *votes_up* has a value greater than the M percentile of the overall *votes_up* distribution."
   ]
  },
  {
   "cell_type": "code",
   "execution_count": 6,
   "metadata": {},
   "outputs": [
    {
     "data": {
      "text/plain": [
       "32.0"
      ]
     },
     "execution_count": 6,
     "metadata": {},
     "output_type": "execute_result"
    }
   ],
   "source": [
    "votes_up_for_useful_review = np.percentile(df['votes_up'], 99)\n",
    "votes_up_for_useful_review"
   ]
  },
  {
   "cell_type": "code",
   "execution_count": 7,
   "metadata": {},
   "outputs": [
    {
     "data": {
      "text/html": [
       "<div>\n",
       "<style scoped>\n",
       "    .dataframe tbody tr th:only-of-type {\n",
       "        vertical-align: middle;\n",
       "    }\n",
       "\n",
       "    .dataframe tbody tr th {\n",
       "        vertical-align: top;\n",
       "    }\n",
       "\n",
       "    .dataframe thead th {\n",
       "        text-align: right;\n",
       "    }\n",
       "</style>\n",
       "<table border=\"1\" class=\"dataframe\">\n",
       "  <thead>\n",
       "    <tr style=\"text-align: right;\">\n",
       "      <th></th>\n",
       "      <th>review</th>\n",
       "      <th>votes_up</th>\n",
       "    </tr>\n",
       "  </thead>\n",
       "  <tbody>\n",
       "    <tr>\n",
       "      <th>243795</th>\n",
       "      <td>Watch Dogs 1: No\\nWatch Dogs 2: Yes\\n\\nThat's ...</td>\n",
       "      <td>40</td>\n",
       "    </tr>\n",
       "    <tr>\n",
       "      <th>130477</th>\n",
       "      <td>[h1]Review: Batman Arkham Asylum GOTY  [/h1]\\n...</td>\n",
       "      <td>34</td>\n",
       "    </tr>\n",
       "    <tr>\n",
       "      <th>187363</th>\n",
       "      <td>Perfect boosted my fps on csgo with a slightly...</td>\n",
       "      <td>50</td>\n",
       "    </tr>\n",
       "    <tr>\n",
       "      <th>52687</th>\n",
       "      <td>haha, car goes brrrrrrr</td>\n",
       "      <td>87</td>\n",
       "    </tr>\n",
       "    <tr>\n",
       "      <th>65310</th>\n",
       "      <td>If you have Windows 10, you need to go to stea...</td>\n",
       "      <td>34</td>\n",
       "    </tr>\n",
       "    <tr>\n",
       "      <th>...</th>\n",
       "      <td>...</td>\n",
       "      <td>...</td>\n",
       "    </tr>\n",
       "    <tr>\n",
       "      <th>181329</th>\n",
       "      <td>I really wanted to like this game, but in the ...</td>\n",
       "      <td>37</td>\n",
       "    </tr>\n",
       "    <tr>\n",
       "      <th>24323</th>\n",
       "      <td>You've heard all those stories in school about...</td>\n",
       "      <td>37</td>\n",
       "    </tr>\n",
       "    <tr>\n",
       "      <th>97477</th>\n",
       "      <td>OK I played the old version and own the new ve...</td>\n",
       "      <td>0</td>\n",
       "    </tr>\n",
       "    <tr>\n",
       "      <th>15524</th>\n",
       "      <td>This is a scam.</td>\n",
       "      <td>8</td>\n",
       "    </tr>\n",
       "    <tr>\n",
       "      <th>19226</th>\n",
       "      <td>This game crashes all the time and these are n...</td>\n",
       "      <td>1</td>\n",
       "    </tr>\n",
       "  </tbody>\n",
       "</table>\n",
       "<p>6228 rows × 2 columns</p>\n",
       "</div>"
      ],
      "text/plain": [
       "                                                   review  votes_up\n",
       "243795  Watch Dogs 1: No\\nWatch Dogs 2: Yes\\n\\nThat's ...        40\n",
       "130477  [h1]Review: Batman Arkham Asylum GOTY  [/h1]\\n...        34\n",
       "187363  Perfect boosted my fps on csgo with a slightly...        50\n",
       "52687                             haha, car goes brrrrrrr        87\n",
       "65310   If you have Windows 10, you need to go to stea...        34\n",
       "...                                                   ...       ...\n",
       "181329  I really wanted to like this game, but in the ...        37\n",
       "24323   You've heard all those stories in school about...        37\n",
       "97477   OK I played the old version and own the new ve...         0\n",
       "15524                                     This is a scam.         8\n",
       "19226   This game crashes all the time and these are n...         1\n",
       "\n",
       "[6228 rows x 2 columns]"
      ]
     },
     "execution_count": 7,
     "metadata": {},
     "output_type": "execute_result"
    }
   ],
   "source": [
    "useful_review_df = df[df['votes_up'] >= votes_up_for_useful_review]\n",
    "not_useful_review_df = df[df['votes_up'] < votes_up_for_useful_review].sample(n=len(useful_review_df), random_state=0)\n",
    "restricted_df = pd.concat([useful_review_df, not_useful_review_df])\n",
    "restricted_df = restricted_df.sample(frac=1) # shuffling\n",
    "restricted_df"
   ]
  },
  {
   "cell_type": "code",
   "execution_count": 8,
   "metadata": {},
   "outputs": [],
   "source": [
    "# Replace the output label with a 1 (so a good review) if the review's votes up are greater than threshold, 0 otherwise\n",
    "y = np.array(restricted_df['votes_up'].apply(lambda x: 0 if x < votes_up_for_useful_review else 1))"
   ]
  },
  {
   "cell_type": "markdown",
   "metadata": {},
   "source": [
    "### Obtain the Bag-Of-Words and predict, using the review text, the votes_up values"
   ]
  },
  {
   "cell_type": "code",
   "execution_count": 9,
   "metadata": {},
   "outputs": [],
   "source": [
    "# Define the vectorizer object that applies stemming and removes english stop words to input documents\n",
    "CountVectorizer = sklearn.feature_extraction.text.CountVectorizer\n",
    "stemmer = nltk.stem.PorterStemmer()\n",
    "analyzer = CountVectorizer(stop_words='english').build_analyzer()\n",
    "def stemmed_words(doc):\n",
    "    return (stemmer.stem(w) for w in analyzer(doc))\n",
    "\n",
    "# This function instead is used in order to remove not characters in written reviews\n",
    "def remove_not_characters(input):\n",
    "    return ''.join(list(filter(lambda ele: re.search(\"[a-zA-Z\\s]+\", ele) is not None, list(input))))"
   ]
  },
  {
   "cell_type": "code",
   "execution_count": 10,
   "metadata": {},
   "outputs": [],
   "source": [
    "# Remove to all the documents the not characters\n",
    "docs = np.array(restricted_df['review'].apply(lambda x: remove_not_characters(x)))\n",
    "# Build the vectorizer\n",
    "stem_vectorizer = CountVectorizer(analyzer=stemmed_words)\n",
    "# Fit the bag-of-words model\n",
    "bow = stem_vectorizer.fit_transform(docs)"
   ]
  },
  {
   "cell_type": "code",
   "execution_count": 11,
   "metadata": {},
   "outputs": [],
   "source": [
    "# Obtain input\n",
    "X = bow.toarray()\n",
    "\n",
    "# Create training and test split\n",
    "X_train, X_test, y_train, y_test = sklearn.model_selection.train_test_split(X, y, train_size=0.9, shuffle=True, random_state=0)"
   ]
  },
  {
   "cell_type": "markdown",
   "metadata": {},
   "source": [
    "### Models\n",
    "\n",
    "\n",
    "#### Logistic Regression"
   ]
  },
  {
   "cell_type": "code",
   "execution_count": 12,
   "metadata": {},
   "outputs": [
    {
     "name": "stdout",
     "output_type": "stream",
     "text": [
      "Logistic Regression accuracy: 67.09\n"
     ]
    }
   ],
   "source": [
    "# Create an instance of LogisticRegression classifier\n",
    "lr = sklearn.linear_model.LogisticRegression(C=100.0, random_state=0, solver='liblinear', multi_class='ovr')\n",
    "# Fit the model\n",
    "lr.fit(X_train, y_train)\n",
    "# Create the predictions\n",
    "lr_y_predict = lr.predict(X_test)\n",
    "# Use metrics.accuracy_score to measure the score\n",
    "print(\"Logistic Regression accuracy: %.2f\" % (sklearn.metrics.accuracy_score(y_test, lr_y_predict) * 100))"
   ]
  },
  {
   "cell_type": "markdown",
   "metadata": {},
   "source": [
    "#### Support Vector Machine"
   ]
  },
  {
   "cell_type": "code",
   "execution_count": 13,
   "metadata": {},
   "outputs": [
    {
     "name": "stdout",
     "output_type": "stream",
     "text": [
      "SVM accuracy: 70.47\n"
     ]
    }
   ],
   "source": [
    "# Create an instance of SVM classifier\n",
    "svm = sklearn.svm.SVC(random_state=0)\n",
    "# Fit the model\n",
    "svm.fit(X_train, y_train)\n",
    "# Create the predictions\n",
    "svm_y_predict = svm.predict(X_test)\n",
    "# Use metrics.accuracy_score to measure the score\n",
    "print(\"SVM accuracy: %.2f\" % (sklearn.metrics.accuracy_score(y_test, svm_y_predict) * 100))"
   ]
  },
  {
   "cell_type": "markdown",
   "metadata": {},
   "source": [
    "Those results show (no matter the model) that there is a correlation between the text of the review and the *votes_up* label, otherwise the accuracy of our model would have been of the 50% (randomly picking one class). <br>"
   ]
  },
  {
   "cell_type": "markdown",
   "metadata": {},
   "source": [
    "### Confusion matrix, using the best simple model"
   ]
  },
  {
   "cell_type": "code",
   "execution_count": 22,
   "metadata": {},
   "outputs": [
    {
     "data": {
      "image/png": "[encoded data removed]",
      "text/plain": [
       "<Figure size 432x288 with 2 Axes>"
      ]
     },
     "metadata": {
      "needs_background": "light"
     },
     "output_type": "display_data"
    }
   ],
   "source": [
    "lr_acc = sklearn.metrics.accuracy_score(y_test, lr_y_predict)\n",
    "svm_acc = sklearn.metrics.accuracy_score(y_test, svm_y_predict)\n",
    "\n",
    "confusion_matrix = sklearn.metrics.confusion_matrix(y_test, svm_y_predict if svm_acc > lr_acc else lr_y_predict)\n",
    "cm_display = sklearn.metrics.ConfusionMatrixDisplay(confusion_matrix = confusion_matrix, display_labels = [False, True])\n",
    "cm_display.plot();"
   ]
  },
  {
   "cell_type": "markdown",
   "metadata": {},
   "source": [
    "### Add new features to the simple model (that just uses reviews' text), to improve predictions \n",
    "\n",
    "Can we increase the accuracy of our model by adding new suited features to the model's input?"
   ]
  },
  {
   "cell_type": "code",
   "execution_count": null,
   "metadata": {},
   "outputs": [],
   "source": []
  }
 ],
 "metadata": {
  "kernelspec": {
   "display_name": "Python 3.9.2 64-bit",
   "language": "python",
   "name": "python3"
  },
  "language_info": {
   "codemirror_mode": {
    "name": "ipython",
    "version": 3
   },
   "file_extension": ".py",
   "mimetype": "text/x-python",
   "name": "python",
   "nbconvert_exporter": "python",
   "pygments_lexer": "ipython3",
   "version": "3.9.2"
  },
  "orig_nbformat": 4,
  "vscode": {
   "interpreter": {
    "hash": "aee8b7b246df8f9039afb4144a1f6fd8d2ca17a180786b69acc140d282b71a49"
   }
  }
 },
 "nbformat": 4,
 "nbformat_minor": 2
}
