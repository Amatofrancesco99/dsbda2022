{
 "cells": [
  {
   "cell_type": "markdown",
   "id": "e7d1ec9f",
   "metadata": {},
   "source": [
    "# Reviews Dataset Filtering"
   ]
  },
  {
   "cell_type": "code",
   "execution_count": 1,
   "id": "3c5e69fa",
   "metadata": {
    "scrolled": true
   },
   "outputs": [
    {
     "name": "stdout",
     "output_type": "stream",
     "text": [
      "Using Spark located in /usr/local/spark/.\n"
     ]
    },
    {
     "name": "stderr",
     "output_type": "stream",
     "text": [
      "Using Spark's default log4j profile: org/apache/spark/log4j-defaults.properties\n",
      "Setting default log level to \"WARN\".\n",
      "To adjust logging level use sc.setLogLevel(newLevel). For SparkR, use setLogLevel(newLevel).\n",
      "22/08/30 18:13:51 WARN NativeCodeLoader: Unable to load native-hadoop library for your platform... using builtin-java classes where applicable\n"
     ]
    }
   ],
   "source": [
    "import findspark\n",
    "\n",
    "# Locate the Spark installation (add pyspark to sys.path, see https://github.com/minrk/findspark#readme)\n",
    "findspark.init()\n",
    "print(f'Using Spark located in {findspark.find()}.')\n",
    "\n",
    "from pyspark.sql import SparkSession\n",
    "\n",
    "# Create or get the Spark session (singleton) and the underlying Spark context\n",
    "spark = SparkSession.builder.getOrCreate()"
   ]
  },
  {
   "cell_type": "code",
   "execution_count": 2,
   "id": "1e0ad4aa",
   "metadata": {
    "scrolled": true
   },
   "outputs": [
    {
     "name": "stderr",
     "output_type": "stream",
     "text": [
      "WARNING:root:'PYARROW_IGNORE_TIMEZONE' environment variable was not set. It is required to set this environment variable to '1' in both driver and executor sides if you use pyarrow>=2.0.0. pandas-on-Spark will set it for you but it does not work if there is a Spark context already launched.\n"
     ]
    }
   ],
   "source": [
    "from pyspark.sql.types import BooleanType, DoubleType, LongType, StringType, StructField, StructType\n",
    "\n",
    "# Define a reasonable schema for the base reviews dataset\n",
    "base_reviews_schema = StructType([\n",
    "    StructField('base_review_id', LongType(), True),\n",
    "    StructField('steamid', LongType(), True),\n",
    "    StructField('appid', LongType(), True),\n",
    "    StructField('voted_up', BooleanType(), True),\n",
    "    StructField('votes_up', LongType(), True),\n",
    "    StructField('votes_funny', LongType(), True),\n",
    "    StructField('weighted_vote_score', DoubleType(), True),\n",
    "    StructField('playtime_forever', LongType(), True),\n",
    "    StructField('playtime_at_review', LongType(), True),\n",
    "    StructField('num_games_owned', LongType(), True),\n",
    "    StructField('num_reviews', LongType(), True),\n",
    "    StructField('review', StringType(), True),\n",
    "    StructField('unix_timestamp_created', LongType(), True),\n",
    "    StructField('unix_timestamp_updated', LongType(), True)\n",
    "])\n",
    "\n",
    "# Read the base reviews dataset from HDFS\n",
    "base_reviews_df = spark.read.csv(\n",
    "    path='hdfs://localhost:54310/final_project/data/base_reviews',\n",
    "    schema=base_reviews_schema,\n",
    "    escape='\"',\n",
    "    header=True,\n",
    "    ignoreTrailingWhiteSpace=True,\n",
    "    mode='FAILFAST',\n",
    "    multiLine=True,\n",
    "    unescapedQuoteHandling='STOP_AT_CLOSING_QUOTE'\n",
    ").to_pandas_on_spark()"
   ]
  },
  {
   "cell_type": "code",
   "execution_count": 3,
   "id": "f16386c7",
   "metadata": {
    "scrolled": true
   },
   "outputs": [
    {
     "name": "stderr",
     "output_type": "stream",
     "text": [
      "\r",
      "[Stage 0:>                                                          (0 + 1) / 1]\r",
      "\r",
      "                                                                                \r"
     ]
    },
    {
     "data": {
      "text/html": [
       "<div>\n",
       "<style scoped>\n",
       "    .dataframe tbody tr th:only-of-type {\n",
       "        vertical-align: middle;\n",
       "    }\n",
       "\n",
       "    .dataframe tbody tr th {\n",
       "        vertical-align: top;\n",
       "    }\n",
       "\n",
       "    .dataframe thead th {\n",
       "        text-align: right;\n",
       "    }\n",
       "</style>\n",
       "<table border=\"1\" class=\"dataframe\">\n",
       "  <thead>\n",
       "    <tr style=\"text-align: right;\">\n",
       "      <th></th>\n",
       "      <th>base_review_id</th>\n",
       "      <th>steamid</th>\n",
       "      <th>appid</th>\n",
       "      <th>voted_up</th>\n",
       "      <th>votes_up</th>\n",
       "      <th>votes_funny</th>\n",
       "      <th>weighted_vote_score</th>\n",
       "      <th>playtime_forever</th>\n",
       "      <th>playtime_at_review</th>\n",
       "      <th>num_games_owned</th>\n",
       "      <th>num_reviews</th>\n",
       "      <th>review</th>\n",
       "      <th>unix_timestamp_created</th>\n",
       "      <th>unix_timestamp_updated</th>\n",
       "    </tr>\n",
       "  </thead>\n",
       "  <tbody>\n",
       "    <tr>\n",
       "      <th>0</th>\n",
       "      <td>0</td>\n",
       "      <td>76561199012934585</td>\n",
       "      <td>204100</td>\n",
       "      <td>True</td>\n",
       "      <td>0</td>\n",
       "      <td>0</td>\n",
       "      <td>0.000000</td>\n",
       "      <td>1671</td>\n",
       "      <td>1660</td>\n",
       "      <td>37</td>\n",
       "      <td>10</td>\n",
       "      <td>A masterpiece that is extremely underrated. Th...</td>\n",
       "      <td>1619063926</td>\n",
       "      <td>1619063926</td>\n",
       "    </tr>\n",
       "    <tr>\n",
       "      <th>1</th>\n",
       "      <td>1</td>\n",
       "      <td>76561198242204348</td>\n",
       "      <td>204100</td>\n",
       "      <td>True</td>\n",
       "      <td>0</td>\n",
       "      <td>0</td>\n",
       "      <td>0.000000</td>\n",
       "      <td>414</td>\n",
       "      <td>414</td>\n",
       "      <td>54</td>\n",
       "      <td>28</td>\n",
       "      <td>Not like 1 and 2 of the series but its alright.</td>\n",
       "      <td>1619047384</td>\n",
       "      <td>1619047384</td>\n",
       "    </tr>\n",
       "    <tr>\n",
       "      <th>2</th>\n",
       "      <td>2</td>\n",
       "      <td>76561198078115373</td>\n",
       "      <td>204100</td>\n",
       "      <td>False</td>\n",
       "      <td>1</td>\n",
       "      <td>1</td>\n",
       "      <td>0.522059</td>\n",
       "      <td>119</td>\n",
       "      <td>119</td>\n",
       "      <td>91</td>\n",
       "      <td>8</td>\n",
       "      <td>Unskippable cut scenes are horrible. Gameplay ...</td>\n",
       "      <td>1619040366</td>\n",
       "      <td>1619040366</td>\n",
       "    </tr>\n",
       "    <tr>\n",
       "      <th>3</th>\n",
       "      <td>3</td>\n",
       "      <td>76561198255525846</td>\n",
       "      <td>204100</td>\n",
       "      <td>True</td>\n",
       "      <td>0</td>\n",
       "      <td>0</td>\n",
       "      <td>0.000000</td>\n",
       "      <td>69</td>\n",
       "      <td>69</td>\n",
       "      <td>27</td>\n",
       "      <td>1</td>\n",
       "      <td>I enjoy the game.  Played it to 100% on PS3 an...</td>\n",
       "      <td>1619035215</td>\n",
       "      <td>1619035215</td>\n",
       "    </tr>\n",
       "    <tr>\n",
       "      <th>4</th>\n",
       "      <td>4</td>\n",
       "      <td>76561199026331378</td>\n",
       "      <td>204100</td>\n",
       "      <td>True</td>\n",
       "      <td>0</td>\n",
       "      <td>0</td>\n",
       "      <td>0.000000</td>\n",
       "      <td>608</td>\n",
       "      <td>608</td>\n",
       "      <td>40</td>\n",
       "      <td>1</td>\n",
       "      <td>Feel the Payne ;)\\nGreat Game, just like part ...</td>\n",
       "      <td>1619027681</td>\n",
       "      <td>1619027681</td>\n",
       "    </tr>\n",
       "  </tbody>\n",
       "</table>\n",
       "</div>"
      ],
      "text/plain": [
       "   base_review_id            steamid   appid  voted_up  votes_up  votes_funny  \\\n",
       "0               0  76561199012934585  204100      True         0            0   \n",
       "1               1  76561198242204348  204100      True         0            0   \n",
       "2               2  76561198078115373  204100     False         1            1   \n",
       "3               3  76561198255525846  204100      True         0            0   \n",
       "4               4  76561199026331378  204100      True         0            0   \n",
       "\n",
       "   weighted_vote_score  playtime_forever  playtime_at_review  num_games_owned  \\\n",
       "0             0.000000              1671                1660               37   \n",
       "1             0.000000               414                 414               54   \n",
       "2             0.522059               119                 119               91   \n",
       "3             0.000000                69                  69               27   \n",
       "4             0.000000               608                 608               40   \n",
       "\n",
       "   num_reviews                                             review  \\\n",
       "0           10  A masterpiece that is extremely underrated. Th...   \n",
       "1           28    Not like 1 and 2 of the series but its alright.   \n",
       "2            8  Unskippable cut scenes are horrible. Gameplay ...   \n",
       "3            1  I enjoy the game.  Played it to 100% on PS3 an...   \n",
       "4            1  Feel the Payne ;)\\nGreat Game, just like part ...   \n",
       "\n",
       "   unix_timestamp_created  unix_timestamp_updated  \n",
       "0              1619063926              1619063926  \n",
       "1              1619047384              1619047384  \n",
       "2              1619040366              1619040366  \n",
       "3              1619035215              1619035215  \n",
       "4              1619027681              1619027681  "
      ]
     },
     "execution_count": 3,
     "metadata": {},
     "output_type": "execute_result"
    }
   ],
   "source": [
    "# Print a few rows of the base reviews dataset to verify their correctness\n",
    "base_reviews_df.to_spark().limit(5).toPandas()"
   ]
  },
  {
   "cell_type": "code",
   "execution_count": 4,
   "id": "1f16e915",
   "metadata": {},
   "outputs": [],
   "source": [
    "# Remove the malformed reviews for which the playtime forever is less than the playtime at review\n",
    "# (this is probably due to inconsistencies in the data gathering process performed by Steam)\n",
    "base_reviews_filtered_df = base_reviews_df[base_reviews_df['playtime_forever'] >= base_reviews_df['playtime_at_review']]"
   ]
  },
  {
   "cell_type": "code",
   "execution_count": 5,
   "id": "0f0b3653",
   "metadata": {},
   "outputs": [],
   "source": [
    "# Remove the rows with null or empty text reviews\n",
    "base_reviews_filtered_df = base_reviews_filtered_df[(~base_reviews_filtered_df['review'].isnull()) & (base_reviews_filtered_df['review'].str.len() > 0)]"
   ]
  },
  {
   "cell_type": "code",
   "execution_count": 6,
   "id": "98b78475",
   "metadata": {
    "scrolled": false
   },
   "outputs": [
    {
     "data": {
      "text/html": [
       "<div>\n",
       "<style scoped>\n",
       "    .dataframe tbody tr th:only-of-type {\n",
       "        vertical-align: middle;\n",
       "    }\n",
       "\n",
       "    .dataframe tbody tr th {\n",
       "        vertical-align: top;\n",
       "    }\n",
       "\n",
       "    .dataframe thead th {\n",
       "        text-align: right;\n",
       "    }\n",
       "</style>\n",
       "<table border=\"1\" class=\"dataframe\">\n",
       "  <thead>\n",
       "    <tr style=\"text-align: right;\">\n",
       "      <th></th>\n",
       "      <th>base_review_id</th>\n",
       "      <th>steamid</th>\n",
       "      <th>appid</th>\n",
       "      <th>voted_up</th>\n",
       "      <th>votes_up</th>\n",
       "      <th>votes_funny</th>\n",
       "      <th>weighted_vote_score</th>\n",
       "      <th>playtime_forever</th>\n",
       "      <th>playtime_at_review</th>\n",
       "      <th>num_games_owned</th>\n",
       "      <th>num_reviews</th>\n",
       "      <th>review</th>\n",
       "      <th>unix_timestamp_created</th>\n",
       "      <th>unix_timestamp_updated</th>\n",
       "    </tr>\n",
       "  </thead>\n",
       "  <tbody>\n",
       "    <tr>\n",
       "      <th>0</th>\n",
       "      <td>0</td>\n",
       "      <td>76561199012934585</td>\n",
       "      <td>204100</td>\n",
       "      <td>True</td>\n",
       "      <td>0</td>\n",
       "      <td>0</td>\n",
       "      <td>0.000000</td>\n",
       "      <td>1671</td>\n",
       "      <td>1660</td>\n",
       "      <td>37</td>\n",
       "      <td>10</td>\n",
       "      <td>A masterpiece that is extremely underrated. Th...</td>\n",
       "      <td>1619063926</td>\n",
       "      <td>1619063926</td>\n",
       "    </tr>\n",
       "    <tr>\n",
       "      <th>1</th>\n",
       "      <td>1</td>\n",
       "      <td>76561198242204348</td>\n",
       "      <td>204100</td>\n",
       "      <td>True</td>\n",
       "      <td>0</td>\n",
       "      <td>0</td>\n",
       "      <td>0.000000</td>\n",
       "      <td>414</td>\n",
       "      <td>414</td>\n",
       "      <td>54</td>\n",
       "      <td>28</td>\n",
       "      <td>Not like 1 and 2 of the series but its alright.</td>\n",
       "      <td>1619047384</td>\n",
       "      <td>1619047384</td>\n",
       "    </tr>\n",
       "    <tr>\n",
       "      <th>2</th>\n",
       "      <td>2</td>\n",
       "      <td>76561198078115373</td>\n",
       "      <td>204100</td>\n",
       "      <td>False</td>\n",
       "      <td>1</td>\n",
       "      <td>1</td>\n",
       "      <td>0.522059</td>\n",
       "      <td>119</td>\n",
       "      <td>119</td>\n",
       "      <td>91</td>\n",
       "      <td>8</td>\n",
       "      <td>Unskippable cut scenes are horrible. Gameplay ...</td>\n",
       "      <td>1619040366</td>\n",
       "      <td>1619040366</td>\n",
       "    </tr>\n",
       "    <tr>\n",
       "      <th>3</th>\n",
       "      <td>3</td>\n",
       "      <td>76561198255525846</td>\n",
       "      <td>204100</td>\n",
       "      <td>True</td>\n",
       "      <td>0</td>\n",
       "      <td>0</td>\n",
       "      <td>0.000000</td>\n",
       "      <td>69</td>\n",
       "      <td>69</td>\n",
       "      <td>27</td>\n",
       "      <td>1</td>\n",
       "      <td>I enjoy the game.  Played it to 100% on PS3 an...</td>\n",
       "      <td>1619035215</td>\n",
       "      <td>1619035215</td>\n",
       "    </tr>\n",
       "    <tr>\n",
       "      <th>4</th>\n",
       "      <td>4</td>\n",
       "      <td>76561199026331378</td>\n",
       "      <td>204100</td>\n",
       "      <td>True</td>\n",
       "      <td>0</td>\n",
       "      <td>0</td>\n",
       "      <td>0.000000</td>\n",
       "      <td>608</td>\n",
       "      <td>608</td>\n",
       "      <td>40</td>\n",
       "      <td>1</td>\n",
       "      <td>Feel the Payne ;)\\nGreat Game, just like part ...</td>\n",
       "      <td>1619027681</td>\n",
       "      <td>1619027681</td>\n",
       "    </tr>\n",
       "  </tbody>\n",
       "</table>\n",
       "</div>"
      ],
      "text/plain": [
       "   base_review_id            steamid   appid  voted_up  votes_up  votes_funny  \\\n",
       "0               0  76561199012934585  204100      True         0            0   \n",
       "1               1  76561198242204348  204100      True         0            0   \n",
       "2               2  76561198078115373  204100     False         1            1   \n",
       "3               3  76561198255525846  204100      True         0            0   \n",
       "4               4  76561199026331378  204100      True         0            0   \n",
       "\n",
       "   weighted_vote_score  playtime_forever  playtime_at_review  num_games_owned  \\\n",
       "0             0.000000              1671                1660               37   \n",
       "1             0.000000               414                 414               54   \n",
       "2             0.522059               119                 119               91   \n",
       "3             0.000000                69                  69               27   \n",
       "4             0.000000               608                 608               40   \n",
       "\n",
       "   num_reviews                                             review  \\\n",
       "0           10  A masterpiece that is extremely underrated. Th...   \n",
       "1           28    Not like 1 and 2 of the series but its alright.   \n",
       "2            8  Unskippable cut scenes are horrible. Gameplay ...   \n",
       "3            1  I enjoy the game.  Played it to 100% on PS3 an...   \n",
       "4            1  Feel the Payne ;)\\nGreat Game, just like part ...   \n",
       "\n",
       "   unix_timestamp_created  unix_timestamp_updated  \n",
       "0              1619063926              1619063926  \n",
       "1              1619047384              1619047384  \n",
       "2              1619040366              1619040366  \n",
       "3              1619035215              1619035215  \n",
       "4              1619027681              1619027681  "
      ]
     },
     "execution_count": 6,
     "metadata": {},
     "output_type": "execute_result"
    }
   ],
   "source": [
    "# Print a few rows of the base reviews dataset to verify their correctness\n",
    "base_reviews_filtered_df.to_spark().limit(5).toPandas()"
   ]
  },
  {
   "cell_type": "code",
   "execution_count": 7,
   "id": "3c0aff35",
   "metadata": {},
   "outputs": [
    {
     "name": "stderr",
     "output_type": "stream",
     "text": [
      "[Stage 5:============================================>              (6 + 2) / 8]\r"
     ]
    },
    {
     "name": "stdout",
     "output_type": "stream",
     "text": [
      "Removing 6846 reviews of the 3087862 of the base reviews dataset (0.222%).\n"
     ]
    },
    {
     "name": "stderr",
     "output_type": "stream",
     "text": [
      "\r",
      "                                                                                \r"
     ]
    }
   ],
   "source": [
    "# Get the number of rows extracted from the base reviews dataset\n",
    "base_count = len(base_reviews_df)\n",
    "base_filtered_count = len(base_reviews_filtered_df)\n",
    "percentage = (1 - base_filtered_count / base_count) * 100\n",
    "print(f'Removing {base_count - base_filtered_count} reviews of the {base_count} of the base reviews dataset ({percentage:.3f}%).')"
   ]
  },
  {
   "cell_type": "code",
   "execution_count": 8,
   "id": "bfece456",
   "metadata": {},
   "outputs": [
    {
     "name": "stderr",
     "output_type": "stream",
     "text": [
      "                                                                                \r"
     ]
    }
   ],
   "source": [
    "# Write the base filtered reviews dataset to HDFS\n",
    "base_reviews_filtered_df.to_spark().write.csv(\n",
    "    path='hdfs://localhost:54310/final_project/data/base_reviews_filtered',\n",
    "    mode='overwrite',\n",
    "    escape='\"',\n",
    "    header=True\n",
    ")"
   ]
  },
  {
   "cell_type": "code",
   "execution_count": 9,
   "id": "859db3f6",
   "metadata": {},
   "outputs": [],
   "source": [
    "# Stop the Spark context underlying the Spark session\n",
    "spark.stop()"
   ]
  }
 ],
 "metadata": {
  "kernelspec": {
   "display_name": "Python 3 (ipykernel)",
   "language": "python",
   "name": "python3"
  },
  "language_info": {
   "codemirror_mode": {
    "name": "ipython",
    "version": 3
   },
   "file_extension": ".py",
   "mimetype": "text/x-python",
   "name": "python",
   "nbconvert_exporter": "python",
   "pygments_lexer": "ipython3",
   "version": "3.8.10"
  }
 },
 "nbformat": 4,
 "nbformat_minor": 5
}
