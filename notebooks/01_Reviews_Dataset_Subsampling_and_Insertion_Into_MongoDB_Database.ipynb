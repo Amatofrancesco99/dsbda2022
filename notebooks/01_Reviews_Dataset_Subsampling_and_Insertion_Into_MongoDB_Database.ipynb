{
 "cells": [
  {
   "cell_type": "markdown",
   "id": "e7d1ec9f",
   "metadata": {},
   "source": [
    "# Reviews Dataset Subsampling and Insertion Into MongoDB Database"
   ]
  },
  {
   "cell_type": "code",
   "execution_count": 1,
   "id": "3c5e69fa",
   "metadata": {
    "scrolled": true
   },
   "outputs": [
    {
     "name": "stdout",
     "output_type": "stream",
     "text": [
      "Using Spark located in /usr/local/spark/.\n"
     ]
    },
    {
     "name": "stderr",
     "output_type": "stream",
     "text": [
      "Using Spark's default log4j profile: org/apache/spark/log4j-defaults.properties\n",
      "Setting default log level to \"WARN\".\n",
      "To adjust logging level use sc.setLogLevel(newLevel). For SparkR, use setLogLevel(newLevel).\n",
      "22/08/12 10:07:09 WARN NativeCodeLoader: Unable to load native-hadoop library for your platform... using builtin-java classes where applicable\n"
     ]
    }
   ],
   "source": [
    "import findspark\n",
    "\n",
    "# Locate the Spark installation (add pyspark to sys.path, see https://github.com/minrk/findspark#readme)\n",
    "findspark.init()\n",
    "print(f'Using Spark located in {findspark.find()}.')\n",
    "\n",
    "from pyspark.sql import SparkSession\n",
    "\n",
    "# Create or get the Spark session (singleton) and the underlying Spark context\n",
    "spark = SparkSession.builder.getOrCreate()"
   ]
  },
  {
   "cell_type": "code",
   "execution_count": 2,
   "id": "1e0ad4aa",
   "metadata": {
    "scrolled": true
   },
   "outputs": [],
   "source": [
    "from pyspark.sql.types import BooleanType, DoubleType, LongType, StringType, StructField, StructType\n",
    "\n",
    "# Define a reasonable schema for the reviews dataset\n",
    "reviews_schema = StructType([\n",
    "    StructField('steamid', LongType(), True),\n",
    "    StructField('appid', LongType(), True),\n",
    "    StructField('voted_up', BooleanType(), True),\n",
    "    StructField('votes_up', LongType(), True),\n",
    "    StructField('votes_funny', LongType(), True),\n",
    "    StructField('weighted_vote_score', DoubleType(), True),\n",
    "    StructField('playtime_forever', LongType(), True),\n",
    "    StructField('playtime_at_review', LongType(), True),\n",
    "    StructField('num_games_owned', LongType(), True),\n",
    "    StructField('num_reviews', LongType(), True),\n",
    "    StructField('review', StringType(), True),\n",
    "    StructField('unix_timestamp_created', LongType(), True),\n",
    "    StructField('unix_timestamp_updated', LongType(), True)\n",
    "])\n",
    "\n",
    "# Read the reviews dataset from HDFS\n",
    "reviews_df = spark.read.csv(\n",
    "    path='hdfs://localhost:54310/final_project/data/reviews',\n",
    "    schema=reviews_schema,\n",
    "    escape='\"',\n",
    "    header=True,\n",
    "    ignoreTrailingWhiteSpace=True,\n",
    "    mode='FAILFAST',\n",
    "    multiLine=True,\n",
    "    unescapedQuoteHandling='STOP_AT_CLOSING_QUOTE'\n",
    ")"
   ]
  },
  {
   "cell_type": "code",
   "execution_count": 3,
   "id": "4447f5b5",
   "metadata": {},
   "outputs": [],
   "source": [
    "# Order the original reviews dataset to allow for deterministic behavior in the following steps (decrease debug effort)\n",
    "reviews_df = reviews_df.sort(reviews_schema.fieldNames())"
   ]
  },
  {
   "cell_type": "code",
   "execution_count": 4,
   "id": "f16386c7",
   "metadata": {},
   "outputs": [
    {
     "name": "stderr",
     "output_type": "stream",
     "text": [
      "                                                                                \r"
     ]
    },
    {
     "data": {
      "text/html": [
       "<div>\n",
       "<style scoped>\n",
       "    .dataframe tbody tr th:only-of-type {\n",
       "        vertical-align: middle;\n",
       "    }\n",
       "\n",
       "    .dataframe tbody tr th {\n",
       "        vertical-align: top;\n",
       "    }\n",
       "\n",
       "    .dataframe thead th {\n",
       "        text-align: right;\n",
       "    }\n",
       "</style>\n",
       "<table border=\"1\" class=\"dataframe\">\n",
       "  <thead>\n",
       "    <tr style=\"text-align: right;\">\n",
       "      <th></th>\n",
       "      <th>steamid</th>\n",
       "      <th>appid</th>\n",
       "      <th>voted_up</th>\n",
       "      <th>votes_up</th>\n",
       "      <th>votes_funny</th>\n",
       "      <th>weighted_vote_score</th>\n",
       "      <th>playtime_forever</th>\n",
       "      <th>playtime_at_review</th>\n",
       "      <th>num_games_owned</th>\n",
       "      <th>num_reviews</th>\n",
       "      <th>review</th>\n",
       "      <th>unix_timestamp_created</th>\n",
       "      <th>unix_timestamp_updated</th>\n",
       "    </tr>\n",
       "  </thead>\n",
       "  <tbody>\n",
       "    <tr>\n",
       "      <th>0</th>\n",
       "      <td>76561197960265745</td>\n",
       "      <td>275850</td>\n",
       "      <td>True</td>\n",
       "      <td>2</td>\n",
       "      <td>0</td>\n",
       "      <td>0.545455</td>\n",
       "      <td>9484</td>\n",
       "      <td>1745</td>\n",
       "      <td>91</td>\n",
       "      <td>2</td>\n",
       "      <td>This has been hovering on my wishlist for ages...</td>\n",
       "      <td>1596147287</td>\n",
       "      <td>1596147287</td>\n",
       "    </tr>\n",
       "    <tr>\n",
       "      <th>1</th>\n",
       "      <td>76561197960265778</td>\n",
       "      <td>730</td>\n",
       "      <td>True</td>\n",
       "      <td>7</td>\n",
       "      <td>4</td>\n",
       "      <td>0.592431</td>\n",
       "      <td>349851</td>\n",
       "      <td>112806</td>\n",
       "      <td>780</td>\n",
       "      <td>6</td>\n",
       "      <td>Fun game I like it still</td>\n",
       "      <td>1416782428</td>\n",
       "      <td>1416782428</td>\n",
       "    </tr>\n",
       "    <tr>\n",
       "      <th>2</th>\n",
       "      <td>76561197960265778</td>\n",
       "      <td>252490</td>\n",
       "      <td>True</td>\n",
       "      <td>1</td>\n",
       "      <td>0</td>\n",
       "      <td>0.523810</td>\n",
       "      <td>124351</td>\n",
       "      <td>69823</td>\n",
       "      <td>780</td>\n",
       "      <td>6</td>\n",
       "      <td>Fun game, good anti-cheat. I would recommend t...</td>\n",
       "      <td>1587390881</td>\n",
       "      <td>1587390881</td>\n",
       "    </tr>\n",
       "    <tr>\n",
       "      <th>3</th>\n",
       "      <td>76561197960265781</td>\n",
       "      <td>39210</td>\n",
       "      <td>True</td>\n",
       "      <td>0</td>\n",
       "      <td>0</td>\n",
       "      <td>0.000000</td>\n",
       "      <td>41173</td>\n",
       "      <td>15285</td>\n",
       "      <td>560</td>\n",
       "      <td>9</td>\n",
       "      <td>It's hard to find anything negative to write a...</td>\n",
       "      <td>1614500711</td>\n",
       "      <td>1614500711</td>\n",
       "    </tr>\n",
       "    <tr>\n",
       "      <th>4</th>\n",
       "      <td>76561197960265781</td>\n",
       "      <td>493340</td>\n",
       "      <td>True</td>\n",
       "      <td>2</td>\n",
       "      <td>0</td>\n",
       "      <td>0.523810</td>\n",
       "      <td>3406</td>\n",
       "      <td>2319</td>\n",
       "      <td>560</td>\n",
       "      <td>9</td>\n",
       "      <td>Planet Coaster is essentially what everyone wa...</td>\n",
       "      <td>1479599829</td>\n",
       "      <td>1479599829</td>\n",
       "    </tr>\n",
       "  </tbody>\n",
       "</table>\n",
       "</div>"
      ],
      "text/plain": [
       "             steamid   appid  voted_up  votes_up  votes_funny  \\\n",
       "0  76561197960265745  275850      True         2            0   \n",
       "1  76561197960265778     730      True         7            4   \n",
       "2  76561197960265778  252490      True         1            0   \n",
       "3  76561197960265781   39210      True         0            0   \n",
       "4  76561197960265781  493340      True         2            0   \n",
       "\n",
       "   weighted_vote_score  playtime_forever  playtime_at_review  num_games_owned  \\\n",
       "0             0.545455              9484                1745               91   \n",
       "1             0.592431            349851              112806              780   \n",
       "2             0.523810            124351               69823              780   \n",
       "3             0.000000             41173               15285              560   \n",
       "4             0.523810              3406                2319              560   \n",
       "\n",
       "   num_reviews                                             review  \\\n",
       "0            2  This has been hovering on my wishlist for ages...   \n",
       "1            6                           Fun game I like it still   \n",
       "2            6  Fun game, good anti-cheat. I would recommend t...   \n",
       "3            9  It's hard to find anything negative to write a...   \n",
       "4            9  Planet Coaster is essentially what everyone wa...   \n",
       "\n",
       "   unix_timestamp_created  unix_timestamp_updated  \n",
       "0              1596147287              1596147287  \n",
       "1              1416782428              1416782428  \n",
       "2              1587390881              1587390881  \n",
       "3              1614500711              1614500711  \n",
       "4              1479599829              1479599829  "
      ]
     },
     "execution_count": 4,
     "metadata": {},
     "output_type": "execute_result"
    }
   ],
   "source": [
    "# Print a few rows of the original reviews dataset to verify their correctness\n",
    "reviews_df.limit(5).toPandas()"
   ]
  },
  {
   "cell_type": "code",
   "execution_count": 5,
   "id": "1966689e",
   "metadata": {},
   "outputs": [
    {
     "data": {
      "text/plain": [
       "[('steamid', 'bigint'),\n",
       " ('appid', 'bigint'),\n",
       " ('voted_up', 'boolean'),\n",
       " ('votes_up', 'bigint'),\n",
       " ('votes_funny', 'bigint'),\n",
       " ('weighted_vote_score', 'double'),\n",
       " ('playtime_forever', 'bigint'),\n",
       " ('playtime_at_review', 'bigint'),\n",
       " ('num_games_owned', 'bigint'),\n",
       " ('num_reviews', 'bigint'),\n",
       " ('review', 'string'),\n",
       " ('unix_timestamp_created', 'bigint'),\n",
       " ('unix_timestamp_updated', 'bigint')]"
      ]
     },
     "execution_count": 5,
     "metadata": {},
     "output_type": "execute_result"
    }
   ],
   "source": [
    "# Check the types of the reviews Spark DataFrame\n",
    "reviews_df.dtypes"
   ]
  },
  {
   "cell_type": "code",
   "execution_count": 6,
   "id": "7d1a555b",
   "metadata": {},
   "outputs": [
    {
     "name": "stderr",
     "output_type": "stream",
     "text": [
      "[Stage 7:========================================================>(63 + 1) / 64]\r"
     ]
    },
    {
     "name": "stdout",
     "output_type": "stream",
     "text": [
      "Taking 3086382 reviews out of the 15437471 of the original reviews dataset (19.993%).\n"
     ]
    },
    {
     "name": "stderr",
     "output_type": "stream",
     "text": [
      "\r",
      "                                                                                \r"
     ]
    }
   ],
   "source": [
    "# Randomly subsample the original dataset due to the single-node Spark installation limitation\n",
    "base_reviews_df = reviews_df.sample(withReplacement=False, fraction=0.2, seed=0)\n",
    "\n",
    "# Get the exact the number of rows extracted from the original dataset\n",
    "original_count = reviews_df.count()\n",
    "base_count = base_reviews_df.count()\n",
    "percentage = base_count / original_count * 100\n",
    "print(f'Taking {base_count} reviews out of the {original_count} of the original reviews dataset ({percentage:.3f}%).')"
   ]
  },
  {
   "cell_type": "code",
   "execution_count": 7,
   "id": "e61ff081",
   "metadata": {},
   "outputs": [],
   "source": [
    "from pyspark.sql.functions import monotonically_increasing_id \n",
    "\n",
    "# Add unique ids to the extracted reviews (as the first column) as a common refence for further analyses\n",
    "base_review_id_column_name = 'base_review_id'\n",
    "base_reviews_df = base_reviews_df.withColumn(base_review_id_column_name, monotonically_increasing_id())\n",
    "base_reviews_df = base_reviews_df.select([base_review_id_column_name, *reviews_schema.fieldNames()])"
   ]
  },
  {
   "cell_type": "code",
   "execution_count": 8,
   "id": "272091de",
   "metadata": {},
   "outputs": [
    {
     "name": "stderr",
     "output_type": "stream",
     "text": [
      "                                                                                \r"
     ]
    },
    {
     "data": {
      "text/html": [
       "<div>\n",
       "<style scoped>\n",
       "    .dataframe tbody tr th:only-of-type {\n",
       "        vertical-align: middle;\n",
       "    }\n",
       "\n",
       "    .dataframe tbody tr th {\n",
       "        vertical-align: top;\n",
       "    }\n",
       "\n",
       "    .dataframe thead th {\n",
       "        text-align: right;\n",
       "    }\n",
       "</style>\n",
       "<table border=\"1\" class=\"dataframe\">\n",
       "  <thead>\n",
       "    <tr style=\"text-align: right;\">\n",
       "      <th></th>\n",
       "      <th>base_review_id</th>\n",
       "      <th>steamid</th>\n",
       "      <th>appid</th>\n",
       "      <th>voted_up</th>\n",
       "      <th>votes_up</th>\n",
       "      <th>votes_funny</th>\n",
       "      <th>weighted_vote_score</th>\n",
       "      <th>playtime_forever</th>\n",
       "      <th>playtime_at_review</th>\n",
       "      <th>num_games_owned</th>\n",
       "      <th>num_reviews</th>\n",
       "      <th>review</th>\n",
       "      <th>unix_timestamp_created</th>\n",
       "      <th>unix_timestamp_updated</th>\n",
       "    </tr>\n",
       "  </thead>\n",
       "  <tbody>\n",
       "    <tr>\n",
       "      <th>0</th>\n",
       "      <td>0</td>\n",
       "      <td>76561197960265778</td>\n",
       "      <td>252490</td>\n",
       "      <td>True</td>\n",
       "      <td>1</td>\n",
       "      <td>0</td>\n",
       "      <td>0.523810</td>\n",
       "      <td>124351</td>\n",
       "      <td>69823</td>\n",
       "      <td>780</td>\n",
       "      <td>6</td>\n",
       "      <td>Fun game, good anti-cheat. I would recommend t...</td>\n",
       "      <td>1587390881</td>\n",
       "      <td>1587390881</td>\n",
       "    </tr>\n",
       "    <tr>\n",
       "      <th>1</th>\n",
       "      <td>1</td>\n",
       "      <td>76561197960265822</td>\n",
       "      <td>578080</td>\n",
       "      <td>False</td>\n",
       "      <td>0</td>\n",
       "      <td>0</td>\n",
       "      <td>0.000000</td>\n",
       "      <td>92857</td>\n",
       "      <td>88764</td>\n",
       "      <td>326</td>\n",
       "      <td>5</td>\n",
       "      <td>Love to loot entire places and find no guns or...</td>\n",
       "      <td>1490862846</td>\n",
       "      <td>1531677554</td>\n",
       "    </tr>\n",
       "    <tr>\n",
       "      <th>2</th>\n",
       "      <td>2</td>\n",
       "      <td>76561197960265890</td>\n",
       "      <td>620</td>\n",
       "      <td>True</td>\n",
       "      <td>0</td>\n",
       "      <td>0</td>\n",
       "      <td>0.000000</td>\n",
       "      <td>53</td>\n",
       "      <td>52</td>\n",
       "      <td>307</td>\n",
       "      <td>10</td>\n",
       "      <td>this game fucking sucks. no buy.</td>\n",
       "      <td>1336880073</td>\n",
       "      <td>1336880073</td>\n",
       "    </tr>\n",
       "    <tr>\n",
       "      <th>3</th>\n",
       "      <td>3</td>\n",
       "      <td>76561197960265908</td>\n",
       "      <td>440900</td>\n",
       "      <td>True</td>\n",
       "      <td>0</td>\n",
       "      <td>0</td>\n",
       "      <td>0.000000</td>\n",
       "      <td>4387</td>\n",
       "      <td>4189</td>\n",
       "      <td>47</td>\n",
       "      <td>1</td>\n",
       "      <td>It kinda feels like the sims meets world of wa...</td>\n",
       "      <td>1525909615</td>\n",
       "      <td>1527766944</td>\n",
       "    </tr>\n",
       "    <tr>\n",
       "      <th>4</th>\n",
       "      <td>4</td>\n",
       "      <td>76561197960265942</td>\n",
       "      <td>310110</td>\n",
       "      <td>False</td>\n",
       "      <td>118</td>\n",
       "      <td>0</td>\n",
       "      <td>0.752326</td>\n",
       "      <td>627</td>\n",
       "      <td>485</td>\n",
       "      <td>1266</td>\n",
       "      <td>10</td>\n",
       "      <td>First off, I'm going to write about the game, ...</td>\n",
       "      <td>1414958760</td>\n",
       "      <td>1414986669</td>\n",
       "    </tr>\n",
       "  </tbody>\n",
       "</table>\n",
       "</div>"
      ],
      "text/plain": [
       "   base_review_id            steamid   appid  voted_up  votes_up  votes_funny  \\\n",
       "0               0  76561197960265778  252490      True         1            0   \n",
       "1               1  76561197960265822  578080     False         0            0   \n",
       "2               2  76561197960265890     620      True         0            0   \n",
       "3               3  76561197960265908  440900      True         0            0   \n",
       "4               4  76561197960265942  310110     False       118            0   \n",
       "\n",
       "   weighted_vote_score  playtime_forever  playtime_at_review  num_games_owned  \\\n",
       "0             0.523810            124351               69823              780   \n",
       "1             0.000000             92857               88764              326   \n",
       "2             0.000000                53                  52              307   \n",
       "3             0.000000              4387                4189               47   \n",
       "4             0.752326               627                 485             1266   \n",
       "\n",
       "   num_reviews                                             review  \\\n",
       "0            6  Fun game, good anti-cheat. I would recommend t...   \n",
       "1            5  Love to loot entire places and find no guns or...   \n",
       "2           10                   this game fucking sucks. no buy.   \n",
       "3            1  It kinda feels like the sims meets world of wa...   \n",
       "4           10  First off, I'm going to write about the game, ...   \n",
       "\n",
       "   unix_timestamp_created  unix_timestamp_updated  \n",
       "0              1587390881              1587390881  \n",
       "1              1490862846              1531677554  \n",
       "2              1336880073              1336880073  \n",
       "3              1525909615              1527766944  \n",
       "4              1414958760              1414986669  "
      ]
     },
     "execution_count": 8,
     "metadata": {},
     "output_type": "execute_result"
    }
   ],
   "source": [
    "# Print a few rows of the base reviews dataset to verify their correctness\n",
    "base_reviews_df.limit(5).toPandas()"
   ]
  },
  {
   "cell_type": "code",
   "execution_count": 9,
   "id": "bef6d86a",
   "metadata": {},
   "outputs": [
    {
     "data": {
      "text/plain": [
       "[('base_review_id', 'bigint'),\n",
       " ('steamid', 'bigint'),\n",
       " ('appid', 'bigint'),\n",
       " ('voted_up', 'boolean'),\n",
       " ('votes_up', 'bigint'),\n",
       " ('votes_funny', 'bigint'),\n",
       " ('weighted_vote_score', 'double'),\n",
       " ('playtime_forever', 'bigint'),\n",
       " ('playtime_at_review', 'bigint'),\n",
       " ('num_games_owned', 'bigint'),\n",
       " ('num_reviews', 'bigint'),\n",
       " ('review', 'string'),\n",
       " ('unix_timestamp_created', 'bigint'),\n",
       " ('unix_timestamp_updated', 'bigint')]"
      ]
     },
     "execution_count": 9,
     "metadata": {},
     "output_type": "execute_result"
    }
   ],
   "source": [
    "# Check the types of the base reviews Spark DataFrame\n",
    "base_reviews_df.dtypes"
   ]
  },
  {
   "cell_type": "code",
   "execution_count": 10,
   "id": "bfece456",
   "metadata": {},
   "outputs": [
    {
     "name": "stderr",
     "output_type": "stream",
     "text": [
      "                                                                                \r"
     ]
    }
   ],
   "source": [
    "# Write the extracted base reviews dataset to HDFS\n",
    "base_reviews_df.write.csv(f'hdfs://localhost:54310/final_project/data/base_reviews', mode='overwrite')"
   ]
  },
  {
   "cell_type": "code",
   "execution_count": 11,
   "id": "4d57a12d",
   "metadata": {
    "scrolled": true
   },
   "outputs": [
    {
     "name": "stderr",
     "output_type": "stream",
     "text": [
      "[Stage 22:======================================================> (63 + 2) / 65]\r"
     ]
    },
    {
     "name": "stdout",
     "output_type": "stream",
     "text": [
      "Taking 308667 reviews out of the 3086382 of the base reviews dataset (10.001%).\n"
     ]
    },
    {
     "name": "stderr",
     "output_type": "stream",
     "text": [
      "\r",
      "                                                                                \r"
     ]
    }
   ],
   "source": [
    "# Randomly subsample the base dataset to create a small repository on which to perform the preliminary analyses\n",
    "small_reviews_df = base_reviews_df.sample(withReplacement=False, fraction=0.1, seed=0)\n",
    "\n",
    "# Get the exact the number of rows extracted from the base dataset\n",
    "small_count = small_reviews_df.count()\n",
    "percentage = small_count / base_count * 100\n",
    "print(f'Taking {small_count} reviews out of the {base_count} of the base reviews dataset ({percentage:.3f}%).')"
   ]
  },
  {
   "cell_type": "code",
   "execution_count": 12,
   "id": "bc2fbbd6",
   "metadata": {
    "scrolled": true
   },
   "outputs": [
    {
     "name": "stderr",
     "output_type": "stream",
     "text": [
      "                                                                                \r"
     ]
    },
    {
     "data": {
      "text/html": [
       "<div>\n",
       "<style scoped>\n",
       "    .dataframe tbody tr th:only-of-type {\n",
       "        vertical-align: middle;\n",
       "    }\n",
       "\n",
       "    .dataframe tbody tr th {\n",
       "        vertical-align: top;\n",
       "    }\n",
       "\n",
       "    .dataframe thead th {\n",
       "        text-align: right;\n",
       "    }\n",
       "</style>\n",
       "<table border=\"1\" class=\"dataframe\">\n",
       "  <thead>\n",
       "    <tr style=\"text-align: right;\">\n",
       "      <th></th>\n",
       "      <th>base_review_id</th>\n",
       "      <th>steamid</th>\n",
       "      <th>appid</th>\n",
       "      <th>voted_up</th>\n",
       "      <th>votes_up</th>\n",
       "      <th>votes_funny</th>\n",
       "      <th>weighted_vote_score</th>\n",
       "      <th>playtime_forever</th>\n",
       "      <th>playtime_at_review</th>\n",
       "      <th>num_games_owned</th>\n",
       "      <th>num_reviews</th>\n",
       "      <th>review</th>\n",
       "      <th>unix_timestamp_created</th>\n",
       "      <th>unix_timestamp_updated</th>\n",
       "    </tr>\n",
       "  </thead>\n",
       "  <tbody>\n",
       "    <tr>\n",
       "      <th>0</th>\n",
       "      <td>2</td>\n",
       "      <td>76561197960265890</td>\n",
       "      <td>620</td>\n",
       "      <td>True</td>\n",
       "      <td>0</td>\n",
       "      <td>0</td>\n",
       "      <td>0.00000</td>\n",
       "      <td>53</td>\n",
       "      <td>52</td>\n",
       "      <td>307</td>\n",
       "      <td>10</td>\n",
       "      <td>this game fucking sucks. no buy.</td>\n",
       "      <td>1336880073</td>\n",
       "      <td>1336880073</td>\n",
       "    </tr>\n",
       "    <tr>\n",
       "      <th>1</th>\n",
       "      <td>9</td>\n",
       "      <td>76561197960266642</td>\n",
       "      <td>450540</td>\n",
       "      <td>True</td>\n",
       "      <td>0</td>\n",
       "      <td>0</td>\n",
       "      <td>0.00000</td>\n",
       "      <td>3928</td>\n",
       "      <td>3223</td>\n",
       "      <td>142</td>\n",
       "      <td>2</td>\n",
       "      <td>one of the best VR weapon simulators ever made.</td>\n",
       "      <td>1573057253</td>\n",
       "      <td>1573057253</td>\n",
       "    </tr>\n",
       "    <tr>\n",
       "      <th>2</th>\n",
       "      <td>16</td>\n",
       "      <td>76561197960267291</td>\n",
       "      <td>378610</td>\n",
       "      <td>False</td>\n",
       "      <td>0</td>\n",
       "      <td>0</td>\n",
       "      <td>0.46875</td>\n",
       "      <td>163</td>\n",
       "      <td>163</td>\n",
       "      <td>200</td>\n",
       "      <td>5</td>\n",
       "      <td>The game crashed on my machine 4 times in 2 ho...</td>\n",
       "      <td>1577395138</td>\n",
       "      <td>1577395138</td>\n",
       "    </tr>\n",
       "    <tr>\n",
       "      <th>3</th>\n",
       "      <td>26</td>\n",
       "      <td>76561197960267685</td>\n",
       "      <td>252950</td>\n",
       "      <td>True</td>\n",
       "      <td>0</td>\n",
       "      <td>0</td>\n",
       "      <td>0.00000</td>\n",
       "      <td>60406</td>\n",
       "      <td>53991</td>\n",
       "      <td>76</td>\n",
       "      <td>2</td>\n",
       "      <td>is good game</td>\n",
       "      <td>1575582355</td>\n",
       "      <td>1575582355</td>\n",
       "    </tr>\n",
       "    <tr>\n",
       "      <th>4</th>\n",
       "      <td>46</td>\n",
       "      <td>76561197960268765</td>\n",
       "      <td>287700</td>\n",
       "      <td>True</td>\n",
       "      <td>0</td>\n",
       "      <td>0</td>\n",
       "      <td>0.00000</td>\n",
       "      <td>4862</td>\n",
       "      <td>3725</td>\n",
       "      <td>157</td>\n",
       "      <td>27</td>\n",
       "      <td>Basically, one of the best MGS games out there!</td>\n",
       "      <td>1511807430</td>\n",
       "      <td>1511807430</td>\n",
       "    </tr>\n",
       "  </tbody>\n",
       "</table>\n",
       "</div>"
      ],
      "text/plain": [
       "   base_review_id            steamid   appid  voted_up  votes_up  votes_funny  \\\n",
       "0               2  76561197960265890     620      True         0            0   \n",
       "1               9  76561197960266642  450540      True         0            0   \n",
       "2              16  76561197960267291  378610     False         0            0   \n",
       "3              26  76561197960267685  252950      True         0            0   \n",
       "4              46  76561197960268765  287700      True         0            0   \n",
       "\n",
       "   weighted_vote_score  playtime_forever  playtime_at_review  num_games_owned  \\\n",
       "0              0.00000                53                  52              307   \n",
       "1              0.00000              3928                3223              142   \n",
       "2              0.46875               163                 163              200   \n",
       "3              0.00000             60406               53991               76   \n",
       "4              0.00000              4862                3725              157   \n",
       "\n",
       "   num_reviews                                             review  \\\n",
       "0           10                   this game fucking sucks. no buy.   \n",
       "1            2    one of the best VR weapon simulators ever made.   \n",
       "2            5  The game crashed on my machine 4 times in 2 ho...   \n",
       "3            2                                       is good game   \n",
       "4           27    Basically, one of the best MGS games out there!   \n",
       "\n",
       "   unix_timestamp_created  unix_timestamp_updated  \n",
       "0              1336880073              1336880073  \n",
       "1              1573057253              1573057253  \n",
       "2              1577395138              1577395138  \n",
       "3              1575582355              1575582355  \n",
       "4              1511807430              1511807430  "
      ]
     },
     "execution_count": 12,
     "metadata": {},
     "output_type": "execute_result"
    }
   ],
   "source": [
    "# Print a few rows of the small reviews dataset to verify their correctness\n",
    "small_reviews_df.limit(5).toPandas()"
   ]
  },
  {
   "cell_type": "code",
   "execution_count": 13,
   "id": "afeed913",
   "metadata": {},
   "outputs": [],
   "source": [
    "import pymongo\n",
    "\n",
    "# Connect to the local MongoDB instance and select the database used as repository for the small reviews dataset\n",
    "mongo = pymongo.MongoClient()\n",
    "mongo_db = mongo.final_project"
   ]
  },
  {
   "cell_type": "code",
   "execution_count": 14,
   "id": "989644d8",
   "metadata": {},
   "outputs": [
    {
     "name": "stderr",
     "output_type": "stream",
     "text": [
      "                                                                                \r"
     ]
    }
   ],
   "source": [
    "# Delete the content of the small_reviews collection, if necessary\n",
    "mongo_db.small_reviews.delete_many({})\n",
    "\n",
    "# Get a dict representation of the DataFrame containing the small dataset\n",
    "small_reviews_dict = small_reviews_df.toPandas().to_dict(orient='records')\n",
    "\n",
    "# Insert the reviews in the small_reviews collection of the final_project MongoDB database\n",
    "mongo_db.small_reviews.insert_many(small_reviews_dict);"
   ]
  },
  {
   "cell_type": "code",
   "execution_count": 15,
   "id": "859db3f6",
   "metadata": {},
   "outputs": [],
   "source": [
    "# Close the connection to the local MongoDB instance\n",
    "mongo.close()\n",
    "\n",
    "# Stop the Spark context underlying the Spark session\n",
    "spark.stop()"
   ]
  }
 ],
 "metadata": {
  "kernelspec": {
   "display_name": "Python 3 (ipykernel)",
   "language": "python",
   "name": "python3"
  },
  "language_info": {
   "codemirror_mode": {
    "name": "ipython",
    "version": 3
   },
   "file_extension": ".py",
   "mimetype": "text/x-python",
   "name": "python",
   "nbconvert_exporter": "python",
   "pygments_lexer": "ipython3",
   "version": "3.8.10"
  }
 },
 "nbformat": 4,
 "nbformat_minor": 5
}
