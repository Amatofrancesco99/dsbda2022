{
 "cells": [
  {
   "cell_type": "markdown",
   "id": "e7d1ec9f",
   "metadata": {},
   "source": [
    "# Reviews Dataset Subsampling and Insertion Into MongoDB Database"
   ]
  },
  {
   "cell_type": "code",
   "execution_count": 1,
   "id": "3c5e69fa",
   "metadata": {
    "scrolled": true
   },
   "outputs": [
    {
     "name": "stdout",
     "output_type": "stream",
     "text": [
      "Using Spark located in /usr/local/spark/.\n"
     ]
    },
    {
     "name": "stderr",
     "output_type": "stream",
     "text": [
      "Using Spark's default log4j profile: org/apache/spark/log4j-defaults.properties\n",
      "Setting default log level to \"WARN\".\n",
      "To adjust logging level use sc.setLogLevel(newLevel). For SparkR, use setLogLevel(newLevel).\n",
      "22/08/13 00:48:00 WARN NativeCodeLoader: Unable to load native-hadoop library for your platform... using builtin-java classes where applicable\n"
     ]
    }
   ],
   "source": [
    "import findspark\n",
    "\n",
    "# Locate the Spark installation (add pyspark to sys.path, see https://github.com/minrk/findspark#readme)\n",
    "findspark.init()\n",
    "print(f'Using Spark located in {findspark.find()}.')\n",
    "\n",
    "from pyspark.sql import SparkSession\n",
    "\n",
    "# Create or get the Spark session (singleton) and the underlying Spark context\n",
    "spark = SparkSession.builder.getOrCreate()"
   ]
  },
  {
   "cell_type": "code",
   "execution_count": 2,
   "id": "1e0ad4aa",
   "metadata": {
    "scrolled": true
   },
   "outputs": [],
   "source": [
    "from pyspark.sql.types import BooleanType, DoubleType, LongType, StringType, StructField, StructType\n",
    "\n",
    "# Define a reasonable schema for the reviews dataset\n",
    "reviews_schema = StructType([\n",
    "    StructField('steamid', LongType(), True),\n",
    "    StructField('appid', LongType(), True),\n",
    "    StructField('voted_up', BooleanType(), True),\n",
    "    StructField('votes_up', LongType(), True),\n",
    "    StructField('votes_funny', LongType(), True),\n",
    "    StructField('weighted_vote_score', DoubleType(), True),\n",
    "    StructField('playtime_forever', LongType(), True),\n",
    "    StructField('playtime_at_review', LongType(), True),\n",
    "    StructField('num_games_owned', LongType(), True),\n",
    "    StructField('num_reviews', LongType(), True),\n",
    "    StructField('review', StringType(), True),\n",
    "    StructField('unix_timestamp_created', LongType(), True),\n",
    "    StructField('unix_timestamp_updated', LongType(), True)\n",
    "])\n",
    "\n",
    "# Read the reviews dataset from HDFS\n",
    "reviews_df = spark.read.csv(\n",
    "    path='hdfs://localhost:54310/final_project/data/reviews',\n",
    "    schema=reviews_schema,\n",
    "    escape='\"',\n",
    "    header=True,\n",
    "    ignoreTrailingWhiteSpace=True,\n",
    "    mode='FAILFAST',\n",
    "    multiLine=True,\n",
    "    unescapedQuoteHandling='STOP_AT_CLOSING_QUOTE'\n",
    ")"
   ]
  },
  {
   "cell_type": "code",
   "execution_count": 3,
   "id": "f16386c7",
   "metadata": {},
   "outputs": [
    {
     "data": {
      "text/html": [
       "<div>\n",
       "<style scoped>\n",
       "    .dataframe tbody tr th:only-of-type {\n",
       "        vertical-align: middle;\n",
       "    }\n",
       "\n",
       "    .dataframe tbody tr th {\n",
       "        vertical-align: top;\n",
       "    }\n",
       "\n",
       "    .dataframe thead th {\n",
       "        text-align: right;\n",
       "    }\n",
       "</style>\n",
       "<table border=\"1\" class=\"dataframe\">\n",
       "  <thead>\n",
       "    <tr style=\"text-align: right;\">\n",
       "      <th></th>\n",
       "      <th>steamid</th>\n",
       "      <th>appid</th>\n",
       "      <th>voted_up</th>\n",
       "      <th>votes_up</th>\n",
       "      <th>votes_funny</th>\n",
       "      <th>weighted_vote_score</th>\n",
       "      <th>playtime_forever</th>\n",
       "      <th>playtime_at_review</th>\n",
       "      <th>num_games_owned</th>\n",
       "      <th>num_reviews</th>\n",
       "      <th>review</th>\n",
       "      <th>unix_timestamp_created</th>\n",
       "      <th>unix_timestamp_updated</th>\n",
       "    </tr>\n",
       "  </thead>\n",
       "  <tbody>\n",
       "    <tr>\n",
       "      <th>0</th>\n",
       "      <td>76561199012934585</td>\n",
       "      <td>204100</td>\n",
       "      <td>True</td>\n",
       "      <td>0</td>\n",
       "      <td>0</td>\n",
       "      <td>0.0</td>\n",
       "      <td>1671</td>\n",
       "      <td>1660</td>\n",
       "      <td>37</td>\n",
       "      <td>10</td>\n",
       "      <td>A masterpiece that is extremely underrated. Th...</td>\n",
       "      <td>1619063926</td>\n",
       "      <td>1619063926</td>\n",
       "    </tr>\n",
       "    <tr>\n",
       "      <th>1</th>\n",
       "      <td>76561198123483551</td>\n",
       "      <td>204100</td>\n",
       "      <td>True</td>\n",
       "      <td>0</td>\n",
       "      <td>0</td>\n",
       "      <td>0.0</td>\n",
       "      <td>3143</td>\n",
       "      <td>3143</td>\n",
       "      <td>83</td>\n",
       "      <td>14</td>\n",
       "      <td>Amazing!!!</td>\n",
       "      <td>1619062713</td>\n",
       "      <td>1619062713</td>\n",
       "    </tr>\n",
       "    <tr>\n",
       "      <th>2</th>\n",
       "      <td>76561197993895820</td>\n",
       "      <td>204100</td>\n",
       "      <td>False</td>\n",
       "      <td>1</td>\n",
       "      <td>0</td>\n",
       "      <td>0.0</td>\n",
       "      <td>787</td>\n",
       "      <td>746</td>\n",
       "      <td>123</td>\n",
       "      <td>2</td>\n",
       "      <td>The latest update forces the install of some R...</td>\n",
       "      <td>1619058151</td>\n",
       "      <td>1619058151</td>\n",
       "    </tr>\n",
       "    <tr>\n",
       "      <th>3</th>\n",
       "      <td>76561197972464391</td>\n",
       "      <td>204100</td>\n",
       "      <td>True</td>\n",
       "      <td>0</td>\n",
       "      <td>0</td>\n",
       "      <td>0.0</td>\n",
       "      <td>1012</td>\n",
       "      <td>1006</td>\n",
       "      <td>191</td>\n",
       "      <td>20</td>\n",
       "      <td>Classic Payne\\n</td>\n",
       "      <td>1619052527</td>\n",
       "      <td>1619052527</td>\n",
       "    </tr>\n",
       "    <tr>\n",
       "      <th>4</th>\n",
       "      <td>76561198242204348</td>\n",
       "      <td>204100</td>\n",
       "      <td>True</td>\n",
       "      <td>0</td>\n",
       "      <td>0</td>\n",
       "      <td>0.0</td>\n",
       "      <td>414</td>\n",
       "      <td>414</td>\n",
       "      <td>54</td>\n",
       "      <td>28</td>\n",
       "      <td>Not like 1 and 2 of the series but its alright.</td>\n",
       "      <td>1619047384</td>\n",
       "      <td>1619047384</td>\n",
       "    </tr>\n",
       "  </tbody>\n",
       "</table>\n",
       "</div>"
      ],
      "text/plain": [
       "             steamid   appid  voted_up  votes_up  votes_funny  \\\n",
       "0  76561199012934585  204100      True         0            0   \n",
       "1  76561198123483551  204100      True         0            0   \n",
       "2  76561197993895820  204100     False         1            0   \n",
       "3  76561197972464391  204100      True         0            0   \n",
       "4  76561198242204348  204100      True         0            0   \n",
       "\n",
       "   weighted_vote_score  playtime_forever  playtime_at_review  num_games_owned  \\\n",
       "0                  0.0              1671                1660               37   \n",
       "1                  0.0              3143                3143               83   \n",
       "2                  0.0               787                 746              123   \n",
       "3                  0.0              1012                1006              191   \n",
       "4                  0.0               414                 414               54   \n",
       "\n",
       "   num_reviews                                             review  \\\n",
       "0           10  A masterpiece that is extremely underrated. Th...   \n",
       "1           14                                         Amazing!!!   \n",
       "2            2  The latest update forces the install of some R...   \n",
       "3           20                                    Classic Payne\\n   \n",
       "4           28    Not like 1 and 2 of the series but its alright.   \n",
       "\n",
       "   unix_timestamp_created  unix_timestamp_updated  \n",
       "0              1619063926              1619063926  \n",
       "1              1619062713              1619062713  \n",
       "2              1619058151              1619058151  \n",
       "3              1619052527              1619052527  \n",
       "4              1619047384              1619047384  "
      ]
     },
     "execution_count": 3,
     "metadata": {},
     "output_type": "execute_result"
    }
   ],
   "source": [
    "# Print a few rows of the original reviews dataset to verify their correctness\n",
    "reviews_df.limit(5).toPandas()"
   ]
  },
  {
   "cell_type": "code",
   "execution_count": 4,
   "id": "1966689e",
   "metadata": {},
   "outputs": [
    {
     "data": {
      "text/plain": [
       "[('steamid', 'bigint'),\n",
       " ('appid', 'bigint'),\n",
       " ('voted_up', 'boolean'),\n",
       " ('votes_up', 'bigint'),\n",
       " ('votes_funny', 'bigint'),\n",
       " ('weighted_vote_score', 'double'),\n",
       " ('playtime_forever', 'bigint'),\n",
       " ('playtime_at_review', 'bigint'),\n",
       " ('num_games_owned', 'bigint'),\n",
       " ('num_reviews', 'bigint'),\n",
       " ('review', 'string'),\n",
       " ('unix_timestamp_created', 'bigint'),\n",
       " ('unix_timestamp_updated', 'bigint')]"
      ]
     },
     "execution_count": 4,
     "metadata": {},
     "output_type": "execute_result"
    }
   ],
   "source": [
    "# Check the types of the reviews Spark DataFrame\n",
    "reviews_df.dtypes"
   ]
  },
  {
   "cell_type": "code",
   "execution_count": 5,
   "id": "7d1a555b",
   "metadata": {},
   "outputs": [
    {
     "name": "stderr",
     "output_type": "stream",
     "text": [
      "[Stage 4:==============================================>           (8 + 2) / 10]\r"
     ]
    },
    {
     "name": "stdout",
     "output_type": "stream",
     "text": [
      "Taking 3087862 reviews out of the 15437471 of the original reviews dataset (20.002%).\n"
     ]
    },
    {
     "name": "stderr",
     "output_type": "stream",
     "text": [
      "\r",
      "[Stage 4:====================================================>     (9 + 1) / 10]\r",
      "\r",
      "                                                                                \r"
     ]
    }
   ],
   "source": [
    "# Randomly subsample the original dataset due to the single-node Spark installation limitation\n",
    "base_reviews_df = reviews_df.sample(withReplacement=False, fraction=0.2)\n",
    "\n",
    "# Get the exact the number of rows extracted from the original dataset\n",
    "original_count = reviews_df.count()\n",
    "base_count = base_reviews_df.count()\n",
    "percentage = base_count / original_count * 100\n",
    "print(f'Taking {base_count} reviews out of the {original_count} of the original reviews dataset ({percentage:.3f}%).')"
   ]
  },
  {
   "cell_type": "code",
   "execution_count": 6,
   "id": "e61ff081",
   "metadata": {},
   "outputs": [],
   "source": [
    "from pyspark.sql.functions import monotonically_increasing_id\n",
    "\n",
    "# Add unique ids to the extracted reviews (as the first column) as a common refence for further analyses\n",
    "# (note that ids are monotonically increasing but not contiguous, in general, due to partitioning)\n",
    "base_review_id_column_name = 'base_review_id'\n",
    "base_reviews_df = base_reviews_df.withColumn(base_review_id_column_name, monotonically_increasing_id())\n",
    "base_reviews_df = base_reviews_df.select([base_review_id_column_name, *reviews_schema.fieldNames()])"
   ]
  },
  {
   "cell_type": "code",
   "execution_count": 7,
   "id": "272091de",
   "metadata": {},
   "outputs": [
    {
     "data": {
      "text/html": [
       "<div>\n",
       "<style scoped>\n",
       "    .dataframe tbody tr th:only-of-type {\n",
       "        vertical-align: middle;\n",
       "    }\n",
       "\n",
       "    .dataframe tbody tr th {\n",
       "        vertical-align: top;\n",
       "    }\n",
       "\n",
       "    .dataframe thead th {\n",
       "        text-align: right;\n",
       "    }\n",
       "</style>\n",
       "<table border=\"1\" class=\"dataframe\">\n",
       "  <thead>\n",
       "    <tr style=\"text-align: right;\">\n",
       "      <th></th>\n",
       "      <th>base_review_id</th>\n",
       "      <th>steamid</th>\n",
       "      <th>appid</th>\n",
       "      <th>voted_up</th>\n",
       "      <th>votes_up</th>\n",
       "      <th>votes_funny</th>\n",
       "      <th>weighted_vote_score</th>\n",
       "      <th>playtime_forever</th>\n",
       "      <th>playtime_at_review</th>\n",
       "      <th>num_games_owned</th>\n",
       "      <th>num_reviews</th>\n",
       "      <th>review</th>\n",
       "      <th>unix_timestamp_created</th>\n",
       "      <th>unix_timestamp_updated</th>\n",
       "    </tr>\n",
       "  </thead>\n",
       "  <tbody>\n",
       "    <tr>\n",
       "      <th>0</th>\n",
       "      <td>0</td>\n",
       "      <td>76561199012934585</td>\n",
       "      <td>204100</td>\n",
       "      <td>True</td>\n",
       "      <td>0</td>\n",
       "      <td>0</td>\n",
       "      <td>0.000000</td>\n",
       "      <td>1671</td>\n",
       "      <td>1660</td>\n",
       "      <td>37</td>\n",
       "      <td>10</td>\n",
       "      <td>A masterpiece that is extremely underrated. Th...</td>\n",
       "      <td>1619063926</td>\n",
       "      <td>1619063926</td>\n",
       "    </tr>\n",
       "    <tr>\n",
       "      <th>1</th>\n",
       "      <td>1</td>\n",
       "      <td>76561198242204348</td>\n",
       "      <td>204100</td>\n",
       "      <td>True</td>\n",
       "      <td>0</td>\n",
       "      <td>0</td>\n",
       "      <td>0.000000</td>\n",
       "      <td>414</td>\n",
       "      <td>414</td>\n",
       "      <td>54</td>\n",
       "      <td>28</td>\n",
       "      <td>Not like 1 and 2 of the series but its alright.</td>\n",
       "      <td>1619047384</td>\n",
       "      <td>1619047384</td>\n",
       "    </tr>\n",
       "    <tr>\n",
       "      <th>2</th>\n",
       "      <td>2</td>\n",
       "      <td>76561198078115373</td>\n",
       "      <td>204100</td>\n",
       "      <td>False</td>\n",
       "      <td>1</td>\n",
       "      <td>1</td>\n",
       "      <td>0.522059</td>\n",
       "      <td>119</td>\n",
       "      <td>119</td>\n",
       "      <td>91</td>\n",
       "      <td>8</td>\n",
       "      <td>Unskippable cut scenes are horrible. Gameplay ...</td>\n",
       "      <td>1619040366</td>\n",
       "      <td>1619040366</td>\n",
       "    </tr>\n",
       "    <tr>\n",
       "      <th>3</th>\n",
       "      <td>3</td>\n",
       "      <td>76561198255525846</td>\n",
       "      <td>204100</td>\n",
       "      <td>True</td>\n",
       "      <td>0</td>\n",
       "      <td>0</td>\n",
       "      <td>0.000000</td>\n",
       "      <td>69</td>\n",
       "      <td>69</td>\n",
       "      <td>27</td>\n",
       "      <td>1</td>\n",
       "      <td>I enjoy the game.  Played it to 100% on PS3 an...</td>\n",
       "      <td>1619035215</td>\n",
       "      <td>1619035215</td>\n",
       "    </tr>\n",
       "    <tr>\n",
       "      <th>4</th>\n",
       "      <td>4</td>\n",
       "      <td>76561199026331378</td>\n",
       "      <td>204100</td>\n",
       "      <td>True</td>\n",
       "      <td>0</td>\n",
       "      <td>0</td>\n",
       "      <td>0.000000</td>\n",
       "      <td>608</td>\n",
       "      <td>608</td>\n",
       "      <td>40</td>\n",
       "      <td>1</td>\n",
       "      <td>Feel the Payne ;)\\nGreat Game, just like part ...</td>\n",
       "      <td>1619027681</td>\n",
       "      <td>1619027681</td>\n",
       "    </tr>\n",
       "  </tbody>\n",
       "</table>\n",
       "</div>"
      ],
      "text/plain": [
       "   base_review_id            steamid   appid  voted_up  votes_up  votes_funny  \\\n",
       "0               0  76561199012934585  204100      True         0            0   \n",
       "1               1  76561198242204348  204100      True         0            0   \n",
       "2               2  76561198078115373  204100     False         1            1   \n",
       "3               3  76561198255525846  204100      True         0            0   \n",
       "4               4  76561199026331378  204100      True         0            0   \n",
       "\n",
       "   weighted_vote_score  playtime_forever  playtime_at_review  num_games_owned  \\\n",
       "0             0.000000              1671                1660               37   \n",
       "1             0.000000               414                 414               54   \n",
       "2             0.522059               119                 119               91   \n",
       "3             0.000000                69                  69               27   \n",
       "4             0.000000               608                 608               40   \n",
       "\n",
       "   num_reviews                                             review  \\\n",
       "0           10  A masterpiece that is extremely underrated. Th...   \n",
       "1           28    Not like 1 and 2 of the series but its alright.   \n",
       "2            8  Unskippable cut scenes are horrible. Gameplay ...   \n",
       "3            1  I enjoy the game.  Played it to 100% on PS3 an...   \n",
       "4            1  Feel the Payne ;)\\nGreat Game, just like part ...   \n",
       "\n",
       "   unix_timestamp_created  unix_timestamp_updated  \n",
       "0              1619063926              1619063926  \n",
       "1              1619047384              1619047384  \n",
       "2              1619040366              1619040366  \n",
       "3              1619035215              1619035215  \n",
       "4              1619027681              1619027681  "
      ]
     },
     "execution_count": 7,
     "metadata": {},
     "output_type": "execute_result"
    }
   ],
   "source": [
    "# Print a few rows of the base reviews dataset to verify their correctness\n",
    "base_reviews_df.limit(5).toPandas()"
   ]
  },
  {
   "cell_type": "code",
   "execution_count": 8,
   "id": "bef6d86a",
   "metadata": {},
   "outputs": [
    {
     "data": {
      "text/plain": [
       "[('base_review_id', 'bigint'),\n",
       " ('steamid', 'bigint'),\n",
       " ('appid', 'bigint'),\n",
       " ('voted_up', 'boolean'),\n",
       " ('votes_up', 'bigint'),\n",
       " ('votes_funny', 'bigint'),\n",
       " ('weighted_vote_score', 'double'),\n",
       " ('playtime_forever', 'bigint'),\n",
       " ('playtime_at_review', 'bigint'),\n",
       " ('num_games_owned', 'bigint'),\n",
       " ('num_reviews', 'bigint'),\n",
       " ('review', 'string'),\n",
       " ('unix_timestamp_created', 'bigint'),\n",
       " ('unix_timestamp_updated', 'bigint')]"
      ]
     },
     "execution_count": 8,
     "metadata": {},
     "output_type": "execute_result"
    }
   ],
   "source": [
    "# Check the types of the base reviews Spark DataFrame\n",
    "base_reviews_df.dtypes"
   ]
  },
  {
   "cell_type": "code",
   "execution_count": 9,
   "id": "bfece456",
   "metadata": {},
   "outputs": [
    {
     "name": "stderr",
     "output_type": "stream",
     "text": [
      "                                                                                \r"
     ]
    }
   ],
   "source": [
    "# Write the extracted base reviews dataset to HDFS\n",
    "base_reviews_df.write.csv(\n",
    "    path='hdfs://localhost:54310/final_project/data/base_reviews',\n",
    "    mode='overwrite',\n",
    "    escape='\"',\n",
    "    header=True\n",
    ")"
   ]
  },
  {
   "cell_type": "code",
   "execution_count": 10,
   "id": "4d57a12d",
   "metadata": {
    "scrolled": true
   },
   "outputs": [
    {
     "name": "stderr",
     "output_type": "stream",
     "text": [
      "[Stage 9:====================================================>     (9 + 1) / 10]\r"
     ]
    },
    {
     "name": "stdout",
     "output_type": "stream",
     "text": [
      "Taking 308524 reviews out of the 3087862 of the base reviews dataset (9.992%).\n"
     ]
    },
    {
     "name": "stderr",
     "output_type": "stream",
     "text": [
      "\r",
      "                                                                                \r"
     ]
    }
   ],
   "source": [
    "# Randomly subsample the base dataset to create a small repository on which to perform the preliminary analyses\n",
    "small_reviews_df = base_reviews_df.sample(withReplacement=False, fraction=0.1)\n",
    "\n",
    "# Get the exact the number of rows extracted from the base dataset\n",
    "small_count = small_reviews_df.count()\n",
    "percentage = small_count / base_count * 100\n",
    "print(f'Taking {small_count} reviews out of the {base_count} of the base reviews dataset ({percentage:.3f}%).')"
   ]
  },
  {
   "cell_type": "code",
   "execution_count": 11,
   "id": "bc2fbbd6",
   "metadata": {
    "scrolled": true
   },
   "outputs": [
    {
     "data": {
      "text/html": [
       "<div>\n",
       "<style scoped>\n",
       "    .dataframe tbody tr th:only-of-type {\n",
       "        vertical-align: middle;\n",
       "    }\n",
       "\n",
       "    .dataframe tbody tr th {\n",
       "        vertical-align: top;\n",
       "    }\n",
       "\n",
       "    .dataframe thead th {\n",
       "        text-align: right;\n",
       "    }\n",
       "</style>\n",
       "<table border=\"1\" class=\"dataframe\">\n",
       "  <thead>\n",
       "    <tr style=\"text-align: right;\">\n",
       "      <th></th>\n",
       "      <th>base_review_id</th>\n",
       "      <th>steamid</th>\n",
       "      <th>appid</th>\n",
       "      <th>voted_up</th>\n",
       "      <th>votes_up</th>\n",
       "      <th>votes_funny</th>\n",
       "      <th>weighted_vote_score</th>\n",
       "      <th>playtime_forever</th>\n",
       "      <th>playtime_at_review</th>\n",
       "      <th>num_games_owned</th>\n",
       "      <th>num_reviews</th>\n",
       "      <th>review</th>\n",
       "      <th>unix_timestamp_created</th>\n",
       "      <th>unix_timestamp_updated</th>\n",
       "    </tr>\n",
       "  </thead>\n",
       "  <tbody>\n",
       "    <tr>\n",
       "      <th>0</th>\n",
       "      <td>3</td>\n",
       "      <td>76561198255525846</td>\n",
       "      <td>204100</td>\n",
       "      <td>True</td>\n",
       "      <td>0</td>\n",
       "      <td>0</td>\n",
       "      <td>0.0</td>\n",
       "      <td>69</td>\n",
       "      <td>69</td>\n",
       "      <td>27</td>\n",
       "      <td>1</td>\n",
       "      <td>I enjoy the game.  Played it to 100% on PS3 an...</td>\n",
       "      <td>1619035215</td>\n",
       "      <td>1619035215</td>\n",
       "    </tr>\n",
       "    <tr>\n",
       "      <th>1</th>\n",
       "      <td>18</td>\n",
       "      <td>76561198058159765</td>\n",
       "      <td>204100</td>\n",
       "      <td>True</td>\n",
       "      <td>0</td>\n",
       "      <td>0</td>\n",
       "      <td>0.0</td>\n",
       "      <td>356</td>\n",
       "      <td>336</td>\n",
       "      <td>61</td>\n",
       "      <td>3</td>\n",
       "      <td>good\\n</td>\n",
       "      <td>1618048279</td>\n",
       "      <td>1618048279</td>\n",
       "    </tr>\n",
       "    <tr>\n",
       "      <th>2</th>\n",
       "      <td>22</td>\n",
       "      <td>76561198372464367</td>\n",
       "      <td>204100</td>\n",
       "      <td>True</td>\n",
       "      <td>0</td>\n",
       "      <td>0</td>\n",
       "      <td>0.0</td>\n",
       "      <td>1684</td>\n",
       "      <td>1581</td>\n",
       "      <td>135</td>\n",
       "      <td>8</td>\n",
       "      <td>one of the  best 3rd person shooting game</td>\n",
       "      <td>1617507118</td>\n",
       "      <td>1617507118</td>\n",
       "    </tr>\n",
       "    <tr>\n",
       "      <th>3</th>\n",
       "      <td>25</td>\n",
       "      <td>76561198126769984</td>\n",
       "      <td>204100</td>\n",
       "      <td>True</td>\n",
       "      <td>0</td>\n",
       "      <td>0</td>\n",
       "      <td>0.0</td>\n",
       "      <td>477</td>\n",
       "      <td>97</td>\n",
       "      <td>41</td>\n",
       "      <td>23</td>\n",
       "      <td>I beat this game 5 times on ps3, when i saw th...</td>\n",
       "      <td>1617410356</td>\n",
       "      <td>1617410356</td>\n",
       "    </tr>\n",
       "    <tr>\n",
       "      <th>4</th>\n",
       "      <td>27</td>\n",
       "      <td>76561198090877508</td>\n",
       "      <td>204100</td>\n",
       "      <td>True</td>\n",
       "      <td>0</td>\n",
       "      <td>0</td>\n",
       "      <td>0.0</td>\n",
       "      <td>421</td>\n",
       "      <td>421</td>\n",
       "      <td>87</td>\n",
       "      <td>6</td>\n",
       "      <td>me cague a tiro con brazucas y me empastille a...</td>\n",
       "      <td>1617402322</td>\n",
       "      <td>1617402322</td>\n",
       "    </tr>\n",
       "  </tbody>\n",
       "</table>\n",
       "</div>"
      ],
      "text/plain": [
       "   base_review_id            steamid   appid  voted_up  votes_up  votes_funny  \\\n",
       "0               3  76561198255525846  204100      True         0            0   \n",
       "1              18  76561198058159765  204100      True         0            0   \n",
       "2              22  76561198372464367  204100      True         0            0   \n",
       "3              25  76561198126769984  204100      True         0            0   \n",
       "4              27  76561198090877508  204100      True         0            0   \n",
       "\n",
       "   weighted_vote_score  playtime_forever  playtime_at_review  num_games_owned  \\\n",
       "0                  0.0                69                  69               27   \n",
       "1                  0.0               356                 336               61   \n",
       "2                  0.0              1684                1581              135   \n",
       "3                  0.0               477                  97               41   \n",
       "4                  0.0               421                 421               87   \n",
       "\n",
       "   num_reviews                                             review  \\\n",
       "0            1  I enjoy the game.  Played it to 100% on PS3 an...   \n",
       "1            3                                             good\\n   \n",
       "2            8          one of the  best 3rd person shooting game   \n",
       "3           23  I beat this game 5 times on ps3, when i saw th...   \n",
       "4            6  me cague a tiro con brazucas y me empastille a...   \n",
       "\n",
       "   unix_timestamp_created  unix_timestamp_updated  \n",
       "0              1619035215              1619035215  \n",
       "1              1618048279              1618048279  \n",
       "2              1617507118              1617507118  \n",
       "3              1617410356              1617410356  \n",
       "4              1617402322              1617402322  "
      ]
     },
     "execution_count": 11,
     "metadata": {},
     "output_type": "execute_result"
    }
   ],
   "source": [
    "# Print a few rows of the small reviews dataset to verify their correctness\n",
    "small_reviews_df.limit(5).toPandas()"
   ]
  },
  {
   "cell_type": "code",
   "execution_count": 12,
   "id": "afeed913",
   "metadata": {},
   "outputs": [],
   "source": [
    "import pymongo\n",
    "\n",
    "# Connect to the local MongoDB instance and select the database used as repository for the small reviews dataset\n",
    "mongo = pymongo.MongoClient()\n",
    "mongo_db = mongo.final_project"
   ]
  },
  {
   "cell_type": "code",
   "execution_count": 13,
   "id": "989644d8",
   "metadata": {},
   "outputs": [
    {
     "name": "stderr",
     "output_type": "stream",
     "text": [
      "                                                                                \r"
     ]
    }
   ],
   "source": [
    "# Delete the content of the small_reviews collection, if necessary\n",
    "mongo_db.small_reviews.delete_many({})\n",
    "\n",
    "# Get a dict representation of the DataFrame containing the small dataset\n",
    "small_reviews_dict = small_reviews_df.toPandas().to_dict(orient='records')\n",
    "\n",
    "# Insert the reviews in the small_reviews collection of the final_project MongoDB database\n",
    "mongo_db.small_reviews.insert_many(small_reviews_dict);"
   ]
  },
  {
   "cell_type": "code",
   "execution_count": 14,
   "id": "859db3f6",
   "metadata": {},
   "outputs": [],
   "source": [
    "# Close the connection to the local MongoDB instance\n",
    "mongo.close()\n",
    "\n",
    "# Stop the Spark context underlying the Spark session\n",
    "spark.stop()"
   ]
  }
 ],
 "metadata": {
  "kernelspec": {
   "display_name": "Python 3 (ipykernel)",
   "language": "python",
   "name": "python3"
  },
  "language_info": {
   "codemirror_mode": {
    "name": "ipython",
    "version": 3
   },
   "file_extension": ".py",
   "mimetype": "text/x-python",
   "name": "python",
   "nbconvert_exporter": "python",
   "pygments_lexer": "ipython3",
   "version": "3.8.10"
  }
 },
 "nbformat": 4,
 "nbformat_minor": 5
}
