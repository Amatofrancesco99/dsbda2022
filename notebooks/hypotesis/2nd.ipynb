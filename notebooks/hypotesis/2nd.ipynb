{
 "cells": [
  {
   "cell_type": "code",
   "execution_count": 15,
   "metadata": {},
   "outputs": [],
   "source": [
    "import pymongo, pandas as pd, scipy.stats, matplotlib.pyplot as plt, numpy as np"
   ]
  },
  {
   "cell_type": "markdown",
   "metadata": {},
   "source": [
    "# Second Hypotesis: \n",
    "\n",
    "In the following notebook it will be analyzed the following hypotesis:\n",
    " - **Does there exist a correlation between the number of owned games and the number of written reviews?**"
   ]
  },
  {
   "cell_type": "markdown",
   "metadata": {},
   "source": [
    "## Local analysis\n",
    "\n",
    "First we'll consider a small set of data, in order to locally perform the analysis using standard python and its libraries.<br>\n",
    "If relevant results are obtained, the analysis will be replicated by using Big Data tools (HDFS, Spark, ...)."
   ]
  },
  {
   "cell_type": "markdown",
   "metadata": {},
   "source": [
    "### Import json reviews dataset & select relevant features to perform the analysis"
   ]
  },
  {
   "cell_type": "code",
   "execution_count": 16,
   "metadata": {},
   "outputs": [],
   "source": [
    "# Connect to the mongo local and load as a dataframe the small_reviews collection\n",
    "mongo = pymongo.MongoClient()\n",
    "mongo_db = mongo.final_project\n",
    "small_reviews_df = pd.DataFrame(list(mongo_db.small_reviews.find({}, {'_id': False})))\n",
    "mongo.close() #Close the connection"
   ]
  },
  {
   "cell_type": "code",
   "execution_count": 17,
   "metadata": {},
   "outputs": [
    {
     "data": {
      "text/html": [
       "<div>\n",
       "<style scoped>\n",
       "    .dataframe tbody tr th:only-of-type {\n",
       "        vertical-align: middle;\n",
       "    }\n",
       "\n",
       "    .dataframe tbody tr th {\n",
       "        vertical-align: top;\n",
       "    }\n",
       "\n",
       "    .dataframe thead th {\n",
       "        text-align: right;\n",
       "    }\n",
       "</style>\n",
       "<table border=\"1\" class=\"dataframe\">\n",
       "  <thead>\n",
       "    <tr style=\"text-align: right;\">\n",
       "      <th></th>\n",
       "      <th>base_review_id</th>\n",
       "      <th>steamid</th>\n",
       "      <th>appid</th>\n",
       "      <th>voted_up</th>\n",
       "      <th>votes_up</th>\n",
       "      <th>votes_funny</th>\n",
       "      <th>weighted_vote_score</th>\n",
       "      <th>playtime_forever</th>\n",
       "      <th>playtime_at_review</th>\n",
       "      <th>num_games_owned</th>\n",
       "      <th>num_reviews</th>\n",
       "      <th>review</th>\n",
       "      <th>unix_timestamp_created</th>\n",
       "      <th>unix_timestamp_updated</th>\n",
       "    </tr>\n",
       "  </thead>\n",
       "  <tbody>\n",
       "    <tr>\n",
       "      <th>0</th>\n",
       "      <td>18</td>\n",
       "      <td>76561198058159765</td>\n",
       "      <td>204100</td>\n",
       "      <td>True</td>\n",
       "      <td>0</td>\n",
       "      <td>0</td>\n",
       "      <td>0.000000</td>\n",
       "      <td>356</td>\n",
       "      <td>336</td>\n",
       "      <td>61</td>\n",
       "      <td>3</td>\n",
       "      <td>good\\n</td>\n",
       "      <td>1618048279</td>\n",
       "      <td>1618048279</td>\n",
       "    </tr>\n",
       "    <tr>\n",
       "      <th>1</th>\n",
       "      <td>25</td>\n",
       "      <td>76561198126769984</td>\n",
       "      <td>204100</td>\n",
       "      <td>True</td>\n",
       "      <td>0</td>\n",
       "      <td>0</td>\n",
       "      <td>0.000000</td>\n",
       "      <td>477</td>\n",
       "      <td>97</td>\n",
       "      <td>41</td>\n",
       "      <td>23</td>\n",
       "      <td>I beat this game 5 times on ps3, when i saw th...</td>\n",
       "      <td>1617410356</td>\n",
       "      <td>1617410356</td>\n",
       "    </tr>\n",
       "    <tr>\n",
       "      <th>2</th>\n",
       "      <td>22</td>\n",
       "      <td>76561198372464367</td>\n",
       "      <td>204100</td>\n",
       "      <td>True</td>\n",
       "      <td>0</td>\n",
       "      <td>0</td>\n",
       "      <td>0.000000</td>\n",
       "      <td>1684</td>\n",
       "      <td>1581</td>\n",
       "      <td>135</td>\n",
       "      <td>8</td>\n",
       "      <td>one of the  best 3rd person shooting game</td>\n",
       "      <td>1617507118</td>\n",
       "      <td>1617507118</td>\n",
       "    </tr>\n",
       "    <tr>\n",
       "      <th>3</th>\n",
       "      <td>3</td>\n",
       "      <td>76561198255525846</td>\n",
       "      <td>204100</td>\n",
       "      <td>True</td>\n",
       "      <td>0</td>\n",
       "      <td>0</td>\n",
       "      <td>0.000000</td>\n",
       "      <td>69</td>\n",
       "      <td>69</td>\n",
       "      <td>27</td>\n",
       "      <td>1</td>\n",
       "      <td>I enjoy the game.  Played it to 100% on PS3 an...</td>\n",
       "      <td>1619035215</td>\n",
       "      <td>1619035215</td>\n",
       "    </tr>\n",
       "    <tr>\n",
       "      <th>4</th>\n",
       "      <td>27</td>\n",
       "      <td>76561198090877508</td>\n",
       "      <td>204100</td>\n",
       "      <td>True</td>\n",
       "      <td>0</td>\n",
       "      <td>0</td>\n",
       "      <td>0.000000</td>\n",
       "      <td>421</td>\n",
       "      <td>421</td>\n",
       "      <td>87</td>\n",
       "      <td>6</td>\n",
       "      <td>me cague a tiro con brazucas y me empastille a...</td>\n",
       "      <td>1617402322</td>\n",
       "      <td>1617402322</td>\n",
       "    </tr>\n",
       "    <tr>\n",
       "      <th>...</th>\n",
       "      <td>...</td>\n",
       "      <td>...</td>\n",
       "      <td>...</td>\n",
       "      <td>...</td>\n",
       "      <td>...</td>\n",
       "      <td>...</td>\n",
       "      <td>...</td>\n",
       "      <td>...</td>\n",
       "      <td>...</td>\n",
       "      <td>...</td>\n",
       "      <td>...</td>\n",
       "      <td>...</td>\n",
       "      <td>...</td>\n",
       "      <td>...</td>\n",
       "    </tr>\n",
       "    <tr>\n",
       "      <th>308519</th>\n",
       "      <td>77309412962</td>\n",
       "      <td>76561198945436777</td>\n",
       "      <td>598980</td>\n",
       "      <td>False</td>\n",
       "      <td>2</td>\n",
       "      <td>28</td>\n",
       "      <td>0.198423</td>\n",
       "      <td>159</td>\n",
       "      <td>41</td>\n",
       "      <td>1</td>\n",
       "      <td>1</td>\n",
       "      <td>Excuse me kind programmer this game isnt worki...</td>\n",
       "      <td>1553811131</td>\n",
       "      <td>1553811131</td>\n",
       "    </tr>\n",
       "    <tr>\n",
       "      <th>308520</th>\n",
       "      <td>77309413004</td>\n",
       "      <td>76561198030747313</td>\n",
       "      <td>597970</td>\n",
       "      <td>True</td>\n",
       "      <td>1</td>\n",
       "      <td>0</td>\n",
       "      <td>0.470299</td>\n",
       "      <td>1631</td>\n",
       "      <td>596</td>\n",
       "      <td>300</td>\n",
       "      <td>2</td>\n",
       "      <td>Really fun, great game design. I like the char...</td>\n",
       "      <td>1500990434</td>\n",
       "      <td>1500990434</td>\n",
       "    </tr>\n",
       "    <tr>\n",
       "      <th>308521</th>\n",
       "      <td>77309413007</td>\n",
       "      <td>76561197985682990</td>\n",
       "      <td>597970</td>\n",
       "      <td>True</td>\n",
       "      <td>1</td>\n",
       "      <td>0</td>\n",
       "      <td>0.502488</td>\n",
       "      <td>1422</td>\n",
       "      <td>1402</td>\n",
       "      <td>61</td>\n",
       "      <td>3</td>\n",
       "      <td>I just bought this game, I like it, it has a l...</td>\n",
       "      <td>1497200643</td>\n",
       "      <td>1497200643</td>\n",
       "    </tr>\n",
       "    <tr>\n",
       "      <th>308522</th>\n",
       "      <td>77309413014</td>\n",
       "      <td>76561197991784193</td>\n",
       "      <td>597970</td>\n",
       "      <td>True</td>\n",
       "      <td>4</td>\n",
       "      <td>0</td>\n",
       "      <td>0.543026</td>\n",
       "      <td>551</td>\n",
       "      <td>551</td>\n",
       "      <td>651</td>\n",
       "      <td>15</td>\n",
       "      <td>Age of Rivals is a really interesting card gam...</td>\n",
       "      <td>1489890474</td>\n",
       "      <td>1489890474</td>\n",
       "    </tr>\n",
       "    <tr>\n",
       "      <th>308523</th>\n",
       "      <td>77309412974</td>\n",
       "      <td>76561198065227706</td>\n",
       "      <td>598980</td>\n",
       "      <td>True</td>\n",
       "      <td>0</td>\n",
       "      <td>0</td>\n",
       "      <td>0.483871</td>\n",
       "      <td>335</td>\n",
       "      <td>245</td>\n",
       "      <td>321</td>\n",
       "      <td>11</td>\n",
       "      <td>As a Unity developer myself, all I can say is ...</td>\n",
       "      <td>1552287730</td>\n",
       "      <td>1552287730</td>\n",
       "    </tr>\n",
       "  </tbody>\n",
       "</table>\n",
       "<p>308524 rows × 14 columns</p>\n",
       "</div>"
      ],
      "text/plain": [
       "        base_review_id            steamid   appid  voted_up  votes_up  \\\n",
       "0                   18  76561198058159765  204100      True         0   \n",
       "1                   25  76561198126769984  204100      True         0   \n",
       "2                   22  76561198372464367  204100      True         0   \n",
       "3                    3  76561198255525846  204100      True         0   \n",
       "4                   27  76561198090877508  204100      True         0   \n",
       "...                ...                ...     ...       ...       ...   \n",
       "308519     77309412962  76561198945436777  598980     False         2   \n",
       "308520     77309413004  76561198030747313  597970      True         1   \n",
       "308521     77309413007  76561197985682990  597970      True         1   \n",
       "308522     77309413014  76561197991784193  597970      True         4   \n",
       "308523     77309412974  76561198065227706  598980      True         0   \n",
       "\n",
       "        votes_funny  weighted_vote_score  playtime_forever  \\\n",
       "0                 0             0.000000               356   \n",
       "1                 0             0.000000               477   \n",
       "2                 0             0.000000              1684   \n",
       "3                 0             0.000000                69   \n",
       "4                 0             0.000000               421   \n",
       "...             ...                  ...               ...   \n",
       "308519           28             0.198423               159   \n",
       "308520            0             0.470299              1631   \n",
       "308521            0             0.502488              1422   \n",
       "308522            0             0.543026               551   \n",
       "308523            0             0.483871               335   \n",
       "\n",
       "        playtime_at_review  num_games_owned  num_reviews  \\\n",
       "0                      336               61            3   \n",
       "1                       97               41           23   \n",
       "2                     1581              135            8   \n",
       "3                       69               27            1   \n",
       "4                      421               87            6   \n",
       "...                    ...              ...          ...   \n",
       "308519                  41                1            1   \n",
       "308520                 596              300            2   \n",
       "308521                1402               61            3   \n",
       "308522                 551              651           15   \n",
       "308523                 245              321           11   \n",
       "\n",
       "                                                   review  \\\n",
       "0                                                  good\\n   \n",
       "1       I beat this game 5 times on ps3, when i saw th...   \n",
       "2               one of the  best 3rd person shooting game   \n",
       "3       I enjoy the game.  Played it to 100% on PS3 an...   \n",
       "4       me cague a tiro con brazucas y me empastille a...   \n",
       "...                                                   ...   \n",
       "308519  Excuse me kind programmer this game isnt worki...   \n",
       "308520  Really fun, great game design. I like the char...   \n",
       "308521  I just bought this game, I like it, it has a l...   \n",
       "308522  Age of Rivals is a really interesting card gam...   \n",
       "308523  As a Unity developer myself, all I can say is ...   \n",
       "\n",
       "        unix_timestamp_created  unix_timestamp_updated  \n",
       "0                   1618048279              1618048279  \n",
       "1                   1617410356              1617410356  \n",
       "2                   1617507118              1617507118  \n",
       "3                   1619035215              1619035215  \n",
       "4                   1617402322              1617402322  \n",
       "...                        ...                     ...  \n",
       "308519              1553811131              1553811131  \n",
       "308520              1500990434              1500990434  \n",
       "308521              1497200643              1497200643  \n",
       "308522              1489890474              1489890474  \n",
       "308523              1552287730              1552287730  \n",
       "\n",
       "[308524 rows x 14 columns]"
      ]
     },
     "execution_count": 17,
     "metadata": {},
     "output_type": "execute_result"
    }
   ],
   "source": [
    "# Show the reviews dataframe\n",
    "small_reviews_df"
   ]
  },
  {
   "cell_type": "code",
   "execution_count": 18,
   "metadata": {},
   "outputs": [],
   "source": [
    "# Select just the items we are interested to analyze the selected hypotesis\n",
    "num_games_owned = small_reviews_df['num_games_owned']\n",
    "num_reviews = small_reviews_df['num_reviews']"
   ]
  },
  {
   "cell_type": "markdown",
   "metadata": {},
   "source": [
    "### Correlation test\n",
    "\n",
    "In order to verify if there is a correlation we are considering the *Spearman's* method.\n",
    "\n",
    " - What is Spearman correlation? https://statisticsbyjim.com/basics/spearmans-correlation/"
   ]
  },
  {
   "cell_type": "code",
   "execution_count": 19,
   "metadata": {},
   "outputs": [
    {
     "name": "stdout",
     "output_type": "stream",
     "text": [
      "Spearman correlation coefficient: 0.575 \n",
      "P-value: 0.000\n",
      "\n",
      "Reject the null hypothesis\n"
     ]
    }
   ],
   "source": [
    "# Calculate Spearman Rank correlation and corresponding p-value\n",
    "# The higher the number of owned games the higher the number of reviews (this is the meaning of the alternative greater)\n",
    "statistics, p_value = scipy.stats.spearmanr(num_games_owned, num_reviews, alternative='greater')\n",
    "\n",
    "print(f\"Spearman correlation coefficient: {statistics:.3f} \\nP-value: {p_value:.3f}\")\n",
    "\n",
    "# Level of significance\n",
    "alpha = 0.05\n",
    "# conclusion\n",
    "if p_value < alpha:\n",
    "    print('\\nReject the null hypothesis')\n",
    "else:\n",
    "    print('\\nDo not reject the null hypothesis')"
   ]
  },
  {
   "cell_type": "markdown",
   "metadata": {},
   "source": [
    "### Visualize result"
   ]
  },
  {
   "cell_type": "code",
   "execution_count": 20,
   "metadata": {},
   "outputs": [
    {
     "data": {
      "image/png": "[encoded data removed]",
      "text/plain": [
       "<Figure size 432x288 with 1 Axes>"
      ]
     },
     "metadata": {
      "needs_background": "light"
     },
     "output_type": "display_data"
    }
   ],
   "source": [
    "x = num_games_owned\n",
    "y = num_reviews\n",
    "plt.scatter(num_games_owned, num_reviews, label='Observations')\n",
    "plt.plot(np.unique(x), np.poly1d(np.polyfit(x, y, 1))(np.unique(x)), color='red', linewidth=2, label='Regression line')\n",
    "plt.xlabel('Number of owned games')\n",
    "plt.ylabel('Number of reviews')\n",
    "plt.legend()\n",
    "plt.show()"
   ]
  },
  {
   "cell_type": "markdown",
   "metadata": {},
   "source": [
    "### Variant hypotesis: \n",
    " - **People that owns lot of games tend to review most of their games?**"
   ]
  },
  {
   "cell_type": "code",
   "execution_count": 21,
   "metadata": {},
   "outputs": [
    {
     "name": "stdout",
     "output_type": "stream",
     "text": [
      "Spearman correlation coefficient: -0.464 \n",
      "P-value: 1.000\n",
      "\n",
      "Do not reject the null hypothesis\n"
     ]
    }
   ],
   "source": [
    "reviews_ratio = num_reviews / num_games_owned\n",
    "statistics, p_value = scipy.stats.spearmanr(num_games_owned, reviews_ratio, alternative='greater')\n",
    "print(f\"Spearman correlation coefficient: {statistics:.3f} \\nP-value: {p_value:.3f}\")\n",
    "# Level of significance\n",
    "alpha = 0.05\n",
    "# conclusion\n",
    "if p_value < alpha:\n",
    "    print('\\nReject the null hypothesis')\n",
    "else:\n",
    "    print('\\nDo not reject the null hypothesis')"
   ]
  },
  {
   "cell_type": "markdown",
   "metadata": {},
   "source": [
    "We can see from the p-value that the variant hypotesis is not statistically significant."
   ]
  },
  {
   "cell_type": "markdown",
   "metadata": {},
   "source": [
    "## Big data analysis"
   ]
  }
 ],
 "metadata": {
  "kernelspec": {
   "display_name": "Python 3.9.2 64-bit",
   "language": "python",
   "name": "python3"
  },
  "language_info": {
   "codemirror_mode": {
    "name": "ipython",
    "version": 3
   },
   "file_extension": ".py",
   "mimetype": "text/x-python",
   "name": "python",
   "nbconvert_exporter": "python",
   "pygments_lexer": "ipython3",
   "version": "3.9.2"
  },
  "orig_nbformat": 4,
  "vscode": {
   "interpreter": {
    "hash": "aee8b7b246df8f9039afb4144a1f6fd8d2ca17a180786b69acc140d282b71a49"
   }
  }
 },
 "nbformat": 4,
 "nbformat_minor": 2
}
