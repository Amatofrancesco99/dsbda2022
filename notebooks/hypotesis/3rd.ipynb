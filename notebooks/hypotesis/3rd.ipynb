{
 "cells": [
  {
   "cell_type": "code",
   "execution_count": 1,
   "id": "1fdeecdf-7e74-42d3-811c-1d73a1c9ee6a",
   "metadata": {},
   "outputs": [],
   "source": [
    "import pandas as pd"
   ]
  },
  {
   "cell_type": "markdown",
   "id": "ef17866f-ccf1-4b6f-b4d5-f8045e046ffc",
   "metadata": {},
   "source": [
    "# Hypothesis 3 \n",
    "\n"
   ]
  },
  {
   "cell_type": "code",
   "execution_count": null,
   "id": "89d64925-f2cd-43c0-9d6e-9862a0a4eb4d",
   "metadata": {},
   "outputs": [],
   "source": []
  },
  {
   "cell_type": "markdown",
   "id": "78744e39-0043-481e-905e-71ef33920084",
   "metadata": {},
   "source": [
    "# Dealing with Game Genres\n",
    " A row for each game, a column for each game genre"
   ]
  },
  {
   "cell_type": "code",
   "execution_count": 2,
   "id": "3a179e31-6ec8-458d-9f43-100bd444b284",
   "metadata": {},
   "outputs": [],
   "source": [
    "# load the game-info dataframe and keep only appid and genres \n",
    "ga = pd.read_csv(\"./buruf-datasets/game-info/steam.csv\")\n",
    "ga = ga[['appid', 'genres']]"
   ]
  },
  {
   "cell_type": "code",
   "execution_count": 3,
   "id": "d6805654-8ecb-4579-bf1c-7313b87e9bce",
   "metadata": {},
   "outputs": [],
   "source": [
    "# split genres string into a list\n",
    "ga['genres'] = ga.genres.str.split(';').apply(lambda x : x)"
   ]
  },
  {
   "cell_type": "code",
   "execution_count": 4,
   "id": "f8e5b8ce-c269-4713-8716-0d328d17acf0",
   "metadata": {},
   "outputs": [
    {
     "data": {
      "text/html": [
       "<div>\n",
       "<style scoped>\n",
       "    .dataframe tbody tr th:only-of-type {\n",
       "        vertical-align: middle;\n",
       "    }\n",
       "\n",
       "    .dataframe tbody tr th {\n",
       "        vertical-align: top;\n",
       "    }\n",
       "\n",
       "    .dataframe thead th {\n",
       "        text-align: right;\n",
       "    }\n",
       "</style>\n",
       "<table border=\"1\" class=\"dataframe\">\n",
       "  <thead>\n",
       "    <tr style=\"text-align: right;\">\n",
       "      <th></th>\n",
       "      <th>appid</th>\n",
       "      <th>genres</th>\n",
       "    </tr>\n",
       "  </thead>\n",
       "  <tbody>\n",
       "    <tr>\n",
       "      <th>0</th>\n",
       "      <td>10</td>\n",
       "      <td>[Action]</td>\n",
       "    </tr>\n",
       "    <tr>\n",
       "      <th>1</th>\n",
       "      <td>20</td>\n",
       "      <td>[Action]</td>\n",
       "    </tr>\n",
       "    <tr>\n",
       "      <th>2</th>\n",
       "      <td>30</td>\n",
       "      <td>[Action]</td>\n",
       "    </tr>\n",
       "    <tr>\n",
       "      <th>3</th>\n",
       "      <td>40</td>\n",
       "      <td>[Action]</td>\n",
       "    </tr>\n",
       "    <tr>\n",
       "      <th>4</th>\n",
       "      <td>50</td>\n",
       "      <td>[Action]</td>\n",
       "    </tr>\n",
       "    <tr>\n",
       "      <th>...</th>\n",
       "      <td>...</td>\n",
       "      <td>...</td>\n",
       "    </tr>\n",
       "    <tr>\n",
       "      <th>27070</th>\n",
       "      <td>1065230</td>\n",
       "      <td>[Adventure, Casual, Indie]</td>\n",
       "    </tr>\n",
       "    <tr>\n",
       "      <th>27071</th>\n",
       "      <td>1065570</td>\n",
       "      <td>[Action, Adventure, Indie]</td>\n",
       "    </tr>\n",
       "    <tr>\n",
       "      <th>27072</th>\n",
       "      <td>1065650</td>\n",
       "      <td>[Action, Casual, Indie]</td>\n",
       "    </tr>\n",
       "    <tr>\n",
       "      <th>27073</th>\n",
       "      <td>1066700</td>\n",
       "      <td>[Adventure, Casual, Indie]</td>\n",
       "    </tr>\n",
       "    <tr>\n",
       "      <th>27074</th>\n",
       "      <td>1069460</td>\n",
       "      <td>[Adventure, Casual, Indie]</td>\n",
       "    </tr>\n",
       "  </tbody>\n",
       "</table>\n",
       "<p>27075 rows × 2 columns</p>\n",
       "</div>"
      ],
      "text/plain": [
       "         appid                      genres\n",
       "0           10                    [Action]\n",
       "1           20                    [Action]\n",
       "2           30                    [Action]\n",
       "3           40                    [Action]\n",
       "4           50                    [Action]\n",
       "...        ...                         ...\n",
       "27070  1065230  [Adventure, Casual, Indie]\n",
       "27071  1065570  [Action, Adventure, Indie]\n",
       "27072  1065650     [Action, Casual, Indie]\n",
       "27073  1066700  [Adventure, Casual, Indie]\n",
       "27074  1069460  [Adventure, Casual, Indie]\n",
       "\n",
       "[27075 rows x 2 columns]"
      ]
     },
     "execution_count": 4,
     "metadata": {},
     "output_type": "execute_result"
    }
   ],
   "source": [
    "ga"
   ]
  },
  {
   "cell_type": "code",
   "execution_count": 5,
   "id": "a2948cb1-be2d-4eba-a5ae-7723a6a48683",
   "metadata": {},
   "outputs": [
    {
     "data": {
      "text/plain": [
       "29"
      ]
     },
     "execution_count": 5,
     "metadata": {},
     "output_type": "execute_result"
    }
   ],
   "source": [
    "# get all unique genres\n",
    "all_genres = ga.genres.apply(pd.Series).stack().reset_index(drop=True).unique()\n",
    "len(all_genres)"
   ]
  },
  {
   "cell_type": "code",
   "execution_count": 6,
   "id": "6e545472-6436-4aef-b85a-95e1425a7229",
   "metadata": {},
   "outputs": [],
   "source": [
    "# a dict for each game, each dict has all of the genres, val=1 if genre applies to game\n",
    "gen_dicts = ga.genres.apply(lambda gens : { **{g:0 for g in all_genres}, **{ g:1 for g in gens } } )"
   ]
  },
  {
   "cell_type": "code",
   "execution_count": 7,
   "id": "e3c04bec-6eaf-4875-94e5-79c94d47ddd8",
   "metadata": {},
   "outputs": [],
   "source": [
    "# delete now useless column\n",
    "ga = ga.drop(columns=['genres'])"
   ]
  },
  {
   "cell_type": "code",
   "execution_count": 8,
   "id": "71ba4607-88f4-484d-a54d-d31a49fae904",
   "metadata": {},
   "outputs": [],
   "source": [
    "# merge with original\n",
    "ga = pd.concat( [ga.reset_index(drop=True), gen_dicts.apply(pd.Series).reset_index(drop=True)] , axis=1)"
   ]
  },
  {
   "cell_type": "code",
   "execution_count": 9,
   "id": "b2c651db-5ff2-4ca0-a39f-75f06dfe8876",
   "metadata": {},
   "outputs": [
    {
     "data": {
      "text/html": [
       "<div>\n",
       "<style scoped>\n",
       "    .dataframe tbody tr th:only-of-type {\n",
       "        vertical-align: middle;\n",
       "    }\n",
       "\n",
       "    .dataframe tbody tr th {\n",
       "        vertical-align: top;\n",
       "    }\n",
       "\n",
       "    .dataframe thead th {\n",
       "        text-align: right;\n",
       "    }\n",
       "</style>\n",
       "<table border=\"1\" class=\"dataframe\">\n",
       "  <thead>\n",
       "    <tr style=\"text-align: right;\">\n",
       "      <th></th>\n",
       "      <th>appid</th>\n",
       "      <th>Action</th>\n",
       "      <th>Free to Play</th>\n",
       "      <th>Strategy</th>\n",
       "      <th>Adventure</th>\n",
       "      <th>Indie</th>\n",
       "      <th>RPG</th>\n",
       "      <th>Animation &amp; Modeling</th>\n",
       "      <th>Video Production</th>\n",
       "      <th>Casual</th>\n",
       "      <th>...</th>\n",
       "      <th>Web Publishing</th>\n",
       "      <th>Education</th>\n",
       "      <th>Software Training</th>\n",
       "      <th>Sexual Content</th>\n",
       "      <th>Audio Production</th>\n",
       "      <th>Game Development</th>\n",
       "      <th>Photo Editing</th>\n",
       "      <th>Accounting</th>\n",
       "      <th>Documentary</th>\n",
       "      <th>Tutorial</th>\n",
       "    </tr>\n",
       "  </thead>\n",
       "  <tbody>\n",
       "    <tr>\n",
       "      <th>0</th>\n",
       "      <td>10</td>\n",
       "      <td>1</td>\n",
       "      <td>0</td>\n",
       "      <td>0</td>\n",
       "      <td>0</td>\n",
       "      <td>0</td>\n",
       "      <td>0</td>\n",
       "      <td>0</td>\n",
       "      <td>0</td>\n",
       "      <td>0</td>\n",
       "      <td>...</td>\n",
       "      <td>0</td>\n",
       "      <td>0</td>\n",
       "      <td>0</td>\n",
       "      <td>0</td>\n",
       "      <td>0</td>\n",
       "      <td>0</td>\n",
       "      <td>0</td>\n",
       "      <td>0</td>\n",
       "      <td>0</td>\n",
       "      <td>0</td>\n",
       "    </tr>\n",
       "    <tr>\n",
       "      <th>1</th>\n",
       "      <td>20</td>\n",
       "      <td>1</td>\n",
       "      <td>0</td>\n",
       "      <td>0</td>\n",
       "      <td>0</td>\n",
       "      <td>0</td>\n",
       "      <td>0</td>\n",
       "      <td>0</td>\n",
       "      <td>0</td>\n",
       "      <td>0</td>\n",
       "      <td>...</td>\n",
       "      <td>0</td>\n",
       "      <td>0</td>\n",
       "      <td>0</td>\n",
       "      <td>0</td>\n",
       "      <td>0</td>\n",
       "      <td>0</td>\n",
       "      <td>0</td>\n",
       "      <td>0</td>\n",
       "      <td>0</td>\n",
       "      <td>0</td>\n",
       "    </tr>\n",
       "  </tbody>\n",
       "</table>\n",
       "<p>2 rows × 30 columns</p>\n",
       "</div>"
      ],
      "text/plain": [
       "   appid  Action  Free to Play  Strategy  Adventure  Indie  RPG  \\\n",
       "0     10       1             0         0          0      0    0   \n",
       "1     20       1             0         0          0      0    0   \n",
       "\n",
       "   Animation & Modeling  Video Production  Casual  ...  Web Publishing  \\\n",
       "0                     0                 0       0  ...               0   \n",
       "1                     0                 0       0  ...               0   \n",
       "\n",
       "   Education  Software Training  Sexual Content  Audio Production  \\\n",
       "0          0                  0               0                 0   \n",
       "1          0                  0               0                 0   \n",
       "\n",
       "   Game Development  Photo Editing  Accounting  Documentary  Tutorial  \n",
       "0                 0              0           0            0         0  \n",
       "1                 0              0           0            0         0  \n",
       "\n",
       "[2 rows x 30 columns]"
      ]
     },
     "execution_count": 9,
     "metadata": {},
     "output_type": "execute_result"
    }
   ],
   "source": [
    "ga.head(2)"
   ]
  },
  {
   "cell_type": "markdown",
   "id": "643b2dd3-10a2-4f19-a82b-efe530d07a33",
   "metadata": {},
   "source": [
    "# Dealing with Reviews\n",
    "Only keep reviews by players who authored more than one."
   ]
  },
  {
   "cell_type": "code",
   "execution_count": 10,
   "id": "42feb17f-3def-4c9b-8da9-d2767a9b3503",
   "metadata": {},
   "outputs": [],
   "source": [
    "df = pd.read_json(\"./small_reviews.json\",  lines=True)"
   ]
  },
  {
   "cell_type": "code",
   "execution_count": 11,
   "id": "d884527a-6c9e-479d-92da-41d16818ab80",
   "metadata": {},
   "outputs": [],
   "source": [
    "# Unbox Mongodb useless extra object\n",
    "df['steamid'] = df.steamid.apply(lambda x : int(x['$numberLong']))"
   ]
  },
  {
   "cell_type": "code",
   "execution_count": 12,
   "id": "6802e387-5764-467a-a3b3-a0925678cf1b",
   "metadata": {},
   "outputs": [],
   "source": [
    "# Remove useless Mongodb _id\n",
    "df = df.drop(columns=['_id'])"
   ]
  },
  {
   "cell_type": "code",
   "execution_count": 13,
   "id": "2f97fa62-2182-47fa-82cc-573a6a6c29a6",
   "metadata": {},
   "outputs": [],
   "source": [
    "# only keep useful columns\n",
    "df = df[['appid', 'steamid', 'voted_up']]"
   ]
  },
  {
   "cell_type": "code",
   "execution_count": 14,
   "id": "de739af7-1ed5-49c1-a484-40af382ff6cf",
   "metadata": {},
   "outputs": [
    {
     "data": {
      "text/plain": [
       "290380"
      ]
     },
     "execution_count": 14,
     "metadata": {},
     "output_type": "execute_result"
    }
   ],
   "source": [
    "# how many unique players are there?\n",
    "len(df.steamid.unique())"
   ]
  },
  {
   "cell_type": "code",
   "execution_count": 15,
   "id": "3e8e0468-300a-47c8-8771-8eaf5bc93009",
   "metadata": {},
   "outputs": [
    {
     "data": {
      "text/plain": [
       "18144"
      ]
     },
     "execution_count": 15,
     "metadata": {},
     "output_type": "execute_result"
    }
   ],
   "source": [
    "# how many players that wrote at least more than one review?\n",
    "df.steamid.duplicated().sum()"
   ]
  },
  {
   "cell_type": "code",
   "execution_count": 16,
   "id": "05b82e8e-eae2-4c62-b94a-0c08df21cbeb",
   "metadata": {},
   "outputs": [],
   "source": [
    "df = df.reset_index(drop=True)"
   ]
  },
  {
   "cell_type": "code",
   "execution_count": 17,
   "id": "a9d49e29-b568-4b79-8ff3-ae15f871446c",
   "metadata": {},
   "outputs": [
    {
     "data": {
      "text/plain": [
       "True     268066\n",
       "False     40458\n",
       "Name: voted_up, dtype: int64"
      ]
     },
     "execution_count": 17,
     "metadata": {},
     "output_type": "execute_result"
    }
   ],
   "source": [
    "df.voted_up.value_counts()"
   ]
  },
  {
   "cell_type": "markdown",
   "id": "1bd5f12f-51a9-48b9-83c8-768d6b6989b5",
   "metadata": {},
   "source": [
    "# Merge the two datasets"
   ]
  },
  {
   "cell_type": "code",
   "execution_count": 18,
   "id": "da19a465-ee26-46e7-b0dd-dbe7f93a847f",
   "metadata": {},
   "outputs": [],
   "source": [
    "df = df.merge(ga, on='appid')"
   ]
  },
  {
   "cell_type": "code",
   "execution_count": 19,
   "id": "edcaeeb3-83a1-4cf4-bb1b-f279cf6e7720",
   "metadata": {},
   "outputs": [
    {
     "data": {
      "text/plain": [
       "308524"
      ]
     },
     "execution_count": 19,
     "metadata": {},
     "output_type": "execute_result"
    }
   ],
   "source": [
    "len(df) # check same as df.steamid.duplicated().sum() if all games present in ga"
   ]
  },
  {
   "cell_type": "code",
   "execution_count": 20,
   "id": "92145f3c-1b71-4018-93ae-012d69098870",
   "metadata": {},
   "outputs": [
    {
     "data": {
      "text/plain": [
       "308524"
      ]
     },
     "execution_count": 20,
     "metadata": {},
     "output_type": "execute_result"
    }
   ],
   "source": [
    "len(df)"
   ]
  },
  {
   "cell_type": "code",
   "execution_count": 21,
   "id": "0783100d-9bdb-49bb-9f2f-090bde724a20",
   "metadata": {},
   "outputs": [
    {
     "data": {
      "text/html": [
       "<div>\n",
       "<style scoped>\n",
       "    .dataframe tbody tr th:only-of-type {\n",
       "        vertical-align: middle;\n",
       "    }\n",
       "\n",
       "    .dataframe tbody tr th {\n",
       "        vertical-align: top;\n",
       "    }\n",
       "\n",
       "    .dataframe thead th {\n",
       "        text-align: right;\n",
       "    }\n",
       "</style>\n",
       "<table border=\"1\" class=\"dataframe\">\n",
       "  <thead>\n",
       "    <tr style=\"text-align: right;\">\n",
       "      <th></th>\n",
       "      <th>appid</th>\n",
       "      <th>steamid</th>\n",
       "      <th>voted_up</th>\n",
       "      <th>Action</th>\n",
       "      <th>Free to Play</th>\n",
       "      <th>Strategy</th>\n",
       "      <th>Adventure</th>\n",
       "      <th>Indie</th>\n",
       "      <th>RPG</th>\n",
       "      <th>Animation &amp; Modeling</th>\n",
       "      <th>...</th>\n",
       "      <th>Web Publishing</th>\n",
       "      <th>Education</th>\n",
       "      <th>Software Training</th>\n",
       "      <th>Sexual Content</th>\n",
       "      <th>Audio Production</th>\n",
       "      <th>Game Development</th>\n",
       "      <th>Photo Editing</th>\n",
       "      <th>Accounting</th>\n",
       "      <th>Documentary</th>\n",
       "      <th>Tutorial</th>\n",
       "    </tr>\n",
       "  </thead>\n",
       "  <tbody>\n",
       "    <tr>\n",
       "      <th>0</th>\n",
       "      <td>204100</td>\n",
       "      <td>76561198255525846</td>\n",
       "      <td>True</td>\n",
       "      <td>1</td>\n",
       "      <td>0</td>\n",
       "      <td>0</td>\n",
       "      <td>0</td>\n",
       "      <td>0</td>\n",
       "      <td>0</td>\n",
       "      <td>0</td>\n",
       "      <td>...</td>\n",
       "      <td>0</td>\n",
       "      <td>0</td>\n",
       "      <td>0</td>\n",
       "      <td>0</td>\n",
       "      <td>0</td>\n",
       "      <td>0</td>\n",
       "      <td>0</td>\n",
       "      <td>0</td>\n",
       "      <td>0</td>\n",
       "      <td>0</td>\n",
       "    </tr>\n",
       "    <tr>\n",
       "      <th>1</th>\n",
       "      <td>204100</td>\n",
       "      <td>76561198058159765</td>\n",
       "      <td>True</td>\n",
       "      <td>1</td>\n",
       "      <td>0</td>\n",
       "      <td>0</td>\n",
       "      <td>0</td>\n",
       "      <td>0</td>\n",
       "      <td>0</td>\n",
       "      <td>0</td>\n",
       "      <td>...</td>\n",
       "      <td>0</td>\n",
       "      <td>0</td>\n",
       "      <td>0</td>\n",
       "      <td>0</td>\n",
       "      <td>0</td>\n",
       "      <td>0</td>\n",
       "      <td>0</td>\n",
       "      <td>0</td>\n",
       "      <td>0</td>\n",
       "      <td>0</td>\n",
       "    </tr>\n",
       "    <tr>\n",
       "      <th>2</th>\n",
       "      <td>204100</td>\n",
       "      <td>76561198372464367</td>\n",
       "      <td>True</td>\n",
       "      <td>1</td>\n",
       "      <td>0</td>\n",
       "      <td>0</td>\n",
       "      <td>0</td>\n",
       "      <td>0</td>\n",
       "      <td>0</td>\n",
       "      <td>0</td>\n",
       "      <td>...</td>\n",
       "      <td>0</td>\n",
       "      <td>0</td>\n",
       "      <td>0</td>\n",
       "      <td>0</td>\n",
       "      <td>0</td>\n",
       "      <td>0</td>\n",
       "      <td>0</td>\n",
       "      <td>0</td>\n",
       "      <td>0</td>\n",
       "      <td>0</td>\n",
       "    </tr>\n",
       "    <tr>\n",
       "      <th>3</th>\n",
       "      <td>204100</td>\n",
       "      <td>76561198126769984</td>\n",
       "      <td>True</td>\n",
       "      <td>1</td>\n",
       "      <td>0</td>\n",
       "      <td>0</td>\n",
       "      <td>0</td>\n",
       "      <td>0</td>\n",
       "      <td>0</td>\n",
       "      <td>0</td>\n",
       "      <td>...</td>\n",
       "      <td>0</td>\n",
       "      <td>0</td>\n",
       "      <td>0</td>\n",
       "      <td>0</td>\n",
       "      <td>0</td>\n",
       "      <td>0</td>\n",
       "      <td>0</td>\n",
       "      <td>0</td>\n",
       "      <td>0</td>\n",
       "      <td>0</td>\n",
       "    </tr>\n",
       "    <tr>\n",
       "      <th>4</th>\n",
       "      <td>204100</td>\n",
       "      <td>76561198090877508</td>\n",
       "      <td>True</td>\n",
       "      <td>1</td>\n",
       "      <td>0</td>\n",
       "      <td>0</td>\n",
       "      <td>0</td>\n",
       "      <td>0</td>\n",
       "      <td>0</td>\n",
       "      <td>0</td>\n",
       "      <td>...</td>\n",
       "      <td>0</td>\n",
       "      <td>0</td>\n",
       "      <td>0</td>\n",
       "      <td>0</td>\n",
       "      <td>0</td>\n",
       "      <td>0</td>\n",
       "      <td>0</td>\n",
       "      <td>0</td>\n",
       "      <td>0</td>\n",
       "      <td>0</td>\n",
       "    </tr>\n",
       "    <tr>\n",
       "      <th>...</th>\n",
       "      <td>...</td>\n",
       "      <td>...</td>\n",
       "      <td>...</td>\n",
       "      <td>...</td>\n",
       "      <td>...</td>\n",
       "      <td>...</td>\n",
       "      <td>...</td>\n",
       "      <td>...</td>\n",
       "      <td>...</td>\n",
       "      <td>...</td>\n",
       "      <td>...</td>\n",
       "      <td>...</td>\n",
       "      <td>...</td>\n",
       "      <td>...</td>\n",
       "      <td>...</td>\n",
       "      <td>...</td>\n",
       "      <td>...</td>\n",
       "      <td>...</td>\n",
       "      <td>...</td>\n",
       "      <td>...</td>\n",
       "      <td>...</td>\n",
       "    </tr>\n",
       "    <tr>\n",
       "      <th>308519</th>\n",
       "      <td>598980</td>\n",
       "      <td>76561198065227706</td>\n",
       "      <td>True</td>\n",
       "      <td>0</td>\n",
       "      <td>0</td>\n",
       "      <td>0</td>\n",
       "      <td>1</td>\n",
       "      <td>1</td>\n",
       "      <td>0</td>\n",
       "      <td>0</td>\n",
       "      <td>...</td>\n",
       "      <td>0</td>\n",
       "      <td>0</td>\n",
       "      <td>0</td>\n",
       "      <td>0</td>\n",
       "      <td>0</td>\n",
       "      <td>0</td>\n",
       "      <td>0</td>\n",
       "      <td>0</td>\n",
       "      <td>0</td>\n",
       "      <td>0</td>\n",
       "    </tr>\n",
       "    <tr>\n",
       "      <th>308520</th>\n",
       "      <td>598980</td>\n",
       "      <td>76561198153693572</td>\n",
       "      <td>True</td>\n",
       "      <td>0</td>\n",
       "      <td>0</td>\n",
       "      <td>0</td>\n",
       "      <td>1</td>\n",
       "      <td>1</td>\n",
       "      <td>0</td>\n",
       "      <td>0</td>\n",
       "      <td>...</td>\n",
       "      <td>0</td>\n",
       "      <td>0</td>\n",
       "      <td>0</td>\n",
       "      <td>0</td>\n",
       "      <td>0</td>\n",
       "      <td>0</td>\n",
       "      <td>0</td>\n",
       "      <td>0</td>\n",
       "      <td>0</td>\n",
       "      <td>0</td>\n",
       "    </tr>\n",
       "    <tr>\n",
       "      <th>308521</th>\n",
       "      <td>597970</td>\n",
       "      <td>76561198030747313</td>\n",
       "      <td>True</td>\n",
       "      <td>0</td>\n",
       "      <td>0</td>\n",
       "      <td>1</td>\n",
       "      <td>0</td>\n",
       "      <td>1</td>\n",
       "      <td>0</td>\n",
       "      <td>0</td>\n",
       "      <td>...</td>\n",
       "      <td>0</td>\n",
       "      <td>0</td>\n",
       "      <td>0</td>\n",
       "      <td>0</td>\n",
       "      <td>0</td>\n",
       "      <td>0</td>\n",
       "      <td>0</td>\n",
       "      <td>0</td>\n",
       "      <td>0</td>\n",
       "      <td>0</td>\n",
       "    </tr>\n",
       "    <tr>\n",
       "      <th>308522</th>\n",
       "      <td>597970</td>\n",
       "      <td>76561197985682990</td>\n",
       "      <td>True</td>\n",
       "      <td>0</td>\n",
       "      <td>0</td>\n",
       "      <td>1</td>\n",
       "      <td>0</td>\n",
       "      <td>1</td>\n",
       "      <td>0</td>\n",
       "      <td>0</td>\n",
       "      <td>...</td>\n",
       "      <td>0</td>\n",
       "      <td>0</td>\n",
       "      <td>0</td>\n",
       "      <td>0</td>\n",
       "      <td>0</td>\n",
       "      <td>0</td>\n",
       "      <td>0</td>\n",
       "      <td>0</td>\n",
       "      <td>0</td>\n",
       "      <td>0</td>\n",
       "    </tr>\n",
       "    <tr>\n",
       "      <th>308523</th>\n",
       "      <td>597970</td>\n",
       "      <td>76561197991784193</td>\n",
       "      <td>True</td>\n",
       "      <td>0</td>\n",
       "      <td>0</td>\n",
       "      <td>1</td>\n",
       "      <td>0</td>\n",
       "      <td>1</td>\n",
       "      <td>0</td>\n",
       "      <td>0</td>\n",
       "      <td>...</td>\n",
       "      <td>0</td>\n",
       "      <td>0</td>\n",
       "      <td>0</td>\n",
       "      <td>0</td>\n",
       "      <td>0</td>\n",
       "      <td>0</td>\n",
       "      <td>0</td>\n",
       "      <td>0</td>\n",
       "      <td>0</td>\n",
       "      <td>0</td>\n",
       "    </tr>\n",
       "  </tbody>\n",
       "</table>\n",
       "<p>308524 rows × 32 columns</p>\n",
       "</div>"
      ],
      "text/plain": [
       "         appid            steamid  voted_up  Action  Free to Play  Strategy  \\\n",
       "0       204100  76561198255525846      True       1             0         0   \n",
       "1       204100  76561198058159765      True       1             0         0   \n",
       "2       204100  76561198372464367      True       1             0         0   \n",
       "3       204100  76561198126769984      True       1             0         0   \n",
       "4       204100  76561198090877508      True       1             0         0   \n",
       "...        ...                ...       ...     ...           ...       ...   \n",
       "308519  598980  76561198065227706      True       0             0         0   \n",
       "308520  598980  76561198153693572      True       0             0         0   \n",
       "308521  597970  76561198030747313      True       0             0         1   \n",
       "308522  597970  76561197985682990      True       0             0         1   \n",
       "308523  597970  76561197991784193      True       0             0         1   \n",
       "\n",
       "        Adventure  Indie  RPG  Animation & Modeling  ...  Web Publishing  \\\n",
       "0               0      0    0                     0  ...               0   \n",
       "1               0      0    0                     0  ...               0   \n",
       "2               0      0    0                     0  ...               0   \n",
       "3               0      0    0                     0  ...               0   \n",
       "4               0      0    0                     0  ...               0   \n",
       "...           ...    ...  ...                   ...  ...             ...   \n",
       "308519          1      1    0                     0  ...               0   \n",
       "308520          1      1    0                     0  ...               0   \n",
       "308521          0      1    0                     0  ...               0   \n",
       "308522          0      1    0                     0  ...               0   \n",
       "308523          0      1    0                     0  ...               0   \n",
       "\n",
       "        Education  Software Training  Sexual Content  Audio Production  \\\n",
       "0               0                  0               0                 0   \n",
       "1               0                  0               0                 0   \n",
       "2               0                  0               0                 0   \n",
       "3               0                  0               0                 0   \n",
       "4               0                  0               0                 0   \n",
       "...           ...                ...             ...               ...   \n",
       "308519          0                  0               0                 0   \n",
       "308520          0                  0               0                 0   \n",
       "308521          0                  0               0                 0   \n",
       "308522          0                  0               0                 0   \n",
       "308523          0                  0               0                 0   \n",
       "\n",
       "        Game Development  Photo Editing  Accounting  Documentary  Tutorial  \n",
       "0                      0              0           0            0         0  \n",
       "1                      0              0           0            0         0  \n",
       "2                      0              0           0            0         0  \n",
       "3                      0              0           0            0         0  \n",
       "4                      0              0           0            0         0  \n",
       "...                  ...            ...         ...          ...       ...  \n",
       "308519                 0              0           0            0         0  \n",
       "308520                 0              0           0            0         0  \n",
       "308521                 0              0           0            0         0  \n",
       "308522                 0              0           0            0         0  \n",
       "308523                 0              0           0            0         0  \n",
       "\n",
       "[308524 rows x 32 columns]"
      ]
     },
     "execution_count": 21,
     "metadata": {},
     "output_type": "execute_result"
    }
   ],
   "source": [
    "df"
   ]
  },
  {
   "cell_type": "markdown",
   "id": "7f55a6a1-2da4-4f6c-9e8c-01e936f3a7d1",
   "metadata": {},
   "source": [
    "# (A parte)\n",
    "#### apprzzamnto_genere = num_rev_pos_genere / num_rev_genere\n"
   ]
  },
  {
   "cell_type": "code",
   "execution_count": 32,
   "id": "7a7d1556-60e9-47ed-922b-1ddf1060a681",
   "metadata": {},
   "outputs": [
    {
     "data": {
      "text/plain": [
       "Action                   100.0\n",
       "Free to Play             100.0\n",
       "Game Development         100.0\n",
       "Audio Production         100.0\n",
       "Sexual Content           100.0\n",
       "Software Training        100.0\n",
       "Education                100.0\n",
       "Web Publishing           100.0\n",
       "Design & Illustration    100.0\n",
       "Utilities                100.0\n",
       "Gore                     100.0\n",
       "Early Access             100.0\n",
       "Sports                   100.0\n",
       "Nudity                   100.0\n",
       "Massively Multiplayer    100.0\n",
       "Violent                  100.0\n",
       "Racing                   100.0\n",
       "Simulation               100.0\n",
       "Casual                   100.0\n",
       "Video Production         100.0\n",
       "Animation & Modeling     100.0\n",
       "RPG                      100.0\n",
       "Indie                    100.0\n",
       "Adventure                100.0\n",
       "Strategy                 100.0\n",
       "Photo Editing            100.0\n",
       "Accounting                 NaN\n",
       "Documentary                NaN\n",
       "Tutorial                   NaN\n",
       "dtype: float64"
      ]
     },
     "execution_count": 32,
     "metadata": {},
     "output_type": "execute_result"
    }
   ],
   "source": [
    "tmp =  df[df.voted_up].sum() / df.sum() \n",
    "tmp  = tmp[3:]\n",
    "tmp = 100*tmp.sort_values(ascending=False)\n",
    "tmp"
   ]
  },
  {
   "cell_type": "markdown",
   "id": "d300bae6-3534-42e2-ba4f-07df844216fd",
   "metadata": {},
   "source": [
    "# Hypothesis 3"
   ]
  },
  {
   "cell_type": "code",
   "execution_count": 23,
   "id": "4aea9b5c-0c87-4fbd-9451-6e54275c7d0c",
   "metadata": {},
   "outputs": [],
   "source": [
    "df = df[df.voted_up]"
   ]
  },
  {
   "cell_type": "code",
   "execution_count": 24,
   "id": "6e817499-d4d2-484e-aba0-f239f8fcca52",
   "metadata": {},
   "outputs": [
    {
     "data": {
      "text/plain": [
       "386"
      ]
     },
     "execution_count": 24,
     "metadata": {},
     "output_type": "execute_result"
    }
   ],
   "source": [
    "# players that have reviewed at least N games\n",
    "N = 4\n",
    "tm1 = df.steamid.value_counts()#.sort_values(ascending=False)\n",
    "n_ga_players = tm1[df.steamid.value_counts() >= N].index\n",
    "len(n_ga_players)"
   ]
  },
  {
   "cell_type": "code",
   "execution_count": 25,
   "id": "f5245ca1-f2a6-4de8-947b-4bcdd73a4e10",
   "metadata": {},
   "outputs": [],
   "source": [
    "marchese =  df[df.steamid.apply(lambda x : x in n_ga_players)]"
   ]
  },
  {
   "cell_type": "code",
   "execution_count": 26,
   "id": "b47dd0ec-d579-4c09-bdf6-73515f14f60e",
   "metadata": {},
   "outputs": [],
   "source": [
    "marchese = marchese.groupby('steamid').sum()\n",
    "marchese = marchese.reset_index(drop=True)"
   ]
  },
  {
   "cell_type": "code",
   "execution_count": 27,
   "id": "b114c750-2c44-415d-ae65-bbb886a0a293",
   "metadata": {},
   "outputs": [],
   "source": [
    "marchese['max'] = marchese.iloc[:, 2:].max(axis=1)"
   ]
  },
  {
   "cell_type": "code",
   "execution_count": 28,
   "id": "cdada44e-6637-41f7-a1ba-cc10f9a6be0d",
   "metadata": {},
   "outputs": [],
   "source": [
    "marchese['ratio_'] = 100*marchese['max']/marchese.voted_up"
   ]
  },
  {
   "cell_type": "code",
   "execution_count": 29,
   "id": "98a93f27-6fd0-4821-accd-f866463da7d0",
   "metadata": {},
   "outputs": [
    {
     "data": {
      "text/plain": [
       "0       75.000000\n",
       "1       83.333333\n",
       "2       80.000000\n",
       "3       62.500000\n",
       "4       75.000000\n",
       "          ...    \n",
       "381     75.000000\n",
       "382     60.000000\n",
       "383    100.000000\n",
       "384    100.000000\n",
       "385    100.000000\n",
       "Name: ratio_, Length: 386, dtype: float64"
      ]
     },
     "execution_count": 29,
     "metadata": {},
     "output_type": "execute_result"
    }
   ],
   "source": [
    "marchese.ratio_"
   ]
  },
  {
   "cell_type": "code",
   "execution_count": 30,
   "id": "74d8b77b-0fa6-4276-8826-38e24e42dd03",
   "metadata": {},
   "outputs": [
    {
     "data": {
      "text/plain": [
       "(8.259844186349728, 1.2212453270876722e-15)"
      ]
     },
     "execution_count": 30,
     "metadata": {},
     "output_type": "execute_result"
    }
   ],
   "source": [
    "import scipy.stats as stats\n",
    "import math\n",
    "\n",
    "# Specify the sample mean (x_bar), the sample standard deviation (s), the mean claimed in the null-hypothesis (mu_null), and the sample size (n)\n",
    "x_bar = marchese.ratio_.mean()\n",
    "s = marchese.ratio_.std()\n",
    "mu_null = 70\n",
    "n = len(marchese.ratio_)\n",
    "\n",
    "x_bar, s, mu_null, n\n",
    "\n",
    "\n",
    "# Calculate the test statistic\n",
    "test_stat = (x_bar - mu_null)/(s/math.sqrt(n))\n",
    "\n",
    "# # Output the p-value of the test statistic (right tailed test)\n",
    "p =  1-stats.t.cdf(test_stat, n-1)\n",
    "\n",
    "test_stat, p"
   ]
  },
  {
   "cell_type": "code",
   "execution_count": null,
   "id": "397aa8fb-f81b-4d92-ae2d-1cbfc7ec2ff3",
   "metadata": {},
   "outputs": [],
   "source": []
  },
  {
   "cell_type": "code",
   "execution_count": null,
   "id": "5d8c5278-31cf-4d9d-a568-0d1b737908f7",
   "metadata": {},
   "outputs": [],
   "source": []
  },
  {
   "cell_type": "code",
   "execution_count": 31,
   "id": "acd6f245-0633-4777-98d8-98c9f9f61450",
   "metadata": {},
   "outputs": [],
   "source": [
    "# RECYCLED SNIPPETS\n",
    "# df[\"playtime_after_review\"] = df.playtime_forever - df.playtime_at_review\n",
    "# from scipy.stats import spearmanr\n",
    "# x = df.voted_up.astype(int)\n",
    "# y = df.playtime_after_review\n",
    "# r, p = spearmanr(x, y, alternative=\"greater\")\n",
    "# r, p\n",
    "# df.playtime_after_review.quantile(q=0.75)"
   ]
  },
  {
   "cell_type": "code",
   "execution_count": null,
   "id": "7a07ca56-ca5a-4141-9126-07d84fb1201e",
   "metadata": {},
   "outputs": [],
   "source": []
  },
  {
   "cell_type": "code",
   "execution_count": null,
   "id": "d4418ea8-ce04-4df4-8357-4a3a56d3d013",
   "metadata": {},
   "outputs": [],
   "source": []
  },
  {
   "cell_type": "code",
   "execution_count": null,
   "id": "6853352d-f680-4fa6-af05-bd14fa0f80a0",
   "metadata": {},
   "outputs": [],
   "source": [
    "\n"
   ]
  },
  {
   "cell_type": "code",
   "execution_count": null,
   "id": "7e359b42-01a2-4e74-9d93-b926299984cc",
   "metadata": {},
   "outputs": [],
   "source": []
  },
  {
   "cell_type": "code",
   "execution_count": null,
   "id": "9e1b144b-144b-48a8-b2f3-25421a131245",
   "metadata": {},
   "outputs": [],
   "source": []
  },
  {
   "cell_type": "code",
   "execution_count": null,
   "id": "c52e3a34-6819-4d78-9c5c-6933cdb8ea3b",
   "metadata": {},
   "outputs": [],
   "source": []
  },
  {
   "cell_type": "code",
   "execution_count": null,
   "id": "0b747b17-844e-428a-9147-d4107bc1dcbc",
   "metadata": {},
   "outputs": [],
   "source": []
  }
 ],
 "metadata": {
  "kernelspec": {
   "display_name": "Python 3 (ipykernel)",
   "language": "python",
   "name": "python3"
  },
  "language_info": {
   "codemirror_mode": {
    "name": "ipython",
    "version": 3
   },
   "file_extension": ".py",
   "mimetype": "text/x-python",
   "name": "python",
   "nbconvert_exporter": "python",
   "pygments_lexer": "ipython3",
   "version": "3.8.10"
  }
 },
 "nbformat": 4,
 "nbformat_minor": 5
}
